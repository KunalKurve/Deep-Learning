{
 "cells": [
  {
   "cell_type": "markdown",
   "id": "6d050a44-3512-439c-9d04-96e2179bfdc3",
   "metadata": {},
   "source": [
    "#### Deep Neural Network\n",
    "#### Session 1 \n",
    "\n",
    "### MP Neuron"
   ]
  },
  {
   "cell_type": "code",
   "execution_count": 1,
   "id": "dd7a042b-dc7f-4302-8677-ab92cd3aa9c5",
   "metadata": {},
   "outputs": [],
   "source": [
    "import os\n",
    "import sys\n",
    "sys.path.insert(0, r'G:\\My Drive\\DNN')\n",
    "import numpy as np\n",
    "import pandas as pd\n",
    "import matplotlib.pyplot as plt\n",
    "from sklearn import datasets\n",
    "\n",
    "import seaborn as sns\n",
    "from sklearn.metrics import accuracy_score"
   ]
  },
  {
   "cell_type": "markdown",
   "id": "f1b04e2e-31e8-43e3-909a-59c7e0bc33d4",
   "metadata": {},
   "source": [
    "### Setup Global Parameters"
   ]
  },
  {
   "cell_type": "code",
   "execution_count": 2,
   "id": "5c8cf1d0-8d9c-4b6a-88eb-b6c76dcca62d",
   "metadata": {},
   "outputs": [],
   "source": [
    "RANDOM_STATE = 24\n",
    "np.random.seed(RANDOM_STATE)\n",
    "rng = np.random.default_rng(seed=RANDOM_STATE)"
   ]
  },
  {
   "cell_type": "code",
   "execution_count": 3,
   "id": "9bd9427c-848e-4856-a313-0a876e3b4c29",
   "metadata": {},
   "outputs": [],
   "source": [
    "NOISE = 0.2\n",
    "EPOCHS = 200\n",
    "ALPHA = 0.1\n",
    "N_SAMPLES = 1000"
   ]
  },
  {
   "cell_type": "code",
   "execution_count": 4,
   "id": "0fa4a828-37ba-42e3-9523-7e642abb580c",
   "metadata": {},
   "outputs": [],
   "source": [
    "params = {\n",
    "    'legend.fontsize': 'medium',\n",
    "    'figure.figsize': (10, 6),\n",
    "      'axes.labelsize': 'large',\n",
    "      'axes.titlesize':'large',\n",
    "      'xtick.labelsize':'large',\n",
    "      'ytick.labelsize':'large'\n",
    "}"
   ]
  },
  {
   "cell_type": "code",
   "execution_count": 5,
   "id": "3d2487d7-2025-4b54-81ce-eaa92e1b51fe",
   "metadata": {},
   "outputs": [],
   "source": [
    "plt.rcParams.update(params)\n",
    "\n",
    "CMAP = plt.cm.coolwarm\n",
    "plt.style.use('seaborn-v0_8-darkgrid') # plt.style.use('ggplot')"
   ]
  },
  {
   "cell_type": "markdown",
   "id": "389caf17-74da-4d68-85ee-bf786580c0db",
   "metadata": {},
   "source": [
    "### Generate DataSet\n",
    "\n",
    "#### Sklearn's dataset generator is good source of data for learning. To keep the example simple, I'll suggest make_moon dataset generator."
   ]
  },
  {
   "cell_type": "code",
   "execution_count": 6,
   "id": "a066d59a-80fb-4ae6-a8ea-6c8c3b4fe9d7",
   "metadata": {},
   "outputs": [
    {
     "name": "stdout",
     "output_type": "stream",
     "text": [
      "<class 'pandas.core.frame.DataFrame'>\n",
      "RangeIndex: 569 entries, 0 to 568\n",
      "Data columns (total 31 columns):\n",
      " #   Column                   Non-Null Count  Dtype\n",
      "---  ------                   --------------  -----\n",
      " 0   mean radius              569 non-null    int64\n",
      " 1   mean texture             569 non-null    int64\n",
      " 2   mean perimeter           569 non-null    int64\n",
      " 3   mean area                569 non-null    int64\n",
      " 4   mean smoothness          569 non-null    int64\n",
      " 5   mean compactness         569 non-null    int64\n",
      " 6   mean concavity           569 non-null    int64\n",
      " 7   mean concave points      569 non-null    int64\n",
      " 8   mean symmetry            569 non-null    int64\n",
      " 9   mean fractal dimension   569 non-null    int64\n",
      " 10  radius error             569 non-null    int64\n",
      " 11  texture error            569 non-null    int64\n",
      " 12  perimeter error          569 non-null    int64\n",
      " 13  area error               569 non-null    int64\n",
      " 14  smoothness error         569 non-null    int64\n",
      " 15  compactness error        569 non-null    int64\n",
      " 16  concavity error          569 non-null    int64\n",
      " 17  concave points error     569 non-null    int64\n",
      " 18  symmetry error           569 non-null    int64\n",
      " 19  fractal dimension error  569 non-null    int64\n",
      " 20  worst radius             569 non-null    int64\n",
      " 21  worst texture            569 non-null    int64\n",
      " 22  worst perimeter          569 non-null    int64\n",
      " 23  worst area               569 non-null    int64\n",
      " 24  worst smoothness         569 non-null    int64\n",
      " 25  worst compactness        569 non-null    int64\n",
      " 26  worst concavity          569 non-null    int64\n",
      " 27  worst concave points     569 non-null    int64\n",
      " 28  worst symmetry           569 non-null    int64\n",
      " 29  worst fractal dimension  569 non-null    int64\n",
      " 30  target                   569 non-null    int64\n",
      "dtypes: int64(31)\n",
      "memory usage: 137.9 KB\n"
     ]
    }
   ],
   "source": [
    "data_df = pd.read_csv(r\"..\\input\\breast_cancer_mod.csv\")\n",
    "data_df.info()"
   ]
  },
  {
   "cell_type": "markdown",
   "id": "6333b8eb-8b84-491b-8101-9c0df357a133",
   "metadata": {},
   "source": [
    "### Visualisation"
   ]
  },
  {
   "cell_type": "code",
   "execution_count": 7,
   "id": "f4496848-bc00-42a5-ba93-b7ec409f33b0",
   "metadata": {},
   "outputs": [
    {
     "data": {
      "text/plain": [
       "target\n",
       "1    357\n",
       "0    212\n",
       "Name: count, dtype: int64"
      ]
     },
     "execution_count": 7,
     "metadata": {},
     "output_type": "execute_result"
    }
   ],
   "source": [
    "data_df['target'].value_counts()"
   ]
  },
  {
   "cell_type": "code",
   "execution_count": 8,
   "id": "c6fd4e0e-4a5b-47b5-ba48-ac8825cef159",
   "metadata": {},
   "outputs": [
    {
     "name": "stdout",
     "output_type": "stream",
     "text": [
      "<class 'pandas.core.frame.DataFrame'>\n",
      "RangeIndex: 569 entries, 0 to 568\n",
      "Data columns (total 31 columns):\n",
      " #   Column                   Non-Null Count  Dtype\n",
      "---  ------                   --------------  -----\n",
      " 0   mean radius              569 non-null    int64\n",
      " 1   mean texture             569 non-null    int64\n",
      " 2   mean perimeter           569 non-null    int64\n",
      " 3   mean area                569 non-null    int64\n",
      " 4   mean smoothness          569 non-null    int64\n",
      " 5   mean compactness         569 non-null    int64\n",
      " 6   mean concavity           569 non-null    int64\n",
      " 7   mean concave points      569 non-null    int64\n",
      " 8   mean symmetry            569 non-null    int64\n",
      " 9   mean fractal dimension   569 non-null    int64\n",
      " 10  radius error             569 non-null    int64\n",
      " 11  texture error            569 non-null    int64\n",
      " 12  perimeter error          569 non-null    int64\n",
      " 13  area error               569 non-null    int64\n",
      " 14  smoothness error         569 non-null    int64\n",
      " 15  compactness error        569 non-null    int64\n",
      " 16  concavity error          569 non-null    int64\n",
      " 17  concave points error     569 non-null    int64\n",
      " 18  symmetry error           569 non-null    int64\n",
      " 19  fractal dimension error  569 non-null    int64\n",
      " 20  worst radius             569 non-null    int64\n",
      " 21  worst texture            569 non-null    int64\n",
      " 22  worst perimeter          569 non-null    int64\n",
      " 23  worst area               569 non-null    int64\n",
      " 24  worst smoothness         569 non-null    int64\n",
      " 25  worst compactness        569 non-null    int64\n",
      " 26  worst concavity          569 non-null    int64\n",
      " 27  worst concave points     569 non-null    int64\n",
      " 28  worst symmetry           569 non-null    int64\n",
      " 29  worst fractal dimension  569 non-null    int64\n",
      " 30  target                   569 non-null    int64\n",
      "dtypes: int64(31)\n",
      "memory usage: 137.9 KB\n"
     ]
    }
   ],
   "source": [
    "data_df.info()"
   ]
  },
  {
   "cell_type": "code",
   "execution_count": 9,
   "id": "60f4f9f4-bb23-4dd9-890b-0b01fa6d7749",
   "metadata": {},
   "outputs": [
    {
     "data": {
      "text/html": [
       "<div>\n",
       "<style scoped>\n",
       "    .dataframe tbody tr th:only-of-type {\n",
       "        vertical-align: middle;\n",
       "    }\n",
       "\n",
       "    .dataframe tbody tr th {\n",
       "        vertical-align: top;\n",
       "    }\n",
       "\n",
       "    .dataframe thead th {\n",
       "        text-align: right;\n",
       "    }\n",
       "</style>\n",
       "<table border=\"1\" class=\"dataframe\">\n",
       "  <thead>\n",
       "    <tr style=\"text-align: right;\">\n",
       "      <th></th>\n",
       "      <th>mean radius</th>\n",
       "      <th>mean texture</th>\n",
       "      <th>mean perimeter</th>\n",
       "      <th>mean area</th>\n",
       "      <th>mean smoothness</th>\n",
       "      <th>mean compactness</th>\n",
       "      <th>mean concavity</th>\n",
       "      <th>mean concave points</th>\n",
       "      <th>mean symmetry</th>\n",
       "      <th>mean fractal dimension</th>\n",
       "      <th>...</th>\n",
       "      <th>worst texture</th>\n",
       "      <th>worst perimeter</th>\n",
       "      <th>worst area</th>\n",
       "      <th>worst smoothness</th>\n",
       "      <th>worst compactness</th>\n",
       "      <th>worst concavity</th>\n",
       "      <th>worst concave points</th>\n",
       "      <th>worst symmetry</th>\n",
       "      <th>worst fractal dimension</th>\n",
       "      <th>target</th>\n",
       "    </tr>\n",
       "  </thead>\n",
       "  <tbody>\n",
       "    <tr>\n",
       "      <th>count</th>\n",
       "      <td>569.000000</td>\n",
       "      <td>569.000000</td>\n",
       "      <td>569.000000</td>\n",
       "      <td>569.000000</td>\n",
       "      <td>569.000000</td>\n",
       "      <td>569.000000</td>\n",
       "      <td>569.000000</td>\n",
       "      <td>569.000000</td>\n",
       "      <td>569.000000</td>\n",
       "      <td>569.000000</td>\n",
       "      <td>...</td>\n",
       "      <td>569.000000</td>\n",
       "      <td>569.000000</td>\n",
       "      <td>569.000000</td>\n",
       "      <td>569.000000</td>\n",
       "      <td>569.000000</td>\n",
       "      <td>569.000000</td>\n",
       "      <td>569.000000</td>\n",
       "      <td>569.000000</td>\n",
       "      <td>569.00000</td>\n",
       "      <td>569.000000</td>\n",
       "    </tr>\n",
       "    <tr>\n",
       "      <th>mean</th>\n",
       "      <td>0.820738</td>\n",
       "      <td>0.880492</td>\n",
       "      <td>0.827768</td>\n",
       "      <td>0.954306</td>\n",
       "      <td>0.811951</td>\n",
       "      <td>0.910369</td>\n",
       "      <td>0.917399</td>\n",
       "      <td>0.899824</td>\n",
       "      <td>0.831283</td>\n",
       "      <td>0.927944</td>\n",
       "      <td>...</td>\n",
       "      <td>0.790861</td>\n",
       "      <td>0.868190</td>\n",
       "      <td>0.966608</td>\n",
       "      <td>0.762742</td>\n",
       "      <td>0.942004</td>\n",
       "      <td>0.926186</td>\n",
       "      <td>0.678383</td>\n",
       "      <td>0.956063</td>\n",
       "      <td>0.97891</td>\n",
       "      <td>0.627417</td>\n",
       "    </tr>\n",
       "    <tr>\n",
       "      <th>std</th>\n",
       "      <td>0.383909</td>\n",
       "      <td>0.324671</td>\n",
       "      <td>0.377914</td>\n",
       "      <td>0.209005</td>\n",
       "      <td>0.391095</td>\n",
       "      <td>0.285904</td>\n",
       "      <td>0.275520</td>\n",
       "      <td>0.300498</td>\n",
       "      <td>0.374831</td>\n",
       "      <td>0.258809</td>\n",
       "      <td>...</td>\n",
       "      <td>0.407052</td>\n",
       "      <td>0.338582</td>\n",
       "      <td>0.179816</td>\n",
       "      <td>0.425776</td>\n",
       "      <td>0.233942</td>\n",
       "      <td>0.261698</td>\n",
       "      <td>0.467508</td>\n",
       "      <td>0.205135</td>\n",
       "      <td>0.14381</td>\n",
       "      <td>0.483918</td>\n",
       "    </tr>\n",
       "    <tr>\n",
       "      <th>min</th>\n",
       "      <td>0.000000</td>\n",
       "      <td>0.000000</td>\n",
       "      <td>0.000000</td>\n",
       "      <td>0.000000</td>\n",
       "      <td>0.000000</td>\n",
       "      <td>0.000000</td>\n",
       "      <td>0.000000</td>\n",
       "      <td>0.000000</td>\n",
       "      <td>0.000000</td>\n",
       "      <td>0.000000</td>\n",
       "      <td>...</td>\n",
       "      <td>0.000000</td>\n",
       "      <td>0.000000</td>\n",
       "      <td>0.000000</td>\n",
       "      <td>0.000000</td>\n",
       "      <td>0.000000</td>\n",
       "      <td>0.000000</td>\n",
       "      <td>0.000000</td>\n",
       "      <td>0.000000</td>\n",
       "      <td>0.00000</td>\n",
       "      <td>0.000000</td>\n",
       "    </tr>\n",
       "    <tr>\n",
       "      <th>25%</th>\n",
       "      <td>1.000000</td>\n",
       "      <td>1.000000</td>\n",
       "      <td>1.000000</td>\n",
       "      <td>1.000000</td>\n",
       "      <td>1.000000</td>\n",
       "      <td>1.000000</td>\n",
       "      <td>1.000000</td>\n",
       "      <td>1.000000</td>\n",
       "      <td>1.000000</td>\n",
       "      <td>1.000000</td>\n",
       "      <td>...</td>\n",
       "      <td>1.000000</td>\n",
       "      <td>1.000000</td>\n",
       "      <td>1.000000</td>\n",
       "      <td>1.000000</td>\n",
       "      <td>1.000000</td>\n",
       "      <td>1.000000</td>\n",
       "      <td>0.000000</td>\n",
       "      <td>1.000000</td>\n",
       "      <td>1.00000</td>\n",
       "      <td>0.000000</td>\n",
       "    </tr>\n",
       "    <tr>\n",
       "      <th>50%</th>\n",
       "      <td>1.000000</td>\n",
       "      <td>1.000000</td>\n",
       "      <td>1.000000</td>\n",
       "      <td>1.000000</td>\n",
       "      <td>1.000000</td>\n",
       "      <td>1.000000</td>\n",
       "      <td>1.000000</td>\n",
       "      <td>1.000000</td>\n",
       "      <td>1.000000</td>\n",
       "      <td>1.000000</td>\n",
       "      <td>...</td>\n",
       "      <td>1.000000</td>\n",
       "      <td>1.000000</td>\n",
       "      <td>1.000000</td>\n",
       "      <td>1.000000</td>\n",
       "      <td>1.000000</td>\n",
       "      <td>1.000000</td>\n",
       "      <td>1.000000</td>\n",
       "      <td>1.000000</td>\n",
       "      <td>1.00000</td>\n",
       "      <td>1.000000</td>\n",
       "    </tr>\n",
       "    <tr>\n",
       "      <th>75%</th>\n",
       "      <td>1.000000</td>\n",
       "      <td>1.000000</td>\n",
       "      <td>1.000000</td>\n",
       "      <td>1.000000</td>\n",
       "      <td>1.000000</td>\n",
       "      <td>1.000000</td>\n",
       "      <td>1.000000</td>\n",
       "      <td>1.000000</td>\n",
       "      <td>1.000000</td>\n",
       "      <td>1.000000</td>\n",
       "      <td>...</td>\n",
       "      <td>1.000000</td>\n",
       "      <td>1.000000</td>\n",
       "      <td>1.000000</td>\n",
       "      <td>1.000000</td>\n",
       "      <td>1.000000</td>\n",
       "      <td>1.000000</td>\n",
       "      <td>1.000000</td>\n",
       "      <td>1.000000</td>\n",
       "      <td>1.00000</td>\n",
       "      <td>1.000000</td>\n",
       "    </tr>\n",
       "    <tr>\n",
       "      <th>max</th>\n",
       "      <td>1.000000</td>\n",
       "      <td>1.000000</td>\n",
       "      <td>1.000000</td>\n",
       "      <td>1.000000</td>\n",
       "      <td>1.000000</td>\n",
       "      <td>1.000000</td>\n",
       "      <td>1.000000</td>\n",
       "      <td>1.000000</td>\n",
       "      <td>1.000000</td>\n",
       "      <td>1.000000</td>\n",
       "      <td>...</td>\n",
       "      <td>1.000000</td>\n",
       "      <td>1.000000</td>\n",
       "      <td>1.000000</td>\n",
       "      <td>1.000000</td>\n",
       "      <td>1.000000</td>\n",
       "      <td>1.000000</td>\n",
       "      <td>1.000000</td>\n",
       "      <td>1.000000</td>\n",
       "      <td>1.00000</td>\n",
       "      <td>1.000000</td>\n",
       "    </tr>\n",
       "  </tbody>\n",
       "</table>\n",
       "<p>8 rows × 31 columns</p>\n",
       "</div>"
      ],
      "text/plain": [
       "       mean radius  mean texture  mean perimeter   mean area  mean smoothness  \\\n",
       "count   569.000000    569.000000      569.000000  569.000000       569.000000   \n",
       "mean      0.820738      0.880492        0.827768    0.954306         0.811951   \n",
       "std       0.383909      0.324671        0.377914    0.209005         0.391095   \n",
       "min       0.000000      0.000000        0.000000    0.000000         0.000000   \n",
       "25%       1.000000      1.000000        1.000000    1.000000         1.000000   \n",
       "50%       1.000000      1.000000        1.000000    1.000000         1.000000   \n",
       "75%       1.000000      1.000000        1.000000    1.000000         1.000000   \n",
       "max       1.000000      1.000000        1.000000    1.000000         1.000000   \n",
       "\n",
       "       mean compactness  mean concavity  mean concave points  mean symmetry  \\\n",
       "count        569.000000      569.000000           569.000000     569.000000   \n",
       "mean           0.910369        0.917399             0.899824       0.831283   \n",
       "std            0.285904        0.275520             0.300498       0.374831   \n",
       "min            0.000000        0.000000             0.000000       0.000000   \n",
       "25%            1.000000        1.000000             1.000000       1.000000   \n",
       "50%            1.000000        1.000000             1.000000       1.000000   \n",
       "75%            1.000000        1.000000             1.000000       1.000000   \n",
       "max            1.000000        1.000000             1.000000       1.000000   \n",
       "\n",
       "       mean fractal dimension  ...  worst texture  worst perimeter  \\\n",
       "count              569.000000  ...     569.000000       569.000000   \n",
       "mean                 0.927944  ...       0.790861         0.868190   \n",
       "std                  0.258809  ...       0.407052         0.338582   \n",
       "min                  0.000000  ...       0.000000         0.000000   \n",
       "25%                  1.000000  ...       1.000000         1.000000   \n",
       "50%                  1.000000  ...       1.000000         1.000000   \n",
       "75%                  1.000000  ...       1.000000         1.000000   \n",
       "max                  1.000000  ...       1.000000         1.000000   \n",
       "\n",
       "       worst area  worst smoothness  worst compactness  worst concavity  \\\n",
       "count  569.000000        569.000000         569.000000       569.000000   \n",
       "mean     0.966608          0.762742           0.942004         0.926186   \n",
       "std      0.179816          0.425776           0.233942         0.261698   \n",
       "min      0.000000          0.000000           0.000000         0.000000   \n",
       "25%      1.000000          1.000000           1.000000         1.000000   \n",
       "50%      1.000000          1.000000           1.000000         1.000000   \n",
       "75%      1.000000          1.000000           1.000000         1.000000   \n",
       "max      1.000000          1.000000           1.000000         1.000000   \n",
       "\n",
       "       worst concave points  worst symmetry  worst fractal dimension  \\\n",
       "count            569.000000      569.000000                569.00000   \n",
       "mean               0.678383        0.956063                  0.97891   \n",
       "std                0.467508        0.205135                  0.14381   \n",
       "min                0.000000        0.000000                  0.00000   \n",
       "25%                0.000000        1.000000                  1.00000   \n",
       "50%                1.000000        1.000000                  1.00000   \n",
       "75%                1.000000        1.000000                  1.00000   \n",
       "max                1.000000        1.000000                  1.00000   \n",
       "\n",
       "           target  \n",
       "count  569.000000  \n",
       "mean     0.627417  \n",
       "std      0.483918  \n",
       "min      0.000000  \n",
       "25%      0.000000  \n",
       "50%      1.000000  \n",
       "75%      1.000000  \n",
       "max      1.000000  \n",
       "\n",
       "[8 rows x 31 columns]"
      ]
     },
     "execution_count": 9,
     "metadata": {},
     "output_type": "execute_result"
    }
   ],
   "source": [
    "data_df.describe()"
   ]
  },
  {
   "cell_type": "code",
   "execution_count": 10,
   "id": "3e80e421-ef13-4f56-bb5b-3f0c894672a6",
   "metadata": {},
   "outputs": [
    {
     "data": {
      "text/plain": [
       "array([0, 1], dtype=int64)"
      ]
     },
     "execution_count": 10,
     "metadata": {},
     "output_type": "execute_result"
    }
   ],
   "source": [
    "data_df.target.unique()"
   ]
  },
  {
   "cell_type": "code",
   "execution_count": 11,
   "id": "e9d40629-185d-494d-b2f1-11fe0c00bbc2",
   "metadata": {},
   "outputs": [
    {
     "data": {
      "image/png": "[encoded data removed]",
      "text/plain": [
       "<Figure size 800x600 with 1 Axes>"
      ]
     },
     "metadata": {},
     "output_type": "display_data"
    }
   ],
   "source": [
    "fig, ax = plt.subplots(figsize=(8,6)) #instantiate\n",
    "data_df['target'].value_counts().plot(ax=ax, kind='bar');"
   ]
  },
  {
   "cell_type": "code",
   "execution_count": 12,
   "id": "edc4e34a-fbc4-430b-9bac-cf0123810e46",
   "metadata": {},
   "outputs": [],
   "source": [
    "from sklearn.model_selection import train_test_split\n",
    "\n",
    "TEST_SIZE = 0.2\n",
    "\n",
    "features_df = data_df.drop('target', axis=1)\n",
    "\n",
    "labels = data_df['target']\n",
    "\n",
    "X_train, X_test, y_train, y_test = train_test_split(features_df, labels, test_size = TEST_SIZE, random_state=RANDOM_STATE, stratify=labels)"
   ]
  },
  {
   "cell_type": "code",
   "execution_count": 13,
   "id": "5a714f18",
   "metadata": {},
   "outputs": [
    {
     "data": {
      "text/html": [
       "<div>\n",
       "<style scoped>\n",
       "    .dataframe tbody tr th:only-of-type {\n",
       "        vertical-align: middle;\n",
       "    }\n",
       "\n",
       "    .dataframe tbody tr th {\n",
       "        vertical-align: top;\n",
       "    }\n",
       "\n",
       "    .dataframe thead th {\n",
       "        text-align: right;\n",
       "    }\n",
       "</style>\n",
       "<table border=\"1\" class=\"dataframe\">\n",
       "  <thead>\n",
       "    <tr style=\"text-align: right;\">\n",
       "      <th></th>\n",
       "      <th>mean radius</th>\n",
       "      <th>mean texture</th>\n",
       "      <th>mean perimeter</th>\n",
       "      <th>mean area</th>\n",
       "      <th>mean smoothness</th>\n",
       "      <th>mean compactness</th>\n",
       "      <th>mean concavity</th>\n",
       "      <th>mean concave points</th>\n",
       "      <th>mean symmetry</th>\n",
       "      <th>mean fractal dimension</th>\n",
       "      <th>...</th>\n",
       "      <th>worst perimeter</th>\n",
       "      <th>worst area</th>\n",
       "      <th>worst smoothness</th>\n",
       "      <th>worst compactness</th>\n",
       "      <th>worst concavity</th>\n",
       "      <th>worst concave points</th>\n",
       "      <th>worst symmetry</th>\n",
       "      <th>worst fractal dimension</th>\n",
       "      <th>total</th>\n",
       "      <th>target</th>\n",
       "    </tr>\n",
       "  </thead>\n",
       "  <tbody>\n",
       "    <tr>\n",
       "      <th>0</th>\n",
       "      <td>0</td>\n",
       "      <td>0</td>\n",
       "      <td>0</td>\n",
       "      <td>0</td>\n",
       "      <td>0</td>\n",
       "      <td>0</td>\n",
       "      <td>0</td>\n",
       "      <td>0</td>\n",
       "      <td>0</td>\n",
       "      <td>1</td>\n",
       "      <td>...</td>\n",
       "      <td>0</td>\n",
       "      <td>0</td>\n",
       "      <td>1</td>\n",
       "      <td>1</td>\n",
       "      <td>0</td>\n",
       "      <td>0</td>\n",
       "      <td>1</td>\n",
       "      <td>1</td>\n",
       "      <td>12</td>\n",
       "      <td>0</td>\n",
       "    </tr>\n",
       "    <tr>\n",
       "      <th>2</th>\n",
       "      <td>0</td>\n",
       "      <td>1</td>\n",
       "      <td>0</td>\n",
       "      <td>1</td>\n",
       "      <td>0</td>\n",
       "      <td>0</td>\n",
       "      <td>0</td>\n",
       "      <td>0</td>\n",
       "      <td>0</td>\n",
       "      <td>0</td>\n",
       "      <td>...</td>\n",
       "      <td>0</td>\n",
       "      <td>1</td>\n",
       "      <td>0</td>\n",
       "      <td>0</td>\n",
       "      <td>0</td>\n",
       "      <td>0</td>\n",
       "      <td>0</td>\n",
       "      <td>1</td>\n",
       "      <td>13</td>\n",
       "      <td>0</td>\n",
       "    </tr>\n",
       "    <tr>\n",
       "      <th>1</th>\n",
       "      <td>0</td>\n",
       "      <td>1</td>\n",
       "      <td>0</td>\n",
       "      <td>0</td>\n",
       "      <td>0</td>\n",
       "      <td>0</td>\n",
       "      <td>0</td>\n",
       "      <td>0</td>\n",
       "      <td>0</td>\n",
       "      <td>1</td>\n",
       "      <td>...</td>\n",
       "      <td>0</td>\n",
       "      <td>1</td>\n",
       "      <td>0</td>\n",
       "      <td>1</td>\n",
       "      <td>1</td>\n",
       "      <td>0</td>\n",
       "      <td>1</td>\n",
       "      <td>1</td>\n",
       "      <td>13</td>\n",
       "      <td>0</td>\n",
       "    </tr>\n",
       "    <tr>\n",
       "      <th>7</th>\n",
       "      <td>0</td>\n",
       "      <td>1</td>\n",
       "      <td>0</td>\n",
       "      <td>1</td>\n",
       "      <td>0</td>\n",
       "      <td>0</td>\n",
       "      <td>0</td>\n",
       "      <td>0</td>\n",
       "      <td>0</td>\n",
       "      <td>0</td>\n",
       "      <td>...</td>\n",
       "      <td>0</td>\n",
       "      <td>1</td>\n",
       "      <td>0</td>\n",
       "      <td>0</td>\n",
       "      <td>0</td>\n",
       "      <td>0</td>\n",
       "      <td>0</td>\n",
       "      <td>1</td>\n",
       "      <td>15</td>\n",
       "      <td>0</td>\n",
       "    </tr>\n",
       "    <tr>\n",
       "      <th>6</th>\n",
       "      <td>0</td>\n",
       "      <td>0</td>\n",
       "      <td>0</td>\n",
       "      <td>1</td>\n",
       "      <td>0</td>\n",
       "      <td>0</td>\n",
       "      <td>0</td>\n",
       "      <td>0</td>\n",
       "      <td>0</td>\n",
       "      <td>1</td>\n",
       "      <td>...</td>\n",
       "      <td>0</td>\n",
       "      <td>1</td>\n",
       "      <td>0</td>\n",
       "      <td>0</td>\n",
       "      <td>0</td>\n",
       "      <td>0</td>\n",
       "      <td>1</td>\n",
       "      <td>1</td>\n",
       "      <td>15</td>\n",
       "      <td>0</td>\n",
       "    </tr>\n",
       "  </tbody>\n",
       "</table>\n",
       "<p>5 rows × 32 columns</p>\n",
       "</div>"
      ],
      "text/plain": [
       "   mean radius  mean texture  mean perimeter  mean area  mean smoothness  \\\n",
       "0            0             0               0          0                0   \n",
       "2            0             1               0          1                0   \n",
       "1            0             1               0          0                0   \n",
       "7            0             1               0          1                0   \n",
       "6            0             0               0          1                0   \n",
       "\n",
       "   mean compactness  mean concavity  mean concave points  mean symmetry  \\\n",
       "0                 0               0                    0              0   \n",
       "2                 0               0                    0              0   \n",
       "1                 0               0                    0              0   \n",
       "7                 0               0                    0              0   \n",
       "6                 0               0                    0              0   \n",
       "\n",
       "   mean fractal dimension  ...  worst perimeter  worst area  worst smoothness  \\\n",
       "0                       1  ...                0           0                 1   \n",
       "2                       0  ...                0           1                 0   \n",
       "1                       1  ...                0           1                 0   \n",
       "7                       0  ...                0           1                 0   \n",
       "6                       1  ...                0           1                 0   \n",
       "\n",
       "   worst compactness  worst concavity  worst concave points  worst symmetry  \\\n",
       "0                  1                0                     0               1   \n",
       "2                  0                0                     0               0   \n",
       "1                  1                1                     0               1   \n",
       "7                  0                0                     0               0   \n",
       "6                  0                0                     0               1   \n",
       "\n",
       "   worst fractal dimension  total  target  \n",
       "0                        1     12       0  \n",
       "2                        1     13       0  \n",
       "1                        1     13       0  \n",
       "7                        1     15       0  \n",
       "6                        1     15       0  \n",
       "\n",
       "[5 rows x 32 columns]"
      ]
     },
     "execution_count": 13,
     "metadata": {},
     "output_type": "execute_result"
    }
   ],
   "source": [
    "# Introducing total named column in data_df\n",
    "\n",
    "X_train['total'] = X_train.astype(np.int16).sum(axis=1)\n",
    "\n",
    "X_train['target'] = y_train\n",
    "\n",
    "X_train.sort_values('total', inplace=True)\n",
    "\n",
    "X_train.head()"
   ]
  },
  {
   "cell_type": "code",
   "execution_count": 14,
   "id": "4beafe24",
   "metadata": {},
   "outputs": [
    {
     "data": {
      "text/plain": [
       "<matplotlib.collections.PathCollection at 0x22104c59060>"
      ]
     },
     "execution_count": 14,
     "metadata": {},
     "output_type": "execute_result"
    },
    {
     "data": {
      "image/png": "[encoded data removed]",
      "text/plain": [
       "<Figure size 1000x600 with 1 Axes>"
      ]
     },
     "metadata": {},
     "output_type": "display_data"
    }
   ],
   "source": [
    "plt.scatter(X_train['total'], X_train['target'])\n"
   ]
  },
  {
   "cell_type": "code",
   "execution_count": 20,
   "id": "e2307e1b",
   "metadata": {},
   "outputs": [
    {
     "name": "stdout",
     "output_type": "stream",
     "text": [
      "target     0      1\n",
      "total              \n",
      "12       1.0    NaN\n",
      "13       2.0    NaN\n",
      "15       4.0    NaN\n",
      "16       4.0    NaN\n",
      "17       4.0    NaN\n",
      "18       2.0    NaN\n",
      "19       4.0    NaN\n",
      "20      10.0    2.0\n",
      "21       9.0    NaN\n",
      "22      11.0    NaN\n",
      "23      17.0    1.0\n",
      "24      17.0    2.0\n",
      "25      15.0    2.0\n",
      "26      12.0    3.0\n",
      "27      15.0   16.0\n",
      "28      21.0   32.0\n",
      "29      15.0   50.0\n",
      "30       7.0  177.0\n"
     ]
    },
    {
     "data": {
      "image/png": "[encoded data removed]",
      "text/plain": [
       "<Figure size 1000x600 with 1 Axes>"
      ]
     },
     "metadata": {},
     "output_type": "display_data"
    }
   ],
   "source": [
    "tmp_df = X_train.groupby(['total', 'target']).agg({'target': 'count'})\n",
    "tmp_df.columns = ['count']\n",
    "\n",
    "tmp_df.reset_index(inplace=True)\n",
    "\n",
    "print(tmp_df.pivot(index= 'total', \n",
    "             columns = 'target', \n",
    "             values = 'count'))\n",
    "\n",
    "tmp_df.pivot(index= 'total', \n",
    "             columns = 'target', \n",
    "             values = 'count').plot(kind='bar');"
   ]
  },
  {
   "cell_type": "code",
   "execution_count": 50,
   "id": "b6131e94",
   "metadata": {},
   "outputs": [],
   "source": [
    "accuracy = {}\n",
    "\n",
    "for b in range(X_train.shape[1]):\n",
    "    X_train['pred'] = X_train['total'] >= b\n",
    "    accuracy[b] = accuracy_score(X_train['target'], X_train['pred'])"
   ]
  },
  {
   "cell_type": "code",
   "execution_count": 51,
   "id": "d7211c4e",
   "metadata": {},
   "outputs": [
    {
     "name": "stdout",
     "output_type": "stream",
     "text": [
      "{0: 0.6263736263736264, 1: 0.6263736263736264, 2: 0.6263736263736264, 3: 0.6263736263736264, 4: 0.6263736263736264, 5: 0.6263736263736264, 6: 0.6263736263736264, 7: 0.6263736263736264, 8: 0.6263736263736264, 9: 0.6263736263736264, 10: 0.6263736263736264, 11: 0.6263736263736264, 12: 0.6263736263736264, 13: 0.6285714285714286, 14: 0.6329670329670329, 15: 0.6329670329670329, 16: 0.6417582417582418, 17: 0.6505494505494506, 18: 0.6593406593406593, 19: 0.6637362637362637, 20: 0.6725274725274726, 21: 0.6901098901098901, 22: 0.7098901098901099, 23: 0.734065934065934, 24: 0.7692307692307693, 25: 0.8021978021978022, 26: 0.8307692307692308, 27: 0.8505494505494505, 28: 0.8483516483516483, 29: 0.8241758241758241, 30: 0.7472527472527473, 31: 0.37362637362637363, 32: 0.37362637362637363}\n"
     ]
    }
   ],
   "source": [
    "print(accuracy)"
   ]
  },
  {
   "cell_type": "code",
   "execution_count": 60,
   "id": "80d841c5",
   "metadata": {},
   "outputs": [
    {
     "data": {
      "text/plain": [
       "27"
      ]
     },
     "execution_count": 60,
     "metadata": {},
     "output_type": "execute_result"
    }
   ],
   "source": [
    "b_best = max(accuracy, key= accuracy.get)\n",
    "b_best"
   ]
  },
  {
   "cell_type": "code",
   "execution_count": 61,
   "id": "3933ade6",
   "metadata": {},
   "outputs": [
    {
     "data": {
      "text/plain": [
       "0.8505494505494505"
      ]
     },
     "execution_count": 61,
     "metadata": {},
     "output_type": "execute_result"
    }
   ],
   "source": [
    "accuracy[27]"
   ]
  },
  {
   "cell_type": "code",
   "execution_count": 62,
   "id": "cdf4e4dc",
   "metadata": {},
   "outputs": [
    {
     "name": "stdout",
     "output_type": "stream",
     "text": [
      "Accuracy of testing is: 63.16 %\n"
     ]
    }
   ],
   "source": [
    "# Using best b calculate accuracy on test set\n",
    "\n",
    "X_test['y_pred'] = X_test['total'] >= b_best\n",
    "\n",
    "test_accuracy = accuracy_score(X_test['y_pred'], X_test['target'])\n",
    "\n",
    "print ('Accuracy of testing is: {0:4.2f} %'.format(test_accuracy*100))"
   ]
  },
  {
   "cell_type": "code",
   "execution_count": 45,
   "id": "66f79533",
   "metadata": {},
   "outputs": [
    {
     "data": {
      "text/plain": [
       "(3,)"
      ]
     },
     "execution_count": 45,
     "metadata": {},
     "output_type": "execute_result"
    }
   ],
   "source": [
    "a = np.array([1,2,3])\n",
    "a.shape"
   ]
  },
  {
   "cell_type": "code",
   "execution_count": 46,
   "id": "8bf5fe6e",
   "metadata": {},
   "outputs": [
    {
     "data": {
      "text/plain": [
       "(3,)"
      ]
     },
     "execution_count": 46,
     "metadata": {},
     "output_type": "execute_result"
    }
   ],
   "source": [
    "a.T.shape"
   ]
  },
  {
   "cell_type": "code",
   "execution_count": 48,
   "id": "55e1a1b2",
   "metadata": {},
   "outputs": [
    {
     "data": {
      "text/plain": [
       "(1, 3)"
      ]
     },
     "execution_count": 48,
     "metadata": {},
     "output_type": "execute_result"
    }
   ],
   "source": [
    "a = np.array([[1,2,3]])\n",
    "a.shape"
   ]
  },
  {
   "cell_type": "code",
   "execution_count": 49,
   "id": "69edf4d2",
   "metadata": {},
   "outputs": [
    {
     "data": {
      "text/plain": [
       "(3, 1)"
      ]
     },
     "execution_count": 49,
     "metadata": {},
     "output_type": "execute_result"
    }
   ],
   "source": [
    "a.T.shape"
   ]
  }
 ],
 "metadata": {
  "kernelspec": {
   "display_name": "Python 3 (ipykernel)",
   "language": "python",
   "name": "python3"
  },
  "language_info": {
   "codemirror_mode": {
    "name": "ipython",
    "version": 3
   },
   "file_extension": ".py",
   "mimetype": "text/x-python",
   "name": "python",
   "nbconvert_exporter": "python",
   "pygments_lexer": "ipython3",
   "version": "3.10.13"
  }
 },
 "nbformat": 4,
 "nbformat_minor": 5
}
