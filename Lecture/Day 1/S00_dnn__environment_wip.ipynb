{
  "cells": [
    {
      "cell_type": "code",
      "execution_count": 1,
      "metadata": {
        "id": "kgeyG_e-iQPi"
      },
      "outputs": [],
      "source": [
        "#!/usr/bin/env python3\n",
        "# -*- coding: utf-8 -*-"
      ]
    },
    {
      "cell_type": "markdown",
      "metadata": {
        "id": "QfNWPwLxiQPl"
      },
      "source": [
        "First line ensures that the interpreter will use the first installed version on environment's $PATH. It is called shebang and in Unix it marks as executable. Second line comment is processed as an encoding declaration.\n",
        "**Note**: Make sure that file is marked as executable otherwise you may get `Permission denied` error."
      ]
    },
    {
      "cell_type": "markdown",
      "metadata": {
        "id": "bRxTdNxPiQPo"
      },
      "source": [
        "# Deep Neural Network\n",
        "\n",
        "## Session 00\n",
        "\n",
        "\n",
        "## Create Virtual Environment\n",
        "\n",
        "<img src='../../prasami_images/prasami_color_tutorials_small.png' style = 'width:400px;' alt=\"By Pramod Sharma : pramod.sharma@prasami.com\" align=\"left\"/>"
      ]
    },
    {
      "cell_type": "markdown",
      "metadata": {
        "id": "BWwfwZR0iQPp"
      },
      "source": [
        "### Prepare Virtual environment for Machine Learning\n",
        "<div class=\"alert alert-block alert-info\" style=\"font-family: Arial; font-size:1.2em;\">\n",
        "Step 1: Update and Upgrade\n",
        "\n",
        "> `sudo apt-get update`; `sudo apt-get -y upgrade`\n",
        "\n",
        "Step 2: Check python3 version\n",
        "</div>"
      ]
    },
    {
      "cell_type": "code",
      "execution_count": 2,
      "metadata": {
        "id": "9OJN5HzFiQPq",
        "outputId": "3184600e-2445-42cb-da16-2c739e130716"
      },
      "outputs": [
        {
          "name": "stdout",
          "output_type": "stream",
          "text": [
            "Python 3.10.12\n"
          ]
        }
      ],
      "source": [
        "!python3 -V"
      ]
    },
    {
      "cell_type": "markdown",
      "metadata": {
        "id": "bcZt8EdYiQPs"
      },
      "source": [
        "<div class=\"alert alert-block alert-info\" style=\"font-family: Arial; font-size:1.2em;\">\n",
        "Step 3:Check / install pip3 latest version\n",
        "> `sudo apt-get install -y python3-pip`\n",
        "\n",
        "Step 4: Don't forget to install following to make your environment more consistent\n",
        "\n",
        "> `sudo apt-get install build-essential libssl-dev libffi-dev python3-dev`\n",
        "\n",
        "Step 5: Install python3-venv\n",
        ">`sudo apt-get install -y python3-venv`\n",
        "\n",
        "Step 6: (Important) check and see if xvfb is installed:\n",
        "> `Xvfb -help`<\n",
        "\n",
        "if not, install in main installation (outside virtual environment)\n",
        "> `sudo apt-get install xvfb`\n",
        "\n",
        "Step 7: make your environment\n",
        "\n",
        "> `python3 -m venv May2024`\n",
        "\n",
        "Step 8: activate your environment\n",
        "\n",
        "> `source May2024/bin/activate`\n",
        "\n",
        "Step 9: install required libraries\n",
        "\n",
        "> `! pip3 install -U beautifulsoup4 imageio numpy pandas matplotlib jupyterlab seaborn jupyter_contrib_nbextensions  scikit-learn scikit-image xgboost folium statsmodels tqdm opencv-contrib-python pyarrow`\n",
        "\n",
        "<b>Note</b>: -U helps upgrade all specified packages to the newest available version.\n",
        "\n",
        "Step 10: for Deep Learning - Tensorflow\n",
        "\n",
        "<b>Follow procedure given at tensorflow [site](https://www.tensorflow.org/install/pip)</b>\n",
        "\n",
        "Make sure `nvcc` is installed and `$PATH` and `$LD_LIBRARY_PATH` include reference to cuda environment\n",
        "\n",
        ">`sudo apt install nvidia-cuda-toolkit`\n",
        ">`export PATH=\"/usr/local/cuda/bin:$PATH\"`\n",
        ">`export LD_LIBRARY_PATH=\"/usr/local/cuda/lib64:$LD_LIBRARY_PATH\"`\n",
        "\n",
        "Step 11: for Deep Learning - Pytorch\n",
        "\n",
        "> `pip3 install -U torch torchvision torchaudio torchinfo`\n",
        "\n",
        "</div>"
      ]
    },
    {
      "cell_type": "markdown",
      "metadata": {
        "id": "JvFUE2lPiQPt"
      },
      "source": [
        "## Prologue"
      ]
    },
    {
      "cell_type": "code",
      "execution_count": 3,
      "metadata": {
        "id": "WIRo3r1tiQPu"
      },
      "outputs": [],
      "source": [
        "import sys\n",
        "import os\n",
        "import datetime\n",
        "import numpy as np\n",
        "import pandas as pd\n",
        "\n",
        "import matplotlib\n",
        "import sklearn\n",
        "\n",
        "import matplotlib.pyplot as plt\n",
        "\n",
        "%matplotlib inline"
      ]
    },
    {
      "cell_type": "code",
      "execution_count": 4,
      "metadata": {
        "id": "YdwMr7TpiQPv"
      },
      "outputs": [],
      "source": [
        "# at times, it makes sense to ignore irrelevant warnings\n",
        "import warnings\n",
        "\n",
        "warnings.filterwarnings('ignore')"
      ]
    },
    {
      "cell_type": "code",
      "execution_count": 5,
      "metadata": {
        "id": "eA3kowfkiQPw"
      },
      "outputs": [],
      "source": [
        "# Some Basic Directories for housekeeping\n",
        "# set location of input files:a\n",
        "inpDir = os.path.join('..', '..', 'input')\n",
        "\n",
        "outDir = os.path.join('..', 'output')\n",
        "\n",
        "# define and set random state\n",
        "RANDOM_STATE = 24\n",
        "\n",
        "np.random.seed(RANDOM_STATE) # Set Random Seed for reproducible  results"
      ]
    },
    {
      "cell_type": "code",
      "execution_count": 6,
      "metadata": {
        "id": "Q2gKd7-CiQPx",
        "outputId": "becbb81e-b348-474b-e9d7-b843b17ff444"
      },
      "outputs": [
        {
          "name": "stdout",
          "output_type": "stream",
          "text": [
            "ls: cannot access '../../input': No such file or directory\n"
          ]
        }
      ],
      "source": [
        "!ls {inpDir}"
      ]
    },
    {
      "cell_type": "code",
      "execution_count": 7,
      "metadata": {
        "id": "MsZBJkbPiQPz"
      },
      "outputs": [
        {
          "name": "stdout",
          "output_type": "stream",
          "text": [
            "ls: cannot access '../output': No such file or directory\n"
          ]
        }
      ],
      "source": [
        "!ls {outDir}"
      ]
    },
    {
      "cell_type": "code",
      "execution_count": 8,
      "metadata": {
        "id": "cGWNSstBiQPz"
      },
      "outputs": [],
      "source": [
        "# parameters for Matplotlib\n",
        "params = {'legend.fontsize': 'medium',\n",
        "          'figure.figsize': (15, 12),\n",
        "          'axes.labelsize': 'medium',\n",
        "          'axes.titlesize':'medium',\n",
        "          'xtick.labelsize':'medium',\n",
        "          'ytick.labelsize':'medium',\n",
        "          'savefig.dpi': 150,\n",
        "          'image.cmap': plt.cm.coolwarm,\n",
        "          'image.interpolation': 'none',\n",
        "          'savefig.bbox' : 'tight',\n",
        "          'lines.linewidth' : 2,\n",
        "          'legend.numpoints' : 1\n",
        "         }\n",
        "\n",
        "\n",
        "plt.rcParams.update(params)\n",
        "\n",
        "np.set_printoptions(precision=3, suppress=True)\n",
        "\n",
        "pd.set_option(\"display.max_columns\", 8)\n",
        "pd.set_option('display.precision', 2)\n",
        "\n",
        "__all__ = ['np', 'display', 'plt', 'pd', 'sklearn', 'seaborn']"
      ]
    },
    {
      "cell_type": "markdown",
      "metadata": {
        "id": "ZCJxLAi9iQP0"
      },
      "source": [
        "## Versions"
      ]
    },
    {
      "cell_type": "code",
      "execution_count": 9,
      "metadata": {
        "id": "Apf77BEoiQP0",
        "outputId": "de35a70d-ccea-4015-fb39-de64c466a465"
      },
      "outputs": [
        {
          "data": {
            "text/plain": [
              "'1.26.4'"
            ]
          },
          "execution_count": 9,
          "metadata": {},
          "output_type": "execute_result"
        }
      ],
      "source": [
        "np.__version__"
      ]
    },
    {
      "cell_type": "code",
      "execution_count": 10,
      "metadata": {
        "id": "zBnh0sc4iQP0",
        "outputId": "ea149617-e1ef-42c2-876c-15b62adcbb80"
      },
      "outputs": [
        {
          "data": {
            "text/plain": [
              "'2.2.2'"
            ]
          },
          "execution_count": 10,
          "metadata": {},
          "output_type": "execute_result"
        }
      ],
      "source": [
        "pd.__version__"
      ]
    },
    {
      "cell_type": "code",
      "execution_count": 11,
      "metadata": {
        "id": "up86r03UiQP1",
        "outputId": "6eb42a2d-13be-442d-c620-9f4344b2fc40"
      },
      "outputs": [
        {
          "data": {
            "text/plain": [
              "'3.9.0'"
            ]
          },
          "execution_count": 11,
          "metadata": {},
          "output_type": "execute_result"
        }
      ],
      "source": [
        "matplotlib.__version__"
      ]
    },
    {
      "cell_type": "code",
      "execution_count": 12,
      "metadata": {
        "id": "qe0qebTmiQP2",
        "outputId": "c8b04d63-0d6a-494f-ddee-bcb1c13dae06"
      },
      "outputs": [
        {
          "data": {
            "text/plain": [
              "'1.4.2'"
            ]
          },
          "execution_count": 12,
          "metadata": {},
          "output_type": "execute_result"
        }
      ],
      "source": [
        "sklearn.__version__"
      ]
    },
    {
      "cell_type": "markdown",
      "metadata": {
        "id": "I1aUPc-EiQP3"
      },
      "source": [
        "## Verify Tensorflow environment"
      ]
    },
    {
      "cell_type": "code",
      "execution_count": 13,
      "metadata": {
        "id": "j4DaMNZyiQP3"
      },
      "outputs": [
        {
          "name": "stderr",
          "output_type": "stream",
          "text": [
            "2024-05-18 21:40:24.101901: I tensorflow/core/util/port.cc:113] oneDNN custom operations are on. You may see slightly different numerical results due to floating-point round-off errors from different computation orders. To turn them off, set the environment variable `TF_ENABLE_ONEDNN_OPTS=0`.\n",
            "2024-05-18 21:40:24.150562: E external/local_xla/xla/stream_executor/cuda/cuda_dnn.cc:9261] Unable to register cuDNN factory: Attempting to register factory for plugin cuDNN when one has already been registered\n",
            "2024-05-18 21:40:24.150603: E external/local_xla/xla/stream_executor/cuda/cuda_fft.cc:607] Unable to register cuFFT factory: Attempting to register factory for plugin cuFFT when one has already been registered\n",
            "2024-05-18 21:40:24.151772: E external/local_xla/xla/stream_executor/cuda/cuda_blas.cc:1515] Unable to register cuBLAS factory: Attempting to register factory for plugin cuBLAS when one has already been registered\n",
            "2024-05-18 21:40:24.159674: I tensorflow/core/platform/cpu_feature_guard.cc:182] This TensorFlow binary is optimized to use available CPU instructions in performance-critical operations.\n",
            "To enable the following instructions: AVX2 AVX512F AVX512_VNNI FMA, in other operations, rebuild TensorFlow with the appropriate compiler flags.\n",
            "2024-05-18 21:40:25.178986: W tensorflow/compiler/tf2tensorrt/utils/py_utils.cc:38] TF-TRT Warning: Could not find TensorRT\n"
          ]
        }
      ],
      "source": [
        "## Import Statements\n",
        "import tensorflow as tf"
      ]
    },
    {
      "cell_type": "code",
      "execution_count": 14,
      "metadata": {
        "id": "ijCsAWlNiQP4",
        "outputId": "84e6123c-38eb-4457-9650-1f393257709c"
      },
      "outputs": [
        {
          "data": {
            "text/plain": [
              "'2.15.1'"
            ]
          },
          "execution_count": 14,
          "metadata": {},
          "output_type": "execute_result"
        }
      ],
      "source": [
        "tf.__version__"
      ]
    },
    {
      "cell_type": "code",
      "execution_count": 15,
      "metadata": {
        "id": "eHNqc_aTiQP4"
      },
      "outputs": [],
      "source": [
        "assert tf.version.VERSION.startswith('2.')"
      ]
    },
    {
      "cell_type": "code",
      "execution_count": 16,
      "metadata": {
        "id": "JZo0q1fBiQP4",
        "outputId": "80bf6b7b-4982-48e2-9ade-e804004bb1c5"
      },
      "outputs": [
        {
          "name": "stdout",
          "output_type": "stream",
          "text": [
            "Num GPUs: 0\n",
            "[]\n"
          ]
        },
        {
          "name": "stderr",
          "output_type": "stream",
          "text": [
            "2024-05-18 21:40:26.097085: E external/local_xla/xla/stream_executor/cuda/cuda_driver.cc:274] failed call to cuInit: CUDA_ERROR_NO_DEVICE: no CUDA-capable device is detected\n"
          ]
        }
      ],
      "source": [
        "physical_devices = tf.config.list_physical_devices('GPU')\n",
        "print(\"Num GPUs:\", len(physical_devices))\n",
        "print(physical_devices)"
      ]
    },
    {
      "cell_type": "code",
      "execution_count": 17,
      "metadata": {
        "id": "FRsP0gbciQP4",
        "outputId": "fffc1d1b-ba8f-4f26-e752-a66fa34a0e78"
      },
      "outputs": [
        {
          "data": {
            "text/plain": [
              "[]"
            ]
          },
          "execution_count": 17,
          "metadata": {},
          "output_type": "execute_result"
        }
      ],
      "source": [
        "tf.config.list_physical_devices('GPU')"
      ]
    },
    {
      "cell_type": "code",
      "execution_count": 18,
      "metadata": {
        "id": "qGnNFCeUiQP5",
        "outputId": "7b92844c-9e3d-42b1-ccc1-e2f3a40c6b4c"
      },
      "outputs": [
        {
          "name": "stdout",
          "output_type": "stream",
          "text": [
            "tf.Tensor(\n",
            "[[22. 28.]\n",
            " [49. 64.]], shape=(2, 2), dtype=float32)\n"
          ]
        }
      ],
      "source": [
        "with tf.device('/gpu:0'):\n",
        "    a = tf.constant([1.0, 2.0, 3.0, 4.0, 5.0, 6.0], # values\n",
        "                    shape=[2, 3],\n",
        "                    name='a',\n",
        "                    dtype=tf.float32)\n",
        "\n",
        "    b = tf.constant([1.0, 2.0, 3.0, 4.0, 5.0, 6.0],\n",
        "                    shape=[3, 2],\n",
        "                    name='b',\n",
        "                    dtype=tf.float32)\n",
        "\n",
        "    c = tf.matmul(a, b)\n",
        "\n",
        "print (c)"
      ]
    },
    {
      "cell_type": "markdown",
      "metadata": {
        "id": "taq_X5BLiQP6"
      },
      "source": [
        "## Verify pytorch installation"
      ]
    },
    {
      "cell_type": "code",
      "execution_count": 19,
      "metadata": {
        "id": "-iMpFoCyiQP6"
      },
      "outputs": [],
      "source": [
        "import torch # type: ignore"
      ]
    },
    {
      "cell_type": "code",
      "execution_count": 20,
      "metadata": {
        "id": "brLaPw50iQP6",
        "outputId": "e598c092-70b2-4df9-89e3-a471f611da0f"
      },
      "outputs": [
        {
          "data": {
            "text/plain": [
              "False"
            ]
          },
          "execution_count": 20,
          "metadata": {},
          "output_type": "execute_result"
        }
      ],
      "source": [
        "torch.cuda.is_available()"
      ]
    },
    {
      "cell_type": "code",
      "execution_count": 21,
      "metadata": {
        "id": "mptnFkGliQP6",
        "outputId": "fdddf5a0-f453-4f5d-8580-97b29bcbda22"
      },
      "outputs": [
        {
          "data": {
            "text/plain": [
              "'12.1'"
            ]
          },
          "execution_count": 21,
          "metadata": {},
          "output_type": "execute_result"
        }
      ],
      "source": [
        "torch.version.cuda"
      ]
    },
    {
      "cell_type": "code",
      "execution_count": 22,
      "metadata": {
        "id": "BQVrUFx7iQP7",
        "outputId": "e9b2b4e6-b58f-4140-cb59-51e7e1dba2f3"
      },
      "outputs": [
        {
          "data": {
            "text/plain": [
              "0"
            ]
          },
          "execution_count": 22,
          "metadata": {},
          "output_type": "execute_result"
        }
      ],
      "source": [
        "torch.cuda.device_count()"
      ]
    },
    {
      "cell_type": "code",
      "execution_count": 23,
      "metadata": {
        "id": "ZultcjBKiQP7",
        "outputId": "9e410d8e-ef8c-4966-d3ed-c9a372c89fe1"
      },
      "outputs": [
        {
          "ename": "RuntimeError",
          "evalue": "No CUDA GPUs are available",
          "output_type": "error",
          "traceback": [
            "\u001b[0;31m---------------------------------------------------------------------------\u001b[0m",
            "\u001b[0;31mRuntimeError\u001b[0m                              Traceback (most recent call last)",
            "Cell \u001b[0;32mIn[23], line 1\u001b[0m\n\u001b[0;32m----> 1\u001b[0m \u001b[43mtorch\u001b[49m\u001b[38;5;241;43m.\u001b[39;49m\u001b[43mcuda\u001b[49m\u001b[38;5;241;43m.\u001b[39;49m\u001b[43mget_device_name\u001b[49m\u001b[43m(\u001b[49m\u001b[38;5;241;43m0\u001b[39;49m\u001b[43m)\u001b[49m\n",
            "File \u001b[0;32m~/.local/lib/python3.10/site-packages/torch/cuda/__init__.py:414\u001b[0m, in \u001b[0;36mget_device_name\u001b[0;34m(device)\u001b[0m\n\u001b[1;32m    402\u001b[0m \u001b[38;5;28;01mdef\u001b[39;00m \u001b[38;5;21mget_device_name\u001b[39m(device: Optional[_device_t] \u001b[38;5;241m=\u001b[39m \u001b[38;5;28;01mNone\u001b[39;00m) \u001b[38;5;241m-\u001b[39m\u001b[38;5;241m>\u001b[39m \u001b[38;5;28mstr\u001b[39m:\n\u001b[1;32m    403\u001b[0m \u001b[38;5;250m    \u001b[39m\u001b[38;5;124mr\u001b[39m\u001b[38;5;124;03m\"\"\"Get the name of a device.\u001b[39;00m\n\u001b[1;32m    404\u001b[0m \n\u001b[1;32m    405\u001b[0m \u001b[38;5;124;03m    Args:\u001b[39;00m\n\u001b[0;32m   (...)\u001b[0m\n\u001b[1;32m    412\u001b[0m \u001b[38;5;124;03m        str: the name of the device\u001b[39;00m\n\u001b[1;32m    413\u001b[0m \u001b[38;5;124;03m    \"\"\"\u001b[39;00m\n\u001b[0;32m--> 414\u001b[0m     \u001b[38;5;28;01mreturn\u001b[39;00m \u001b[43mget_device_properties\u001b[49m\u001b[43m(\u001b[49m\u001b[43mdevice\u001b[49m\u001b[43m)\u001b[49m\u001b[38;5;241m.\u001b[39mname\n",
            "File \u001b[0;32m~/.local/lib/python3.10/site-packages/torch/cuda/__init__.py:444\u001b[0m, in \u001b[0;36mget_device_properties\u001b[0;34m(device)\u001b[0m\n\u001b[1;32m    434\u001b[0m \u001b[38;5;28;01mdef\u001b[39;00m \u001b[38;5;21mget_device_properties\u001b[39m(device: _device_t) \u001b[38;5;241m-\u001b[39m\u001b[38;5;241m>\u001b[39m _CudaDeviceProperties:\n\u001b[1;32m    435\u001b[0m \u001b[38;5;250m    \u001b[39m\u001b[38;5;124mr\u001b[39m\u001b[38;5;124;03m\"\"\"Get the properties of a device.\u001b[39;00m\n\u001b[1;32m    436\u001b[0m \n\u001b[1;32m    437\u001b[0m \u001b[38;5;124;03m    Args:\u001b[39;00m\n\u001b[0;32m   (...)\u001b[0m\n\u001b[1;32m    442\u001b[0m \u001b[38;5;124;03m        _CudaDeviceProperties: the properties of the device\u001b[39;00m\n\u001b[1;32m    443\u001b[0m \u001b[38;5;124;03m    \"\"\"\u001b[39;00m\n\u001b[0;32m--> 444\u001b[0m     \u001b[43m_lazy_init\u001b[49m\u001b[43m(\u001b[49m\u001b[43m)\u001b[49m  \u001b[38;5;66;03m# will define _get_device_properties\u001b[39;00m\n\u001b[1;32m    445\u001b[0m     device \u001b[38;5;241m=\u001b[39m _get_device_index(device, optional\u001b[38;5;241m=\u001b[39m\u001b[38;5;28;01mTrue\u001b[39;00m)\n\u001b[1;32m    446\u001b[0m     \u001b[38;5;28;01mif\u001b[39;00m device \u001b[38;5;241m<\u001b[39m \u001b[38;5;241m0\u001b[39m \u001b[38;5;129;01mor\u001b[39;00m device \u001b[38;5;241m>\u001b[39m\u001b[38;5;241m=\u001b[39m device_count():\n",
            "File \u001b[0;32m~/.local/lib/python3.10/site-packages/torch/cuda/__init__.py:293\u001b[0m, in \u001b[0;36m_lazy_init\u001b[0;34m()\u001b[0m\n\u001b[1;32m    291\u001b[0m \u001b[38;5;28;01mif\u001b[39;00m \u001b[38;5;124m\"\u001b[39m\u001b[38;5;124mCUDA_MODULE_LOADING\u001b[39m\u001b[38;5;124m\"\u001b[39m \u001b[38;5;129;01mnot\u001b[39;00m \u001b[38;5;129;01min\u001b[39;00m os\u001b[38;5;241m.\u001b[39menviron:\n\u001b[1;32m    292\u001b[0m     os\u001b[38;5;241m.\u001b[39menviron[\u001b[38;5;124m\"\u001b[39m\u001b[38;5;124mCUDA_MODULE_LOADING\u001b[39m\u001b[38;5;124m\"\u001b[39m] \u001b[38;5;241m=\u001b[39m \u001b[38;5;124m\"\u001b[39m\u001b[38;5;124mLAZY\u001b[39m\u001b[38;5;124m\"\u001b[39m\n\u001b[0;32m--> 293\u001b[0m \u001b[43mtorch\u001b[49m\u001b[38;5;241;43m.\u001b[39;49m\u001b[43m_C\u001b[49m\u001b[38;5;241;43m.\u001b[39;49m\u001b[43m_cuda_init\u001b[49m\u001b[43m(\u001b[49m\u001b[43m)\u001b[49m\n\u001b[1;32m    294\u001b[0m \u001b[38;5;66;03m# Some of the queued calls may reentrantly call _lazy_init();\u001b[39;00m\n\u001b[1;32m    295\u001b[0m \u001b[38;5;66;03m# we need to just return without initializing in that case.\u001b[39;00m\n\u001b[1;32m    296\u001b[0m \u001b[38;5;66;03m# However, we must not let any *other* threads in!\u001b[39;00m\n\u001b[1;32m    297\u001b[0m _tls\u001b[38;5;241m.\u001b[39mis_initializing \u001b[38;5;241m=\u001b[39m \u001b[38;5;28;01mTrue\u001b[39;00m\n",
            "\u001b[0;31mRuntimeError\u001b[0m: No CUDA GPUs are available"
          ]
        }
      ],
      "source": [
        "torch.cuda.get_device_name(0)"
      ]
    },
    {
      "cell_type": "code",
      "execution_count": null,
      "metadata": {
        "id": "HmVQRntDiQP8"
      },
      "outputs": [],
      "source": []
    }
  ],
  "metadata": {
    "colab": {
      "provenance": []
    },
    "kernelspec": {
      "display_name": "Python 3 (ipykernel)",
      "language": "python",
      "name": "python3"
    },
    "language_info": {
      "codemirror_mode": {
        "name": "ipython",
        "version": 3
      },
      "file_extension": ".py",
      "mimetype": "text/x-python",
      "name": "python",
      "nbconvert_exporter": "python",
      "pygments_lexer": "ipython3",
      "version": "3.10.12"
    }
  },
  "nbformat": 4,
  "nbformat_minor": 0
}
