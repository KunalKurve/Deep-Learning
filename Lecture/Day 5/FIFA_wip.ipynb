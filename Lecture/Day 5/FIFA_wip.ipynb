{
 "cells": [
  {
   "cell_type": "code",
   "execution_count": 1,
   "id": "a2e75ead",
   "metadata": {},
   "outputs": [],
   "source": [
    "#!/usr/bin/env python\n",
    "# -*- coding: utf-8 -*-"
   ]
  },
  {
   "cell_type": "markdown",
   "id": "62893468",
   "metadata": {},
   "source": [
    "# Image Processing with Neural Network\n",
    "\n",
    "## Template 03\n",
    "## FIFA dataset \n",
    "\n",
    "<img src='../../../images/prasami_color_tutorials_small.png' width='400' alt=\"By Pramod Sharma : pramod.sharma@prasami.com\" align=\"left\"/>"
   ]
  },
  {
   "cell_type": "code",
   "execution_count": 2,
   "id": "3d52e7d5",
   "metadata": {},
   "outputs": [],
   "source": [
    "###-----------------\n",
    "### Import Libraries\n",
    "###-----------------\n",
    "\n",
    "import os\n",
    "import numpy as np\n",
    "import pandas as pd\n",
    "import sys\n",
    "sys.path.insert(0, r'G:\\My Drive\\DNN')\n",
    "from collections.abc import Callable\n",
    "from typing import Literal\n",
    "\n",
    "from sklearn.model_selection import train_test_split\n",
    "from sklearn.metrics import accuracy_score, classification_report, confusion_matrix, ConfusionMatrixDisplay\n",
    "from sklearn.preprocessing import StandardScaler\n",
    "import matplotlib.pyplot as plt\n",
    "\n",
    "from utils.helper import fn_plot_tf_hist, fn_plot_confusion_matrix"
   ]
  },
  {
   "cell_type": "code",
   "execution_count": 3,
   "id": "affcf40f-4d50-4980-afb0-ecccaa1d79d1",
   "metadata": {},
   "outputs": [
    {
     "name": "stdout",
     "output_type": "stream",
     "text": [
      "\n",
      "    Args:\n",
      "        hist_df: a dataframe with following ccolumns\n",
      "            column 0: loss\n",
      "            column 1: accuracy\n",
      "            column 2: val_loss\n",
      "            column 3: val_accuracy\n",
      "            While plotting columns are accessed by index \n",
      "            so that even if the column names are different it will not throw exceptions.\n",
      "    \n"
     ]
    }
   ],
   "source": [
    "print (fn_plot_tf_hist.__doc__)"
   ]
  },
  {
   "cell_type": "code",
   "execution_count": 4,
   "id": "cbc5263a-2523-4460-86db-85c4787fbf69",
   "metadata": {},
   "outputs": [
    {
     "name": "stdout",
     "output_type": "stream",
     "text": [
      "\n",
      "    Args:\n",
      "        y_true: Ground Truth \n",
      "        y_pred : Predictions\n",
      "        labels : dictonary \n",
      "                  {0: 'Goal Keeper', \n",
      "                  1: 'Defender', \n",
      "                  2: 'Mid-Fielder', \n",
      "                  3: 'Forward'}\n",
      "    \n",
      "    \n"
     ]
    }
   ],
   "source": [
    "print (fn_plot_confusion_matrix.__doc__)"
   ]
  },
  {
   "cell_type": "code",
   "execution_count": 5,
   "id": "b32a9af9",
   "metadata": {},
   "outputs": [],
   "source": [
    "###----------------------\n",
    "### Some basic parameters\n",
    "###----------------------\n",
    "\n",
    "inpDir = '../input'\n",
    "outDir = '../output'\n",
    "modelDir = './models'\n",
    "subDir = 'fifa_2019'\n",
    "\n",
    "RANDOM_STATE = 24 # for initialization ----- REMEMBER: to remove at the time of promotion to production\n",
    "np.random.seed(RANDOM_STATE)\n",
    "rng = np.random.default_rng(seed = RANDOM_STATE) # Set Random Seed for reproducible  results\n",
    "\n",
    "EPOCHS = 101 # number of epochs\n",
    "BATCH_SIZE = 32\n",
    "ALPHA = 0.001 # learning rate\n",
    "TEST_SIZE = 0.2\n",
    "\n",
    "# parameters for Matplotlib\n",
    "params = {'legend.fontsize': 'medium',\n",
    "          'figure.figsize': (15, 6),\n",
    "          'axes.labelsize': 'medium',\n",
    "          'axes.titlesize':'x-large',\n",
    "          'xtick.labelsize':'medium',\n",
    "          'ytick.labelsize':'medium'\n",
    "         }\n",
    "\n",
    "plt.rcParams.update(params)\n",
    "\n",
    "CMAP = plt.cm.coolwarm\n",
    "plt.style.use('seaborn-v0_8-darkgrid') # plt.style.use('ggplot')"
   ]
  },
  {
   "cell_type": "markdown",
   "id": "dbd48bc7",
   "metadata": {},
   "source": [
    "## Basic Hygiene"
   ]
  },
  {
   "cell_type": "code",
   "execution_count": 6,
   "id": "f53e9e8b",
   "metadata": {},
   "outputs": [],
   "source": [
    "# Check if all directories are present\n",
    "if not os.path.exists(os.path.join(outDir)):\n",
    "    os.makedirs(os.path.join(outDir))\n",
    "    print ('Created {} directory'.format(outDir))\n",
    "\n",
    "if not os.path.exists(os.path.join(modelDir, subDir)):\n",
    "    os.makedirs(os.path.join(modelDir, subDir))\n",
    "    print ('Created {} directory'.format(os.path.join(modelDir, subDir)))"
   ]
  },
  {
   "cell_type": "markdown",
   "id": "591b1fc2",
   "metadata": {},
   "source": [
    "## Read FIFA 2019 data set"
   ]
  },
  {
   "cell_type": "code",
   "execution_count": 7,
   "id": "a2177d69",
   "metadata": {},
   "outputs": [
    {
     "data": {
      "text/plain": [
       "(18207, 89)"
      ]
     },
     "execution_count": 7,
     "metadata": {},
     "output_type": "execute_result"
    }
   ],
   "source": [
    "data_df = pd.read_csv(os.path.join(inpDir, 'fifa_2019.csv'))\n",
    "data_df.shape"
   ]
  },
  {
   "cell_type": "code",
   "execution_count": 8,
   "id": "31ef1f05",
   "metadata": {},
   "outputs": [
    {
     "name": "stdout",
     "output_type": "stream",
     "text": [
      "<class 'pandas.core.frame.DataFrame'>\n",
      "RangeIndex: 18207 entries, 0 to 18206\n",
      "Data columns (total 89 columns):\n",
      " #   Column                    Non-Null Count  Dtype  \n",
      "---  ------                    --------------  -----  \n",
      " 0   Unnamed: 0                18207 non-null  int64  \n",
      " 1   ID                        18207 non-null  int64  \n",
      " 2   Name                      18207 non-null  object \n",
      " 3   Age                       18207 non-null  int64  \n",
      " 4   Photo                     18207 non-null  object \n",
      " 5   Nationality               18207 non-null  object \n",
      " 6   Flag                      18207 non-null  object \n",
      " 7   Overall                   18207 non-null  int64  \n",
      " 8   Potential                 18207 non-null  int64  \n",
      " 9   Club                      17966 non-null  object \n",
      " 10  Club Logo                 18207 non-null  object \n",
      " 11  Value                     18207 non-null  object \n",
      " 12  Wage                      18207 non-null  object \n",
      " 13  Special                   18207 non-null  int64  \n",
      " 14  Preferred Foot            18159 non-null  object \n",
      " 15  International Reputation  18159 non-null  float64\n",
      " 16  Weak Foot                 18159 non-null  float64\n",
      " 17  Skill Moves               18159 non-null  float64\n",
      " 18  Work Rate                 18159 non-null  object \n",
      " 19  Body Type                 18159 non-null  object \n",
      " 20  Real Face                 18159 non-null  object \n",
      " 21  Position                  18147 non-null  object \n",
      " 22  Jersey Number             18147 non-null  float64\n",
      " 23  Joined                    16654 non-null  object \n",
      " 24  Loaned From               1264 non-null   object \n",
      " 25  Contract Valid Until      17918 non-null  object \n",
      " 26  Height                    18159 non-null  object \n",
      " 27  Weight                    18159 non-null  object \n",
      " 28  LS                        16122 non-null  object \n",
      " 29  ST                        16122 non-null  object \n",
      " 30  RS                        16122 non-null  object \n",
      " 31  LW                        16122 non-null  object \n",
      " 32  LF                        16122 non-null  object \n",
      " 33  CF                        16122 non-null  object \n",
      " 34  RF                        16122 non-null  object \n",
      " 35  RW                        16122 non-null  object \n",
      " 36  LAM                       16122 non-null  object \n",
      " 37  CAM                       16122 non-null  object \n",
      " 38  RAM                       16122 non-null  object \n",
      " 39  LM                        16122 non-null  object \n",
      " 40  LCM                       16122 non-null  object \n",
      " 41  CM                        16122 non-null  object \n",
      " 42  RCM                       16122 non-null  object \n",
      " 43  RM                        16122 non-null  object \n",
      " 44  LWB                       16122 non-null  object \n",
      " 45  LDM                       16122 non-null  object \n",
      " 46  CDM                       16122 non-null  object \n",
      " 47  RDM                       16122 non-null  object \n",
      " 48  RWB                       16122 non-null  object \n",
      " 49  LB                        16122 non-null  object \n",
      " 50  LCB                       16122 non-null  object \n",
      " 51  CB                        16122 non-null  object \n",
      " 52  RCB                       16122 non-null  object \n",
      " 53  RB                        16122 non-null  object \n",
      " 54  Crossing                  18159 non-null  float64\n",
      " 55  Finishing                 18159 non-null  float64\n",
      " 56  HeadingAccuracy           18159 non-null  float64\n",
      " 57  ShortPassing              18159 non-null  float64\n",
      " 58  Volleys                   18159 non-null  float64\n",
      " 59  Dribbling                 18159 non-null  float64\n",
      " 60  Curve                     18159 non-null  float64\n",
      " 61  FKAccuracy                18159 non-null  float64\n",
      " 62  LongPassing               18159 non-null  float64\n",
      " 63  BallControl               18159 non-null  float64\n",
      " 64  Acceleration              18159 non-null  float64\n",
      " 65  SprintSpeed               18159 non-null  float64\n",
      " 66  Agility                   18159 non-null  float64\n",
      " 67  Reactions                 18159 non-null  float64\n",
      " 68  Balance                   18159 non-null  float64\n",
      " 69  ShotPower                 18159 non-null  float64\n",
      " 70  Jumping                   18159 non-null  float64\n",
      " 71  Stamina                   18159 non-null  float64\n",
      " 72  Strength                  18159 non-null  float64\n",
      " 73  LongShots                 18159 non-null  float64\n",
      " 74  Aggression                18159 non-null  float64\n",
      " 75  Interceptions             18159 non-null  float64\n",
      " 76  Positioning               18159 non-null  float64\n",
      " 77  Vision                    18159 non-null  float64\n",
      " 78  Penalties                 18159 non-null  float64\n",
      " 79  Composure                 18159 non-null  float64\n",
      " 80  Marking                   18159 non-null  float64\n",
      " 81  StandingTackle            18159 non-null  float64\n",
      " 82  SlidingTackle             18159 non-null  float64\n",
      " 83  GKDiving                  18159 non-null  float64\n",
      " 84  GKHandling                18159 non-null  float64\n",
      " 85  GKKicking                 18159 non-null  float64\n",
      " 86  GKPositioning             18159 non-null  float64\n",
      " 87  GKReflexes                18159 non-null  float64\n",
      " 88  Release Clause            16643 non-null  object \n",
      "dtypes: float64(38), int64(6), object(45)\n",
      "memory usage: 12.4+ MB\n"
     ]
    }
   ],
   "source": [
    "data_df.info()"
   ]
  },
  {
   "cell_type": "code",
   "execution_count": 9,
   "id": "42c1bfc5",
   "metadata": {},
   "outputs": [
    {
     "data": {
      "text/html": [
       "<div>\n",
       "<style scoped>\n",
       "    .dataframe tbody tr th:only-of-type {\n",
       "        vertical-align: middle;\n",
       "    }\n",
       "\n",
       "    .dataframe tbody tr th {\n",
       "        vertical-align: top;\n",
       "    }\n",
       "\n",
       "    .dataframe thead th {\n",
       "        text-align: right;\n",
       "    }\n",
       "</style>\n",
       "<table border=\"1\" class=\"dataframe\">\n",
       "  <thead>\n",
       "    <tr style=\"text-align: right;\">\n",
       "      <th></th>\n",
       "      <th>count</th>\n",
       "      <th>mean</th>\n",
       "      <th>std</th>\n",
       "      <th>min</th>\n",
       "      <th>25%</th>\n",
       "      <th>50%</th>\n",
       "      <th>75%</th>\n",
       "      <th>max</th>\n",
       "    </tr>\n",
       "  </thead>\n",
       "  <tbody>\n",
       "    <tr>\n",
       "      <th>Unnamed: 0</th>\n",
       "      <td>18207.0</td>\n",
       "      <td>9103.000000</td>\n",
       "      <td>5256.052511</td>\n",
       "      <td>0.0</td>\n",
       "      <td>4551.5</td>\n",
       "      <td>9103.0</td>\n",
       "      <td>13654.5</td>\n",
       "      <td>18206.0</td>\n",
       "    </tr>\n",
       "    <tr>\n",
       "      <th>ID</th>\n",
       "      <td>18207.0</td>\n",
       "      <td>214298.338606</td>\n",
       "      <td>29965.244204</td>\n",
       "      <td>16.0</td>\n",
       "      <td>200315.5</td>\n",
       "      <td>221759.0</td>\n",
       "      <td>236529.5</td>\n",
       "      <td>246620.0</td>\n",
       "    </tr>\n",
       "    <tr>\n",
       "      <th>Age</th>\n",
       "      <td>18207.0</td>\n",
       "      <td>25.122206</td>\n",
       "      <td>4.669943</td>\n",
       "      <td>16.0</td>\n",
       "      <td>21.0</td>\n",
       "      <td>25.0</td>\n",
       "      <td>28.0</td>\n",
       "      <td>45.0</td>\n",
       "    </tr>\n",
       "    <tr>\n",
       "      <th>Overall</th>\n",
       "      <td>18207.0</td>\n",
       "      <td>66.238699</td>\n",
       "      <td>6.908930</td>\n",
       "      <td>46.0</td>\n",
       "      <td>62.0</td>\n",
       "      <td>66.0</td>\n",
       "      <td>71.0</td>\n",
       "      <td>94.0</td>\n",
       "    </tr>\n",
       "    <tr>\n",
       "      <th>Potential</th>\n",
       "      <td>18207.0</td>\n",
       "      <td>71.307299</td>\n",
       "      <td>6.136496</td>\n",
       "      <td>48.0</td>\n",
       "      <td>67.0</td>\n",
       "      <td>71.0</td>\n",
       "      <td>75.0</td>\n",
       "      <td>95.0</td>\n",
       "    </tr>\n",
       "    <tr>\n",
       "      <th>Special</th>\n",
       "      <td>18207.0</td>\n",
       "      <td>1597.809908</td>\n",
       "      <td>272.586016</td>\n",
       "      <td>731.0</td>\n",
       "      <td>1457.0</td>\n",
       "      <td>1635.0</td>\n",
       "      <td>1787.0</td>\n",
       "      <td>2346.0</td>\n",
       "    </tr>\n",
       "    <tr>\n",
       "      <th>International Reputation</th>\n",
       "      <td>18159.0</td>\n",
       "      <td>1.113222</td>\n",
       "      <td>0.394031</td>\n",
       "      <td>1.0</td>\n",
       "      <td>1.0</td>\n",
       "      <td>1.0</td>\n",
       "      <td>1.0</td>\n",
       "      <td>5.0</td>\n",
       "    </tr>\n",
       "    <tr>\n",
       "      <th>Weak Foot</th>\n",
       "      <td>18159.0</td>\n",
       "      <td>2.947299</td>\n",
       "      <td>0.660456</td>\n",
       "      <td>1.0</td>\n",
       "      <td>3.0</td>\n",
       "      <td>3.0</td>\n",
       "      <td>3.0</td>\n",
       "      <td>5.0</td>\n",
       "    </tr>\n",
       "    <tr>\n",
       "      <th>Skill Moves</th>\n",
       "      <td>18159.0</td>\n",
       "      <td>2.361308</td>\n",
       "      <td>0.756164</td>\n",
       "      <td>1.0</td>\n",
       "      <td>2.0</td>\n",
       "      <td>2.0</td>\n",
       "      <td>3.0</td>\n",
       "      <td>5.0</td>\n",
       "    </tr>\n",
       "    <tr>\n",
       "      <th>Jersey Number</th>\n",
       "      <td>18147.0</td>\n",
       "      <td>19.546096</td>\n",
       "      <td>15.947765</td>\n",
       "      <td>1.0</td>\n",
       "      <td>8.0</td>\n",
       "      <td>17.0</td>\n",
       "      <td>26.0</td>\n",
       "      <td>99.0</td>\n",
       "    </tr>\n",
       "    <tr>\n",
       "      <th>Crossing</th>\n",
       "      <td>18159.0</td>\n",
       "      <td>49.734181</td>\n",
       "      <td>18.364524</td>\n",
       "      <td>5.0</td>\n",
       "      <td>38.0</td>\n",
       "      <td>54.0</td>\n",
       "      <td>64.0</td>\n",
       "      <td>93.0</td>\n",
       "    </tr>\n",
       "    <tr>\n",
       "      <th>Finishing</th>\n",
       "      <td>18159.0</td>\n",
       "      <td>45.550911</td>\n",
       "      <td>19.525820</td>\n",
       "      <td>2.0</td>\n",
       "      <td>30.0</td>\n",
       "      <td>49.0</td>\n",
       "      <td>62.0</td>\n",
       "      <td>95.0</td>\n",
       "    </tr>\n",
       "    <tr>\n",
       "      <th>HeadingAccuracy</th>\n",
       "      <td>18159.0</td>\n",
       "      <td>52.298144</td>\n",
       "      <td>17.379909</td>\n",
       "      <td>4.0</td>\n",
       "      <td>44.0</td>\n",
       "      <td>56.0</td>\n",
       "      <td>64.0</td>\n",
       "      <td>94.0</td>\n",
       "    </tr>\n",
       "    <tr>\n",
       "      <th>ShortPassing</th>\n",
       "      <td>18159.0</td>\n",
       "      <td>58.686712</td>\n",
       "      <td>14.699495</td>\n",
       "      <td>7.0</td>\n",
       "      <td>54.0</td>\n",
       "      <td>62.0</td>\n",
       "      <td>68.0</td>\n",
       "      <td>93.0</td>\n",
       "    </tr>\n",
       "    <tr>\n",
       "      <th>Volleys</th>\n",
       "      <td>18159.0</td>\n",
       "      <td>42.909026</td>\n",
       "      <td>17.694408</td>\n",
       "      <td>4.0</td>\n",
       "      <td>30.0</td>\n",
       "      <td>44.0</td>\n",
       "      <td>57.0</td>\n",
       "      <td>90.0</td>\n",
       "    </tr>\n",
       "    <tr>\n",
       "      <th>Dribbling</th>\n",
       "      <td>18159.0</td>\n",
       "      <td>55.371001</td>\n",
       "      <td>18.910371</td>\n",
       "      <td>4.0</td>\n",
       "      <td>49.0</td>\n",
       "      <td>61.0</td>\n",
       "      <td>68.0</td>\n",
       "      <td>97.0</td>\n",
       "    </tr>\n",
       "    <tr>\n",
       "      <th>Curve</th>\n",
       "      <td>18159.0</td>\n",
       "      <td>47.170824</td>\n",
       "      <td>18.395264</td>\n",
       "      <td>6.0</td>\n",
       "      <td>34.0</td>\n",
       "      <td>48.0</td>\n",
       "      <td>62.0</td>\n",
       "      <td>94.0</td>\n",
       "    </tr>\n",
       "    <tr>\n",
       "      <th>FKAccuracy</th>\n",
       "      <td>18159.0</td>\n",
       "      <td>42.863153</td>\n",
       "      <td>17.478763</td>\n",
       "      <td>3.0</td>\n",
       "      <td>31.0</td>\n",
       "      <td>41.0</td>\n",
       "      <td>57.0</td>\n",
       "      <td>94.0</td>\n",
       "    </tr>\n",
       "    <tr>\n",
       "      <th>LongPassing</th>\n",
       "      <td>18159.0</td>\n",
       "      <td>52.711933</td>\n",
       "      <td>15.327870</td>\n",
       "      <td>9.0</td>\n",
       "      <td>43.0</td>\n",
       "      <td>56.0</td>\n",
       "      <td>64.0</td>\n",
       "      <td>93.0</td>\n",
       "    </tr>\n",
       "    <tr>\n",
       "      <th>BallControl</th>\n",
       "      <td>18159.0</td>\n",
       "      <td>58.369459</td>\n",
       "      <td>16.686595</td>\n",
       "      <td>5.0</td>\n",
       "      <td>54.0</td>\n",
       "      <td>63.0</td>\n",
       "      <td>69.0</td>\n",
       "      <td>96.0</td>\n",
       "    </tr>\n",
       "    <tr>\n",
       "      <th>Acceleration</th>\n",
       "      <td>18159.0</td>\n",
       "      <td>64.614076</td>\n",
       "      <td>14.927780</td>\n",
       "      <td>12.0</td>\n",
       "      <td>57.0</td>\n",
       "      <td>67.0</td>\n",
       "      <td>75.0</td>\n",
       "      <td>97.0</td>\n",
       "    </tr>\n",
       "    <tr>\n",
       "      <th>SprintSpeed</th>\n",
       "      <td>18159.0</td>\n",
       "      <td>64.726967</td>\n",
       "      <td>14.649953</td>\n",
       "      <td>12.0</td>\n",
       "      <td>57.0</td>\n",
       "      <td>67.0</td>\n",
       "      <td>75.0</td>\n",
       "      <td>96.0</td>\n",
       "    </tr>\n",
       "    <tr>\n",
       "      <th>Agility</th>\n",
       "      <td>18159.0</td>\n",
       "      <td>63.503607</td>\n",
       "      <td>14.766049</td>\n",
       "      <td>14.0</td>\n",
       "      <td>55.0</td>\n",
       "      <td>66.0</td>\n",
       "      <td>74.0</td>\n",
       "      <td>96.0</td>\n",
       "    </tr>\n",
       "    <tr>\n",
       "      <th>Reactions</th>\n",
       "      <td>18159.0</td>\n",
       "      <td>61.836610</td>\n",
       "      <td>9.010464</td>\n",
       "      <td>21.0</td>\n",
       "      <td>56.0</td>\n",
       "      <td>62.0</td>\n",
       "      <td>68.0</td>\n",
       "      <td>96.0</td>\n",
       "    </tr>\n",
       "    <tr>\n",
       "      <th>Balance</th>\n",
       "      <td>18159.0</td>\n",
       "      <td>63.966573</td>\n",
       "      <td>14.136166</td>\n",
       "      <td>16.0</td>\n",
       "      <td>56.0</td>\n",
       "      <td>66.0</td>\n",
       "      <td>74.0</td>\n",
       "      <td>96.0</td>\n",
       "    </tr>\n",
       "    <tr>\n",
       "      <th>ShotPower</th>\n",
       "      <td>18159.0</td>\n",
       "      <td>55.460047</td>\n",
       "      <td>17.237958</td>\n",
       "      <td>2.0</td>\n",
       "      <td>45.0</td>\n",
       "      <td>59.0</td>\n",
       "      <td>68.0</td>\n",
       "      <td>95.0</td>\n",
       "    </tr>\n",
       "    <tr>\n",
       "      <th>Jumping</th>\n",
       "      <td>18159.0</td>\n",
       "      <td>65.089432</td>\n",
       "      <td>11.820044</td>\n",
       "      <td>15.0</td>\n",
       "      <td>58.0</td>\n",
       "      <td>66.0</td>\n",
       "      <td>73.0</td>\n",
       "      <td>95.0</td>\n",
       "    </tr>\n",
       "    <tr>\n",
       "      <th>Stamina</th>\n",
       "      <td>18159.0</td>\n",
       "      <td>63.219946</td>\n",
       "      <td>15.894741</td>\n",
       "      <td>12.0</td>\n",
       "      <td>56.0</td>\n",
       "      <td>66.0</td>\n",
       "      <td>74.0</td>\n",
       "      <td>96.0</td>\n",
       "    </tr>\n",
       "    <tr>\n",
       "      <th>Strength</th>\n",
       "      <td>18159.0</td>\n",
       "      <td>65.311967</td>\n",
       "      <td>12.557000</td>\n",
       "      <td>17.0</td>\n",
       "      <td>58.0</td>\n",
       "      <td>67.0</td>\n",
       "      <td>74.0</td>\n",
       "      <td>97.0</td>\n",
       "    </tr>\n",
       "    <tr>\n",
       "      <th>LongShots</th>\n",
       "      <td>18159.0</td>\n",
       "      <td>47.109973</td>\n",
       "      <td>19.260524</td>\n",
       "      <td>3.0</td>\n",
       "      <td>33.0</td>\n",
       "      <td>51.0</td>\n",
       "      <td>62.0</td>\n",
       "      <td>94.0</td>\n",
       "    </tr>\n",
       "    <tr>\n",
       "      <th>Aggression</th>\n",
       "      <td>18159.0</td>\n",
       "      <td>55.868991</td>\n",
       "      <td>17.367967</td>\n",
       "      <td>11.0</td>\n",
       "      <td>44.0</td>\n",
       "      <td>59.0</td>\n",
       "      <td>69.0</td>\n",
       "      <td>95.0</td>\n",
       "    </tr>\n",
       "    <tr>\n",
       "      <th>Interceptions</th>\n",
       "      <td>18159.0</td>\n",
       "      <td>46.698276</td>\n",
       "      <td>20.696909</td>\n",
       "      <td>3.0</td>\n",
       "      <td>26.0</td>\n",
       "      <td>52.0</td>\n",
       "      <td>64.0</td>\n",
       "      <td>92.0</td>\n",
       "    </tr>\n",
       "    <tr>\n",
       "      <th>Positioning</th>\n",
       "      <td>18159.0</td>\n",
       "      <td>49.958478</td>\n",
       "      <td>19.529036</td>\n",
       "      <td>2.0</td>\n",
       "      <td>38.0</td>\n",
       "      <td>55.0</td>\n",
       "      <td>64.0</td>\n",
       "      <td>95.0</td>\n",
       "    </tr>\n",
       "    <tr>\n",
       "      <th>Vision</th>\n",
       "      <td>18159.0</td>\n",
       "      <td>53.400903</td>\n",
       "      <td>14.146881</td>\n",
       "      <td>10.0</td>\n",
       "      <td>44.0</td>\n",
       "      <td>55.0</td>\n",
       "      <td>64.0</td>\n",
       "      <td>94.0</td>\n",
       "    </tr>\n",
       "    <tr>\n",
       "      <th>Penalties</th>\n",
       "      <td>18159.0</td>\n",
       "      <td>48.548598</td>\n",
       "      <td>15.704053</td>\n",
       "      <td>5.0</td>\n",
       "      <td>39.0</td>\n",
       "      <td>49.0</td>\n",
       "      <td>60.0</td>\n",
       "      <td>92.0</td>\n",
       "    </tr>\n",
       "    <tr>\n",
       "      <th>Composure</th>\n",
       "      <td>18159.0</td>\n",
       "      <td>58.648274</td>\n",
       "      <td>11.436133</td>\n",
       "      <td>3.0</td>\n",
       "      <td>51.0</td>\n",
       "      <td>60.0</td>\n",
       "      <td>67.0</td>\n",
       "      <td>96.0</td>\n",
       "    </tr>\n",
       "    <tr>\n",
       "      <th>Marking</th>\n",
       "      <td>18159.0</td>\n",
       "      <td>47.281623</td>\n",
       "      <td>19.904397</td>\n",
       "      <td>3.0</td>\n",
       "      <td>30.0</td>\n",
       "      <td>53.0</td>\n",
       "      <td>64.0</td>\n",
       "      <td>94.0</td>\n",
       "    </tr>\n",
       "    <tr>\n",
       "      <th>StandingTackle</th>\n",
       "      <td>18159.0</td>\n",
       "      <td>47.697836</td>\n",
       "      <td>21.664004</td>\n",
       "      <td>2.0</td>\n",
       "      <td>27.0</td>\n",
       "      <td>55.0</td>\n",
       "      <td>66.0</td>\n",
       "      <td>93.0</td>\n",
       "    </tr>\n",
       "    <tr>\n",
       "      <th>SlidingTackle</th>\n",
       "      <td>18159.0</td>\n",
       "      <td>45.661435</td>\n",
       "      <td>21.289135</td>\n",
       "      <td>3.0</td>\n",
       "      <td>24.0</td>\n",
       "      <td>52.0</td>\n",
       "      <td>64.0</td>\n",
       "      <td>91.0</td>\n",
       "    </tr>\n",
       "    <tr>\n",
       "      <th>GKDiving</th>\n",
       "      <td>18159.0</td>\n",
       "      <td>16.616223</td>\n",
       "      <td>17.695349</td>\n",
       "      <td>1.0</td>\n",
       "      <td>8.0</td>\n",
       "      <td>11.0</td>\n",
       "      <td>14.0</td>\n",
       "      <td>90.0</td>\n",
       "    </tr>\n",
       "    <tr>\n",
       "      <th>GKHandling</th>\n",
       "      <td>18159.0</td>\n",
       "      <td>16.391596</td>\n",
       "      <td>16.906900</td>\n",
       "      <td>1.0</td>\n",
       "      <td>8.0</td>\n",
       "      <td>11.0</td>\n",
       "      <td>14.0</td>\n",
       "      <td>92.0</td>\n",
       "    </tr>\n",
       "    <tr>\n",
       "      <th>GKKicking</th>\n",
       "      <td>18159.0</td>\n",
       "      <td>16.232061</td>\n",
       "      <td>16.502864</td>\n",
       "      <td>1.0</td>\n",
       "      <td>8.0</td>\n",
       "      <td>11.0</td>\n",
       "      <td>14.0</td>\n",
       "      <td>91.0</td>\n",
       "    </tr>\n",
       "    <tr>\n",
       "      <th>GKPositioning</th>\n",
       "      <td>18159.0</td>\n",
       "      <td>16.388898</td>\n",
       "      <td>17.034669</td>\n",
       "      <td>1.0</td>\n",
       "      <td>8.0</td>\n",
       "      <td>11.0</td>\n",
       "      <td>14.0</td>\n",
       "      <td>90.0</td>\n",
       "    </tr>\n",
       "    <tr>\n",
       "      <th>GKReflexes</th>\n",
       "      <td>18159.0</td>\n",
       "      <td>16.710887</td>\n",
       "      <td>17.955119</td>\n",
       "      <td>1.0</td>\n",
       "      <td>8.0</td>\n",
       "      <td>11.0</td>\n",
       "      <td>14.0</td>\n",
       "      <td>94.0</td>\n",
       "    </tr>\n",
       "  </tbody>\n",
       "</table>\n",
       "</div>"
      ],
      "text/plain": [
       "                            count           mean           std    min  \\\n",
       "Unnamed: 0                18207.0    9103.000000   5256.052511    0.0   \n",
       "ID                        18207.0  214298.338606  29965.244204   16.0   \n",
       "Age                       18207.0      25.122206      4.669943   16.0   \n",
       "Overall                   18207.0      66.238699      6.908930   46.0   \n",
       "Potential                 18207.0      71.307299      6.136496   48.0   \n",
       "Special                   18207.0    1597.809908    272.586016  731.0   \n",
       "International Reputation  18159.0       1.113222      0.394031    1.0   \n",
       "Weak Foot                 18159.0       2.947299      0.660456    1.0   \n",
       "Skill Moves               18159.0       2.361308      0.756164    1.0   \n",
       "Jersey Number             18147.0      19.546096     15.947765    1.0   \n",
       "Crossing                  18159.0      49.734181     18.364524    5.0   \n",
       "Finishing                 18159.0      45.550911     19.525820    2.0   \n",
       "HeadingAccuracy           18159.0      52.298144     17.379909    4.0   \n",
       "ShortPassing              18159.0      58.686712     14.699495    7.0   \n",
       "Volleys                   18159.0      42.909026     17.694408    4.0   \n",
       "Dribbling                 18159.0      55.371001     18.910371    4.0   \n",
       "Curve                     18159.0      47.170824     18.395264    6.0   \n",
       "FKAccuracy                18159.0      42.863153     17.478763    3.0   \n",
       "LongPassing               18159.0      52.711933     15.327870    9.0   \n",
       "BallControl               18159.0      58.369459     16.686595    5.0   \n",
       "Acceleration              18159.0      64.614076     14.927780   12.0   \n",
       "SprintSpeed               18159.0      64.726967     14.649953   12.0   \n",
       "Agility                   18159.0      63.503607     14.766049   14.0   \n",
       "Reactions                 18159.0      61.836610      9.010464   21.0   \n",
       "Balance                   18159.0      63.966573     14.136166   16.0   \n",
       "ShotPower                 18159.0      55.460047     17.237958    2.0   \n",
       "Jumping                   18159.0      65.089432     11.820044   15.0   \n",
       "Stamina                   18159.0      63.219946     15.894741   12.0   \n",
       "Strength                  18159.0      65.311967     12.557000   17.0   \n",
       "LongShots                 18159.0      47.109973     19.260524    3.0   \n",
       "Aggression                18159.0      55.868991     17.367967   11.0   \n",
       "Interceptions             18159.0      46.698276     20.696909    3.0   \n",
       "Positioning               18159.0      49.958478     19.529036    2.0   \n",
       "Vision                    18159.0      53.400903     14.146881   10.0   \n",
       "Penalties                 18159.0      48.548598     15.704053    5.0   \n",
       "Composure                 18159.0      58.648274     11.436133    3.0   \n",
       "Marking                   18159.0      47.281623     19.904397    3.0   \n",
       "StandingTackle            18159.0      47.697836     21.664004    2.0   \n",
       "SlidingTackle             18159.0      45.661435     21.289135    3.0   \n",
       "GKDiving                  18159.0      16.616223     17.695349    1.0   \n",
       "GKHandling                18159.0      16.391596     16.906900    1.0   \n",
       "GKKicking                 18159.0      16.232061     16.502864    1.0   \n",
       "GKPositioning             18159.0      16.388898     17.034669    1.0   \n",
       "GKReflexes                18159.0      16.710887     17.955119    1.0   \n",
       "\n",
       "                               25%       50%       75%       max  \n",
       "Unnamed: 0                  4551.5    9103.0   13654.5   18206.0  \n",
       "ID                        200315.5  221759.0  236529.5  246620.0  \n",
       "Age                           21.0      25.0      28.0      45.0  \n",
       "Overall                       62.0      66.0      71.0      94.0  \n",
       "Potential                     67.0      71.0      75.0      95.0  \n",
       "Special                     1457.0    1635.0    1787.0    2346.0  \n",
       "International Reputation       1.0       1.0       1.0       5.0  \n",
       "Weak Foot                      3.0       3.0       3.0       5.0  \n",
       "Skill Moves                    2.0       2.0       3.0       5.0  \n",
       "Jersey Number                  8.0      17.0      26.0      99.0  \n",
       "Crossing                      38.0      54.0      64.0      93.0  \n",
       "Finishing                     30.0      49.0      62.0      95.0  \n",
       "HeadingAccuracy               44.0      56.0      64.0      94.0  \n",
       "ShortPassing                  54.0      62.0      68.0      93.0  \n",
       "Volleys                       30.0      44.0      57.0      90.0  \n",
       "Dribbling                     49.0      61.0      68.0      97.0  \n",
       "Curve                         34.0      48.0      62.0      94.0  \n",
       "FKAccuracy                    31.0      41.0      57.0      94.0  \n",
       "LongPassing                   43.0      56.0      64.0      93.0  \n",
       "BallControl                   54.0      63.0      69.0      96.0  \n",
       "Acceleration                  57.0      67.0      75.0      97.0  \n",
       "SprintSpeed                   57.0      67.0      75.0      96.0  \n",
       "Agility                       55.0      66.0      74.0      96.0  \n",
       "Reactions                     56.0      62.0      68.0      96.0  \n",
       "Balance                       56.0      66.0      74.0      96.0  \n",
       "ShotPower                     45.0      59.0      68.0      95.0  \n",
       "Jumping                       58.0      66.0      73.0      95.0  \n",
       "Stamina                       56.0      66.0      74.0      96.0  \n",
       "Strength                      58.0      67.0      74.0      97.0  \n",
       "LongShots                     33.0      51.0      62.0      94.0  \n",
       "Aggression                    44.0      59.0      69.0      95.0  \n",
       "Interceptions                 26.0      52.0      64.0      92.0  \n",
       "Positioning                   38.0      55.0      64.0      95.0  \n",
       "Vision                        44.0      55.0      64.0      94.0  \n",
       "Penalties                     39.0      49.0      60.0      92.0  \n",
       "Composure                     51.0      60.0      67.0      96.0  \n",
       "Marking                       30.0      53.0      64.0      94.0  \n",
       "StandingTackle                27.0      55.0      66.0      93.0  \n",
       "SlidingTackle                 24.0      52.0      64.0      91.0  \n",
       "GKDiving                       8.0      11.0      14.0      90.0  \n",
       "GKHandling                     8.0      11.0      14.0      92.0  \n",
       "GKKicking                      8.0      11.0      14.0      91.0  \n",
       "GKPositioning                  8.0      11.0      14.0      90.0  \n",
       "GKReflexes                     8.0      11.0      14.0      94.0  "
      ]
     },
     "execution_count": 9,
     "metadata": {},
     "output_type": "execute_result"
    }
   ],
   "source": [
    "data_df.describe().T"
   ]
  },
  {
   "cell_type": "code",
   "execution_count": 10,
   "id": "d7881a1e",
   "metadata": {},
   "outputs": [
    {
     "data": {
      "text/plain": [
       "76984"
      ]
     },
     "execution_count": 10,
     "metadata": {},
     "output_type": "execute_result"
    }
   ],
   "source": [
    "data_df.isna().sum().sum()"
   ]
  },
  {
   "cell_type": "code",
   "execution_count": 11,
   "id": "276462a7",
   "metadata": {},
   "outputs": [
    {
     "data": {
      "text/html": [
       "<div>\n",
       "<style scoped>\n",
       "    .dataframe tbody tr th:only-of-type {\n",
       "        vertical-align: middle;\n",
       "    }\n",
       "\n",
       "    .dataframe tbody tr th {\n",
       "        vertical-align: top;\n",
       "    }\n",
       "\n",
       "    .dataframe thead th {\n",
       "        text-align: right;\n",
       "    }\n",
       "</style>\n",
       "<table border=\"1\" class=\"dataframe\">\n",
       "  <thead>\n",
       "    <tr style=\"text-align: right;\">\n",
       "      <th></th>\n",
       "      <th>Unnamed: 0</th>\n",
       "      <th>ID</th>\n",
       "      <th>Name</th>\n",
       "      <th>Age</th>\n",
       "      <th>Photo</th>\n",
       "      <th>Nationality</th>\n",
       "      <th>Flag</th>\n",
       "      <th>Overall</th>\n",
       "      <th>Potential</th>\n",
       "      <th>Club</th>\n",
       "      <th>...</th>\n",
       "      <th>Composure</th>\n",
       "      <th>Marking</th>\n",
       "      <th>StandingTackle</th>\n",
       "      <th>SlidingTackle</th>\n",
       "      <th>GKDiving</th>\n",
       "      <th>GKHandling</th>\n",
       "      <th>GKKicking</th>\n",
       "      <th>GKPositioning</th>\n",
       "      <th>GKReflexes</th>\n",
       "      <th>Release Clause</th>\n",
       "    </tr>\n",
       "  </thead>\n",
       "  <tbody>\n",
       "    <tr>\n",
       "      <th>0</th>\n",
       "      <td>0</td>\n",
       "      <td>158023</td>\n",
       "      <td>L. Messi</td>\n",
       "      <td>31</td>\n",
       "      <td>https://cdn.sofifa.org/players/4/19/158023.png</td>\n",
       "      <td>Argentina</td>\n",
       "      <td>https://cdn.sofifa.org/flags/52.png</td>\n",
       "      <td>94</td>\n",
       "      <td>94</td>\n",
       "      <td>FC Barcelona</td>\n",
       "      <td>...</td>\n",
       "      <td>96.0</td>\n",
       "      <td>33.0</td>\n",
       "      <td>28.0</td>\n",
       "      <td>26.0</td>\n",
       "      <td>6.0</td>\n",
       "      <td>11.0</td>\n",
       "      <td>15.0</td>\n",
       "      <td>14.0</td>\n",
       "      <td>8.0</td>\n",
       "      <td>€226.5M</td>\n",
       "    </tr>\n",
       "    <tr>\n",
       "      <th>1</th>\n",
       "      <td>1</td>\n",
       "      <td>20801</td>\n",
       "      <td>Cristiano Ronaldo</td>\n",
       "      <td>33</td>\n",
       "      <td>https://cdn.sofifa.org/players/4/19/20801.png</td>\n",
       "      <td>Portugal</td>\n",
       "      <td>https://cdn.sofifa.org/flags/38.png</td>\n",
       "      <td>94</td>\n",
       "      <td>94</td>\n",
       "      <td>Juventus</td>\n",
       "      <td>...</td>\n",
       "      <td>95.0</td>\n",
       "      <td>28.0</td>\n",
       "      <td>31.0</td>\n",
       "      <td>23.0</td>\n",
       "      <td>7.0</td>\n",
       "      <td>11.0</td>\n",
       "      <td>15.0</td>\n",
       "      <td>14.0</td>\n",
       "      <td>11.0</td>\n",
       "      <td>€127.1M</td>\n",
       "    </tr>\n",
       "    <tr>\n",
       "      <th>2</th>\n",
       "      <td>2</td>\n",
       "      <td>190871</td>\n",
       "      <td>Neymar Jr</td>\n",
       "      <td>26</td>\n",
       "      <td>https://cdn.sofifa.org/players/4/19/190871.png</td>\n",
       "      <td>Brazil</td>\n",
       "      <td>https://cdn.sofifa.org/flags/54.png</td>\n",
       "      <td>92</td>\n",
       "      <td>93</td>\n",
       "      <td>Paris Saint-Germain</td>\n",
       "      <td>...</td>\n",
       "      <td>94.0</td>\n",
       "      <td>27.0</td>\n",
       "      <td>24.0</td>\n",
       "      <td>33.0</td>\n",
       "      <td>9.0</td>\n",
       "      <td>9.0</td>\n",
       "      <td>15.0</td>\n",
       "      <td>15.0</td>\n",
       "      <td>11.0</td>\n",
       "      <td>€228.1M</td>\n",
       "    </tr>\n",
       "    <tr>\n",
       "      <th>3</th>\n",
       "      <td>3</td>\n",
       "      <td>193080</td>\n",
       "      <td>De Gea</td>\n",
       "      <td>27</td>\n",
       "      <td>https://cdn.sofifa.org/players/4/19/193080.png</td>\n",
       "      <td>Spain</td>\n",
       "      <td>https://cdn.sofifa.org/flags/45.png</td>\n",
       "      <td>91</td>\n",
       "      <td>93</td>\n",
       "      <td>Manchester United</td>\n",
       "      <td>...</td>\n",
       "      <td>68.0</td>\n",
       "      <td>15.0</td>\n",
       "      <td>21.0</td>\n",
       "      <td>13.0</td>\n",
       "      <td>90.0</td>\n",
       "      <td>85.0</td>\n",
       "      <td>87.0</td>\n",
       "      <td>88.0</td>\n",
       "      <td>94.0</td>\n",
       "      <td>€138.6M</td>\n",
       "    </tr>\n",
       "    <tr>\n",
       "      <th>4</th>\n",
       "      <td>4</td>\n",
       "      <td>192985</td>\n",
       "      <td>K. De Bruyne</td>\n",
       "      <td>27</td>\n",
       "      <td>https://cdn.sofifa.org/players/4/19/192985.png</td>\n",
       "      <td>Belgium</td>\n",
       "      <td>https://cdn.sofifa.org/flags/7.png</td>\n",
       "      <td>91</td>\n",
       "      <td>92</td>\n",
       "      <td>Manchester City</td>\n",
       "      <td>...</td>\n",
       "      <td>88.0</td>\n",
       "      <td>68.0</td>\n",
       "      <td>58.0</td>\n",
       "      <td>51.0</td>\n",
       "      <td>15.0</td>\n",
       "      <td>13.0</td>\n",
       "      <td>5.0</td>\n",
       "      <td>10.0</td>\n",
       "      <td>13.0</td>\n",
       "      <td>€196.4M</td>\n",
       "    </tr>\n",
       "  </tbody>\n",
       "</table>\n",
       "<p>5 rows × 89 columns</p>\n",
       "</div>"
      ],
      "text/plain": [
       "   Unnamed: 0      ID               Name  Age  \\\n",
       "0           0  158023           L. Messi   31   \n",
       "1           1   20801  Cristiano Ronaldo   33   \n",
       "2           2  190871          Neymar Jr   26   \n",
       "3           3  193080             De Gea   27   \n",
       "4           4  192985       K. De Bruyne   27   \n",
       "\n",
       "                                            Photo Nationality  \\\n",
       "0  https://cdn.sofifa.org/players/4/19/158023.png   Argentina   \n",
       "1   https://cdn.sofifa.org/players/4/19/20801.png    Portugal   \n",
       "2  https://cdn.sofifa.org/players/4/19/190871.png      Brazil   \n",
       "3  https://cdn.sofifa.org/players/4/19/193080.png       Spain   \n",
       "4  https://cdn.sofifa.org/players/4/19/192985.png     Belgium   \n",
       "\n",
       "                                  Flag  Overall  Potential  \\\n",
       "0  https://cdn.sofifa.org/flags/52.png       94         94   \n",
       "1  https://cdn.sofifa.org/flags/38.png       94         94   \n",
       "2  https://cdn.sofifa.org/flags/54.png       92         93   \n",
       "3  https://cdn.sofifa.org/flags/45.png       91         93   \n",
       "4   https://cdn.sofifa.org/flags/7.png       91         92   \n",
       "\n",
       "                  Club  ... Composure Marking StandingTackle  SlidingTackle  \\\n",
       "0         FC Barcelona  ...      96.0    33.0           28.0           26.0   \n",
       "1             Juventus  ...      95.0    28.0           31.0           23.0   \n",
       "2  Paris Saint-Germain  ...      94.0    27.0           24.0           33.0   \n",
       "3    Manchester United  ...      68.0    15.0           21.0           13.0   \n",
       "4      Manchester City  ...      88.0    68.0           58.0           51.0   \n",
       "\n",
       "  GKDiving  GKHandling  GKKicking  GKPositioning GKReflexes Release Clause  \n",
       "0      6.0        11.0       15.0           14.0        8.0        €226.5M  \n",
       "1      7.0        11.0       15.0           14.0       11.0        €127.1M  \n",
       "2      9.0         9.0       15.0           15.0       11.0        €228.1M  \n",
       "3     90.0        85.0       87.0           88.0       94.0        €138.6M  \n",
       "4     15.0        13.0        5.0           10.0       13.0        €196.4M  \n",
       "\n",
       "[5 rows x 89 columns]"
      ]
     },
     "execution_count": 11,
     "metadata": {},
     "output_type": "execute_result"
    }
   ],
   "source": [
    "# removing rows with position = null\n",
    "data_df = data_df[data_df[\"Position\"].notnull()]\n",
    "data_df.head()"
   ]
  },
  {
   "cell_type": "code",
   "execution_count": 12,
   "id": "f57ca8a0",
   "metadata": {},
   "outputs": [
    {
     "data": {
      "text/html": [
       "<div>\n",
       "<style scoped>\n",
       "    .dataframe tbody tr th:only-of-type {\n",
       "        vertical-align: middle;\n",
       "    }\n",
       "\n",
       "    .dataframe tbody tr th {\n",
       "        vertical-align: top;\n",
       "    }\n",
       "\n",
       "    .dataframe thead th {\n",
       "        text-align: right;\n",
       "    }\n",
       "</style>\n",
       "<table border=\"1\" class=\"dataframe\">\n",
       "  <thead>\n",
       "    <tr style=\"text-align: right;\">\n",
       "      <th></th>\n",
       "      <th>Unnamed: 0</th>\n",
       "      <th>ID</th>\n",
       "      <th>Name</th>\n",
       "      <th>Age</th>\n",
       "      <th>Photo</th>\n",
       "      <th>Nationality</th>\n",
       "      <th>Flag</th>\n",
       "      <th>Overall</th>\n",
       "      <th>Potential</th>\n",
       "      <th>Club</th>\n",
       "      <th>...</th>\n",
       "      <th>Composure</th>\n",
       "      <th>Marking</th>\n",
       "      <th>StandingTackle</th>\n",
       "      <th>SlidingTackle</th>\n",
       "      <th>GKDiving</th>\n",
       "      <th>GKHandling</th>\n",
       "      <th>GKKicking</th>\n",
       "      <th>GKPositioning</th>\n",
       "      <th>GKReflexes</th>\n",
       "      <th>Release Clause</th>\n",
       "    </tr>\n",
       "  </thead>\n",
       "  <tbody>\n",
       "    <tr>\n",
       "      <th>8605</th>\n",
       "      <td>8605</td>\n",
       "      <td>190939</td>\n",
       "      <td>S. Chhetri</td>\n",
       "      <td>33</td>\n",
       "      <td>https://cdn.sofifa.org/players/4/19/190939.png</td>\n",
       "      <td>India</td>\n",
       "      <td>https://cdn.sofifa.org/flags/159.png</td>\n",
       "      <td>67</td>\n",
       "      <td>67</td>\n",
       "      <td>NaN</td>\n",
       "      <td>...</td>\n",
       "      <td>67.0</td>\n",
       "      <td>30.0</td>\n",
       "      <td>24.0</td>\n",
       "      <td>44.0</td>\n",
       "      <td>10.0</td>\n",
       "      <td>7.0</td>\n",
       "      <td>11.0</td>\n",
       "      <td>9.0</td>\n",
       "      <td>10.0</td>\n",
       "      <td>NaN</td>\n",
       "    </tr>\n",
       "  </tbody>\n",
       "</table>\n",
       "<p>1 rows × 89 columns</p>\n",
       "</div>"
      ],
      "text/plain": [
       "      Unnamed: 0      ID        Name  Age  \\\n",
       "8605        8605  190939  S. Chhetri   33   \n",
       "\n",
       "                                               Photo Nationality  \\\n",
       "8605  https://cdn.sofifa.org/players/4/19/190939.png       India   \n",
       "\n",
       "                                      Flag  Overall  Potential Club  ...  \\\n",
       "8605  https://cdn.sofifa.org/flags/159.png       67         67  NaN  ...   \n",
       "\n",
       "     Composure Marking StandingTackle  SlidingTackle GKDiving  GKHandling  \\\n",
       "8605      67.0    30.0           24.0           44.0     10.0         7.0   \n",
       "\n",
       "      GKKicking  GKPositioning GKReflexes Release Clause  \n",
       "8605       11.0            9.0       10.0            NaN  \n",
       "\n",
       "[1 rows x 89 columns]"
      ]
     },
     "execution_count": 12,
     "metadata": {},
     "output_type": "execute_result"
    }
   ],
   "source": [
    "data_df[data_df['Name']==\"S. Chhetri\"]"
   ]
  },
  {
   "cell_type": "code",
   "execution_count": 13,
   "id": "5a237f4a",
   "metadata": {},
   "outputs": [],
   "source": [
    "# Following columns appear to be relevant for our analysis\n",
    "rel_cols = [\"Position\", 'Finishing', 'HeadingAccuracy', 'ShortPassing', 'Volleys', 'Dribbling',\n",
    "            'Curve', 'FKAccuracy', 'LongPassing', 'BallControl', 'Acceleration',\n",
    "            'SprintSpeed', 'Agility', 'Reactions', 'Balance', 'ShotPower',\n",
    "            'Jumping', 'Stamina', 'Strength', 'LongShots', 'Aggression',\n",
    "            'Interceptions', 'Positioning', 'Vision', 'Penalties', 'Composure',\n",
    "            'Marking', 'StandingTackle', 'SlidingTackle', 'GKDiving', 'GKHandling',\n",
    "            'GKKicking', 'GKPositioning', 'GKReflexes']"
   ]
  },
  {
   "cell_type": "code",
   "execution_count": 14,
   "id": "78f6a5e9",
   "metadata": {},
   "outputs": [],
   "source": [
    "goalkeeper = 'GK'\n",
    "forward = ['ST', 'LW', 'RW', 'LF', 'RF', 'RS','LS', 'CF']\n",
    "midfielder = ['CM','RCM','LCM', 'CDM','RDM','LDM', 'CAM', 'LAM', 'RAM', 'RM', 'LM']\n",
    "defender = ['CB', 'RCB', 'LCB', 'LWB', 'RWB', 'LB', 'RB']"
   ]
  },
  {
   "cell_type": "code",
   "execution_count": 15,
   "id": "ae7c0c41",
   "metadata": {},
   "outputs": [],
   "source": [
    "#Assign labels to goalkeepers\n",
    "data_df.loc[data_df[\"Position\"] == \"GK\", \"Position\"] = 0\n",
    "\n",
    "#Defenders\n",
    "data_df.loc[data_df[\"Position\"].isin(defender), \"Position\"] = 1\n",
    "\n",
    "#Midfielders\n",
    "data_df.loc[data_df[\"Position\"].isin(midfielder), \"Position\"] = 2\n",
    "\n",
    "#Forward\n",
    "data_df.loc[data_df[\"Position\"].isin(forward), \"Position\"] = 3\n",
    "\n",
    "# Convert Column \"Position\" to numeric so that Pandas does not complain\n",
    "data_df['Position'] = pd.to_numeric(data_df['Position'], downcast=\"integer\")"
   ]
  },
  {
   "cell_type": "code",
   "execution_count": 16,
   "id": "592d6055",
   "metadata": {},
   "outputs": [
    {
     "data": {
      "text/html": [
       "<div>\n",
       "<style scoped>\n",
       "    .dataframe tbody tr th:only-of-type {\n",
       "        vertical-align: middle;\n",
       "    }\n",
       "\n",
       "    .dataframe tbody tr th {\n",
       "        vertical-align: top;\n",
       "    }\n",
       "\n",
       "    .dataframe thead th {\n",
       "        text-align: right;\n",
       "    }\n",
       "</style>\n",
       "<table border=\"1\" class=\"dataframe\">\n",
       "  <thead>\n",
       "    <tr style=\"text-align: right;\">\n",
       "      <th></th>\n",
       "      <th>Position</th>\n",
       "      <th>Finishing</th>\n",
       "      <th>HeadingAccuracy</th>\n",
       "      <th>ShortPassing</th>\n",
       "      <th>Volleys</th>\n",
       "      <th>Dribbling</th>\n",
       "      <th>Curve</th>\n",
       "      <th>FKAccuracy</th>\n",
       "      <th>LongPassing</th>\n",
       "      <th>BallControl</th>\n",
       "      <th>...</th>\n",
       "      <th>Penalties</th>\n",
       "      <th>Composure</th>\n",
       "      <th>Marking</th>\n",
       "      <th>StandingTackle</th>\n",
       "      <th>SlidingTackle</th>\n",
       "      <th>GKDiving</th>\n",
       "      <th>GKHandling</th>\n",
       "      <th>GKKicking</th>\n",
       "      <th>GKPositioning</th>\n",
       "      <th>GKReflexes</th>\n",
       "    </tr>\n",
       "  </thead>\n",
       "  <tbody>\n",
       "    <tr>\n",
       "      <th>0</th>\n",
       "      <td>3</td>\n",
       "      <td>95.0</td>\n",
       "      <td>70.0</td>\n",
       "      <td>90.0</td>\n",
       "      <td>86.0</td>\n",
       "      <td>97.0</td>\n",
       "      <td>93.0</td>\n",
       "      <td>94.0</td>\n",
       "      <td>87.0</td>\n",
       "      <td>96.0</td>\n",
       "      <td>...</td>\n",
       "      <td>75.0</td>\n",
       "      <td>96.0</td>\n",
       "      <td>33.0</td>\n",
       "      <td>28.0</td>\n",
       "      <td>26.0</td>\n",
       "      <td>6.0</td>\n",
       "      <td>11.0</td>\n",
       "      <td>15.0</td>\n",
       "      <td>14.0</td>\n",
       "      <td>8.0</td>\n",
       "    </tr>\n",
       "    <tr>\n",
       "      <th>1</th>\n",
       "      <td>3</td>\n",
       "      <td>94.0</td>\n",
       "      <td>89.0</td>\n",
       "      <td>81.0</td>\n",
       "      <td>87.0</td>\n",
       "      <td>88.0</td>\n",
       "      <td>81.0</td>\n",
       "      <td>76.0</td>\n",
       "      <td>77.0</td>\n",
       "      <td>94.0</td>\n",
       "      <td>...</td>\n",
       "      <td>85.0</td>\n",
       "      <td>95.0</td>\n",
       "      <td>28.0</td>\n",
       "      <td>31.0</td>\n",
       "      <td>23.0</td>\n",
       "      <td>7.0</td>\n",
       "      <td>11.0</td>\n",
       "      <td>15.0</td>\n",
       "      <td>14.0</td>\n",
       "      <td>11.0</td>\n",
       "    </tr>\n",
       "    <tr>\n",
       "      <th>2</th>\n",
       "      <td>3</td>\n",
       "      <td>87.0</td>\n",
       "      <td>62.0</td>\n",
       "      <td>84.0</td>\n",
       "      <td>84.0</td>\n",
       "      <td>96.0</td>\n",
       "      <td>88.0</td>\n",
       "      <td>87.0</td>\n",
       "      <td>78.0</td>\n",
       "      <td>95.0</td>\n",
       "      <td>...</td>\n",
       "      <td>81.0</td>\n",
       "      <td>94.0</td>\n",
       "      <td>27.0</td>\n",
       "      <td>24.0</td>\n",
       "      <td>33.0</td>\n",
       "      <td>9.0</td>\n",
       "      <td>9.0</td>\n",
       "      <td>15.0</td>\n",
       "      <td>15.0</td>\n",
       "      <td>11.0</td>\n",
       "    </tr>\n",
       "    <tr>\n",
       "      <th>3</th>\n",
       "      <td>0</td>\n",
       "      <td>13.0</td>\n",
       "      <td>21.0</td>\n",
       "      <td>50.0</td>\n",
       "      <td>13.0</td>\n",
       "      <td>18.0</td>\n",
       "      <td>21.0</td>\n",
       "      <td>19.0</td>\n",
       "      <td>51.0</td>\n",
       "      <td>42.0</td>\n",
       "      <td>...</td>\n",
       "      <td>40.0</td>\n",
       "      <td>68.0</td>\n",
       "      <td>15.0</td>\n",
       "      <td>21.0</td>\n",
       "      <td>13.0</td>\n",
       "      <td>90.0</td>\n",
       "      <td>85.0</td>\n",
       "      <td>87.0</td>\n",
       "      <td>88.0</td>\n",
       "      <td>94.0</td>\n",
       "    </tr>\n",
       "    <tr>\n",
       "      <th>4</th>\n",
       "      <td>2</td>\n",
       "      <td>82.0</td>\n",
       "      <td>55.0</td>\n",
       "      <td>92.0</td>\n",
       "      <td>82.0</td>\n",
       "      <td>86.0</td>\n",
       "      <td>85.0</td>\n",
       "      <td>83.0</td>\n",
       "      <td>91.0</td>\n",
       "      <td>91.0</td>\n",
       "      <td>...</td>\n",
       "      <td>79.0</td>\n",
       "      <td>88.0</td>\n",
       "      <td>68.0</td>\n",
       "      <td>58.0</td>\n",
       "      <td>51.0</td>\n",
       "      <td>15.0</td>\n",
       "      <td>13.0</td>\n",
       "      <td>5.0</td>\n",
       "      <td>10.0</td>\n",
       "      <td>13.0</td>\n",
       "    </tr>\n",
       "  </tbody>\n",
       "</table>\n",
       "<p>5 rows × 34 columns</p>\n",
       "</div>"
      ],
      "text/plain": [
       "   Position  Finishing  HeadingAccuracy  ShortPassing  Volleys  Dribbling  \\\n",
       "0         3       95.0             70.0          90.0     86.0       97.0   \n",
       "1         3       94.0             89.0          81.0     87.0       88.0   \n",
       "2         3       87.0             62.0          84.0     84.0       96.0   \n",
       "3         0       13.0             21.0          50.0     13.0       18.0   \n",
       "4         2       82.0             55.0          92.0     82.0       86.0   \n",
       "\n",
       "   Curve  FKAccuracy  LongPassing  BallControl  ...  Penalties  Composure  \\\n",
       "0   93.0        94.0         87.0         96.0  ...       75.0       96.0   \n",
       "1   81.0        76.0         77.0         94.0  ...       85.0       95.0   \n",
       "2   88.0        87.0         78.0         95.0  ...       81.0       94.0   \n",
       "3   21.0        19.0         51.0         42.0  ...       40.0       68.0   \n",
       "4   85.0        83.0         91.0         91.0  ...       79.0       88.0   \n",
       "\n",
       "   Marking  StandingTackle  SlidingTackle  GKDiving  GKHandling  GKKicking  \\\n",
       "0     33.0            28.0           26.0       6.0        11.0       15.0   \n",
       "1     28.0            31.0           23.0       7.0        11.0       15.0   \n",
       "2     27.0            24.0           33.0       9.0         9.0       15.0   \n",
       "3     15.0            21.0           13.0      90.0        85.0       87.0   \n",
       "4     68.0            58.0           51.0      15.0        13.0        5.0   \n",
       "\n",
       "   GKPositioning  GKReflexes  \n",
       "0           14.0         8.0  \n",
       "1           14.0        11.0  \n",
       "2           15.0        11.0  \n",
       "3           88.0        94.0  \n",
       "4           10.0        13.0  \n",
       "\n",
       "[5 rows x 34 columns]"
      ]
     },
     "execution_count": 16,
     "metadata": {},
     "output_type": "execute_result"
    }
   ],
   "source": [
    "data_df = data_df[rel_cols]\n",
    "data_df.head()"
   ]
  },
  {
   "cell_type": "code",
   "execution_count": 17,
   "id": "2090980a",
   "metadata": {},
   "outputs": [],
   "source": [
    "labels = {0: 'Goal Keeper', 1: 'Defender', 2: 'Mid-Fielder', 3: 'Forward'}"
   ]
  },
  {
   "cell_type": "code",
   "execution_count": 18,
   "id": "6ebc0f10",
   "metadata": {},
   "outputs": [],
   "source": [
    "features_df = data_df.drop('Position', axis=1)\n",
    "labels_df = data_df['Position']"
   ]
  },
  {
   "cell_type": "code",
   "execution_count": 19,
   "id": "1644bc88",
   "metadata": {},
   "outputs": [
    {
     "data": {
      "text/plain": [
       "((14517, 33), (3630, 33), (14517,), (3630,))"
      ]
     },
     "execution_count": 19,
     "metadata": {},
     "output_type": "execute_result"
    }
   ],
   "source": [
    "# splitting in train ans test datasets\n",
    "X_train, X_test, y_train, y_test = train_test_split(features_df,\n",
    "                                     labels_df,\n",
    "                                     stratify=labels_df,\n",
    "                                     test_size=TEST_SIZE, \n",
    "                                     random_state=RANDOM_STATE)\n",
    "\n",
    "X_train.shape, X_test.shape, y_train.shape, y_test.shape"
   ]
  },
  {
   "cell_type": "code",
   "execution_count": 20,
   "id": "68bbbda8",
   "metadata": {},
   "outputs": [],
   "source": [
    "sc = StandardScaler()\n",
    "\n",
    "X_train = sc.fit_transform(X_train)\n",
    "\n",
    "X_test = sc.transform(X_test)"
   ]
  },
  {
   "cell_type": "code",
   "execution_count": 21,
   "id": "5f9b4805",
   "metadata": {},
   "outputs": [
    {
     "data": {
      "text/plain": [
       "(14517, 33)"
      ]
     },
     "metadata": {},
     "output_type": "display_data"
    },
    {
     "data": {
      "text/plain": [
       "(3630, 33)"
      ]
     },
     "metadata": {},
     "output_type": "display_data"
    }
   ],
   "source": [
    "# important to reset the indies as we will be fetching by index\n",
    "\n",
    "# train_df = train_df.reset_index(drop=True)\n",
    "display (X_train.shape)\n",
    "\n",
    "# test_df = test_df.reset_index(drop=True)\n",
    "display(X_test.shape)"
   ]
  },
  {
   "cell_type": "code",
   "execution_count": 22,
   "id": "930466c6-032f-458c-81ac-0f64608b5c11",
   "metadata": {},
   "outputs": [
    {
     "data": {
      "text/plain": [
       "[0, 1, 2, 3]"
      ]
     },
     "execution_count": 22,
     "metadata": {},
     "output_type": "execute_result"
    }
   ],
   "source": [
    "list(labels.keys())"
   ]
  },
  {
   "cell_type": "code",
   "execution_count": 23,
   "id": "1a6e0120-e9df-4054-936b-3cbfa73807e9",
   "metadata": {},
   "outputs": [
    {
     "name": "stdout",
     "output_type": "stream",
     "text": [
      "WARNING:tensorflow:From c:\\Users\\Administrator.DAI-PC2\\.conda\\envs\\New\\lib\\site-packages\\keras\\src\\losses.py:2976: The name tf.losses.sparse_softmax_cross_entropy is deprecated. Please use tf.compat.v1.losses.sparse_softmax_cross_entropy instead.\n",
      "\n"
     ]
    }
   ],
   "source": [
    "import tensorflow as tf"
   ]
  },
  {
   "cell_type": "code",
   "execution_count": 24,
   "id": "3162a3a1-0aed-4cbf-828c-c80cd0b7d7e9",
   "metadata": {},
   "outputs": [
    {
     "name": "stdout",
     "output_type": "stream",
     "text": [
      "WARNING:tensorflow:From c:\\Users\\Administrator.DAI-PC2\\.conda\\envs\\New\\lib\\site-packages\\keras\\src\\backend.py:873: The name tf.get_default_graph is deprecated. Please use tf.compat.v1.get_default_graph instead.\n",
      "\n"
     ]
    }
   ],
   "source": [
    "# Calling class Sequential and pass all layers as a list\n",
    "model = tf.keras.models.Sequential([\n",
    "  tf.keras.layers.Dense(18, activation=tf.nn.silu), # alternatively activation = 'swish' \n",
    "  tf.keras.layers.Dense(4) # notice absence of softmax function\n",
    "])"
   ]
  },
  {
   "cell_type": "code",
   "execution_count": 25,
   "id": "726b8b6e",
   "metadata": {},
   "outputs": [
    {
     "data": {
      "text/plain": [
       "'2.15.1'"
      ]
     },
     "execution_count": 25,
     "metadata": {},
     "output_type": "execute_result"
    }
   ],
   "source": [
    "tf.__version__"
   ]
  },
  {
   "cell_type": "code",
   "execution_count": 26,
   "id": "1f4807ff",
   "metadata": {},
   "outputs": [],
   "source": [
    "inputs = tf.keras.Input(shape = (33,))\n",
    "\n",
    "x = tf.keras.layers.Dense(18, activation= tf.nn.relu)(inputs)\n",
    "\n",
    "outputs = tf.keras.layers.Dense(4)(x)\n",
    "\n",
    "model1 = tf.keras.Model(inputs = inputs, outputs = outputs)"
   ]
  },
  {
   "cell_type": "code",
   "execution_count": 27,
   "id": "31f129f0-6250-4534-878a-5c1424db2877",
   "metadata": {},
   "outputs": [
    {
     "data": {
      "text/plain": [
       "array([[-0.81965613, -0.10281361,  0.75643873,  0.22611724]],\n",
       "      dtype=float32)"
      ]
     },
     "execution_count": 27,
     "metadata": {},
     "output_type": "execute_result"
    }
   ],
   "source": [
    "predictions = model(X_train[:1]).numpy()\n",
    "predictions"
   ]
  },
  {
   "cell_type": "code",
   "execution_count": 28,
   "id": "f9cbdef6",
   "metadata": {},
   "outputs": [
    {
     "data": {
      "text/plain": [
       "0.060086235"
      ]
     },
     "execution_count": 28,
     "metadata": {},
     "output_type": "execute_result"
    }
   ],
   "source": [
    "predictions.sum()"
   ]
  },
  {
   "cell_type": "code",
   "execution_count": 29,
   "id": "71844437",
   "metadata": {},
   "outputs": [
    {
     "data": {
      "text/plain": [
       "array([[-0.5422237,  1.2238891,  0.5397292, -0.665383 ]], dtype=float32)"
      ]
     },
     "execution_count": 29,
     "metadata": {},
     "output_type": "execute_result"
    }
   ],
   "source": [
    "predictions1 = model1(X_train[:1]).numpy()\n",
    "predictions1"
   ]
  },
  {
   "cell_type": "code",
   "execution_count": 30,
   "id": "4d1ba840",
   "metadata": {},
   "outputs": [
    {
     "data": {
      "text/plain": [
       "0.55601156"
      ]
     },
     "execution_count": 30,
     "metadata": {},
     "output_type": "execute_result"
    }
   ],
   "source": [
    "predictions1.sum()"
   ]
  },
  {
   "cell_type": "code",
   "execution_count": 31,
   "id": "8633f5ba",
   "metadata": {},
   "outputs": [
    {
     "data": {
      "text/plain": [
       "array([[0.09320022, 0.19087002, 0.45071945, 0.26521042]], dtype=float32)"
      ]
     },
     "execution_count": 31,
     "metadata": {},
     "output_type": "execute_result"
    }
   ],
   "source": [
    "tf.nn.softmax(predictions).numpy()"
   ]
  },
  {
   "cell_type": "code",
   "execution_count": 32,
   "id": "146a9484",
   "metadata": {},
   "outputs": [
    {
     "data": {
      "text/plain": [
       "1.0000001"
      ]
     },
     "execution_count": 32,
     "metadata": {},
     "output_type": "execute_result"
    }
   ],
   "source": [
    "tf.nn.softmax(predictions).numpy().sum()"
   ]
  },
  {
   "cell_type": "code",
   "execution_count": 33,
   "id": "0db3ff63",
   "metadata": {},
   "outputs": [
    {
     "data": {
      "text/plain": [
       "array([[0.09360987, 0.5474376 , 0.27618986, 0.08276261]], dtype=float32)"
      ]
     },
     "execution_count": 33,
     "metadata": {},
     "output_type": "execute_result"
    }
   ],
   "source": [
    "tf.nn.softmax(predictions1).numpy()"
   ]
  },
  {
   "cell_type": "code",
   "execution_count": 34,
   "id": "31bdf88a",
   "metadata": {},
   "outputs": [
    {
     "data": {
      "text/plain": [
       "0.99999994"
      ]
     },
     "execution_count": 34,
     "metadata": {},
     "output_type": "execute_result"
    }
   ],
   "source": [
    "tf.nn.softmax(predictions1).numpy().sum()"
   ]
  },
  {
   "cell_type": "markdown",
   "id": "fbebf354",
   "metadata": {},
   "source": [
    "Layer 1 -> 33*18 + 18 = 612 \\\n",
    "           inputs * outputs + outputs"
   ]
  },
  {
   "cell_type": "code",
   "execution_count": 35,
   "id": "7ba3a4ab",
   "metadata": {},
   "outputs": [
    {
     "name": "stdout",
     "output_type": "stream",
     "text": [
      "Model: \"sequential\"\n",
      "_________________________________________________________________\n",
      " Layer (type)                Output Shape              Param #   \n",
      "=================================================================\n",
      " dense (Dense)               (1, 18)                   612       \n",
      "                                                                 \n",
      " dense_1 (Dense)             (1, 4)                    76        \n",
      "                                                                 \n",
      "=================================================================\n",
      "Total params: 688 (2.69 KB)\n",
      "Trainable params: 688 (2.69 KB)\n",
      "Non-trainable params: 0 (0.00 Byte)\n",
      "_________________________________________________________________\n"
     ]
    }
   ],
   "source": [
    "model.summary()"
   ]
  },
  {
   "cell_type": "code",
   "execution_count": 36,
   "id": "2d835bef",
   "metadata": {},
   "outputs": [
    {
     "name": "stdout",
     "output_type": "stream",
     "text": [
      "Model: \"model\"\n",
      "_________________________________________________________________\n",
      " Layer (type)                Output Shape              Param #   \n",
      "=================================================================\n",
      " input_1 (InputLayer)        [(None, 33)]              0         \n",
      "                                                                 \n",
      " dense_2 (Dense)             (None, 18)                612       \n",
      "                                                                 \n",
      " dense_3 (Dense)             (None, 4)                 76        \n",
      "                                                                 \n",
      "=================================================================\n",
      "Total params: 688 (2.69 KB)\n",
      "Trainable params: 688 (2.69 KB)\n",
      "Non-trainable params: 0 (0.00 Byte)\n",
      "_________________________________________________________________\n"
     ]
    }
   ],
   "source": [
    "model1.summary()"
   ]
  },
  {
   "cell_type": "code",
   "execution_count": 37,
   "id": "cfc65002",
   "metadata": {},
   "outputs": [
    {
     "name": "stdout",
     "output_type": "stream",
     "text": [
      "Max Float:  1.7976931348623157e+308 \n",
      "Min Float:  2.2250738585072014e-308\n"
     ]
    }
   ],
   "source": [
    "print('Max Float: ',sys.float_info.max, '\\nMin Float: ',sys.float_info.min)"
   ]
  },
  {
   "cell_type": "code",
   "execution_count": 38,
   "id": "d819356e",
   "metadata": {},
   "outputs": [
    {
     "data": {
      "text/plain": [
       "709.782712893384"
      ]
     },
     "execution_count": 38,
     "metadata": {},
     "output_type": "execute_result"
    }
   ],
   "source": [
    "np.log(sys.float_info.max)\n",
    "# We can get exp max till 709.782712893384, if we try to find exp of value greater than it, pc will return infinity"
   ]
  },
  {
   "cell_type": "code",
   "execution_count": 39,
   "id": "735f0727",
   "metadata": {},
   "outputs": [
    {
     "name": "stderr",
     "output_type": "stream",
     "text": [
      "C:\\Users\\Administrator.DAI-PC2\\AppData\\Local\\Temp\\ipykernel_21312\\2417250246.py:1: RuntimeWarning: overflow encountered in exp\n",
      "  np.exp(709.79)\n"
     ]
    },
    {
     "data": {
      "text/plain": [
       "inf"
      ]
     },
     "execution_count": 39,
     "metadata": {},
     "output_type": "execute_result"
    }
   ],
   "source": [
    "np.exp(709.79)"
   ]
  },
  {
   "cell_type": "code",
   "execution_count": 40,
   "id": "5daf19f4",
   "metadata": {},
   "outputs": [],
   "source": [
    "loss_fn = tf.keras.losses.SparseCategoricalCrossentropy(from_logits = True)"
   ]
  },
  {
   "cell_type": "code",
   "execution_count": 41,
   "id": "d75366f1",
   "metadata": {},
   "outputs": [
    {
     "data": {
      "text/plain": [
       "<keras.src.losses.SparseCategoricalCrossentropy at 0x21e3c5e10c0>"
      ]
     },
     "execution_count": 41,
     "metadata": {},
     "output_type": "execute_result"
    }
   ],
   "source": [
    "loss_fn"
   ]
  },
  {
   "cell_type": "code",
   "execution_count": 42,
   "id": "5102e8b1",
   "metadata": {},
   "outputs": [
    {
     "data": {
      "text/plain": [
       "14537    3\n",
       "Name: Position, dtype: int8"
      ]
     },
     "execution_count": 42,
     "metadata": {},
     "output_type": "execute_result"
    }
   ],
   "source": [
    "y_train[:1]"
   ]
  },
  {
   "cell_type": "code",
   "execution_count": 43,
   "id": "4e259f86",
   "metadata": {},
   "outputs": [
    {
     "data": {
      "text/plain": [
       "1.3272319"
      ]
     },
     "execution_count": 43,
     "metadata": {},
     "output_type": "execute_result"
    }
   ],
   "source": [
    "loss_fn(y_train[:1], predictions).numpy()"
   ]
  },
  {
   "cell_type": "code",
   "execution_count": 44,
   "id": "61cbda89",
   "metadata": {},
   "outputs": [
    {
     "data": {
      "text/plain": [
       "2.4917789"
      ]
     },
     "execution_count": 44,
     "metadata": {},
     "output_type": "execute_result"
    }
   ],
   "source": [
    "loss_fn(y_train[:1], predictions1).numpy()"
   ]
  },
  {
   "cell_type": "code",
   "execution_count": 45,
   "id": "0564ccce",
   "metadata": {},
   "outputs": [
    {
     "name": "stdout",
     "output_type": "stream",
     "text": [
      "WARNING:tensorflow:From c:\\Users\\Administrator.DAI-PC2\\.conda\\envs\\New\\lib\\site-packages\\keras\\src\\optimizers\\__init__.py:309: The name tf.train.Optimizer is deprecated. Please use tf.compat.v1.train.Optimizer instead.\n",
      "\n"
     ]
    }
   ],
   "source": [
    "model.compile(optimizer='adam',\n",
    "              loss = loss_fn,\n",
    "              metrics = ['accuracy'])"
   ]
  },
  {
   "cell_type": "code",
   "execution_count": 46,
   "id": "174c76f0",
   "metadata": {},
   "outputs": [
    {
     "name": "stdout",
     "output_type": "stream",
     "text": [
      "Epoch 1/101\n",
      "WARNING:tensorflow:From c:\\Users\\Administrator.DAI-PC2\\.conda\\envs\\New\\lib\\site-packages\\keras\\src\\utils\\tf_utils.py:492: The name tf.ragged.RaggedTensorValue is deprecated. Please use tf.compat.v1.ragged.RaggedTensorValue instead.\n",
      "\n"
     ]
    },
    {
     "name": "stdout",
     "output_type": "stream",
     "text": [
      "WARNING:tensorflow:From c:\\Users\\Administrator.DAI-PC2\\.conda\\envs\\New\\lib\\site-packages\\keras\\src\\engine\\base_layer_utils.py:384: The name tf.executing_eagerly_outside_functions is deprecated. Please use tf.compat.v1.executing_eagerly_outside_functions instead.\n",
      "\n",
      "454/454 [==============================] - 3s 4ms/step - loss: 0.5909 - accuracy: 0.7701 - val_loss: 0.3819 - val_accuracy: 0.8391\n",
      "Epoch 2/101\n",
      "454/454 [==============================] - 2s 3ms/step - loss: 0.3462 - accuracy: 0.8572 - val_loss: 0.3387 - val_accuracy: 0.8559\n",
      "Epoch 3/101\n",
      "454/454 [==============================] - 2s 3ms/step - loss: 0.3211 - accuracy: 0.8666 - val_loss: 0.3249 - val_accuracy: 0.8579\n",
      "Epoch 4/101\n",
      "454/454 [==============================] - 2s 3ms/step - loss: 0.3093 - accuracy: 0.8716 - val_loss: 0.3166 - val_accuracy: 0.8639\n",
      "Epoch 5/101\n",
      "454/454 [==============================] - 2s 4ms/step - loss: 0.3022 - accuracy: 0.8756 - val_loss: 0.3112 - val_accuracy: 0.8697\n",
      "Epoch 6/101\n",
      "454/454 [==============================] - 1s 3ms/step - loss: 0.2970 - accuracy: 0.8771 - val_loss: 0.3065 - val_accuracy: 0.8702\n",
      "Epoch 7/101\n",
      "454/454 [==============================] - 2s 3ms/step - loss: 0.2937 - accuracy: 0.8780 - val_loss: 0.3056 - val_accuracy: 0.8675\n",
      "Epoch 8/101\n",
      "454/454 [==============================] - 1s 3ms/step - loss: 0.2914 - accuracy: 0.8797 - val_loss: 0.3077 - val_accuracy: 0.8694\n",
      "Epoch 9/101\n",
      "454/454 [==============================] - 1s 3ms/step - loss: 0.2891 - accuracy: 0.8802 - val_loss: 0.3024 - val_accuracy: 0.8675\n",
      "Epoch 10/101\n",
      "454/454 [==============================] - 1s 3ms/step - loss: 0.2873 - accuracy: 0.8834 - val_loss: 0.2994 - val_accuracy: 0.8725\n",
      "Epoch 11/101\n",
      "454/454 [==============================] - 1s 3ms/step - loss: 0.2853 - accuracy: 0.8834 - val_loss: 0.2983 - val_accuracy: 0.8766\n",
      "Epoch 12/101\n",
      "454/454 [==============================] - 1s 3ms/step - loss: 0.2839 - accuracy: 0.8847 - val_loss: 0.2989 - val_accuracy: 0.8749\n",
      "Epoch 13/101\n",
      "454/454 [==============================] - 1s 3ms/step - loss: 0.2830 - accuracy: 0.8835 - val_loss: 0.2992 - val_accuracy: 0.8758\n",
      "Epoch 14/101\n",
      "454/454 [==============================] - 1s 3ms/step - loss: 0.2821 - accuracy: 0.8839 - val_loss: 0.3013 - val_accuracy: 0.8760\n",
      "Epoch 15/101\n",
      "454/454 [==============================] - 1s 3ms/step - loss: 0.2812 - accuracy: 0.8834 - val_loss: 0.2975 - val_accuracy: 0.8782\n",
      "Epoch 16/101\n",
      "454/454 [==============================] - 1s 3ms/step - loss: 0.2805 - accuracy: 0.8836 - val_loss: 0.2961 - val_accuracy: 0.8777\n",
      "Epoch 17/101\n",
      "454/454 [==============================] - 1s 3ms/step - loss: 0.2788 - accuracy: 0.8850 - val_loss: 0.2984 - val_accuracy: 0.8763\n",
      "Epoch 18/101\n",
      "454/454 [==============================] - 1s 3ms/step - loss: 0.2787 - accuracy: 0.8839 - val_loss: 0.2966 - val_accuracy: 0.8730\n",
      "Epoch 19/101\n",
      "454/454 [==============================] - 1s 3ms/step - loss: 0.2785 - accuracy: 0.8859 - val_loss: 0.2952 - val_accuracy: 0.8785\n",
      "Epoch 20/101\n",
      "454/454 [==============================] - 2s 3ms/step - loss: 0.2776 - accuracy: 0.8841 - val_loss: 0.2964 - val_accuracy: 0.8788\n",
      "Epoch 21/101\n",
      "454/454 [==============================] - 1s 3ms/step - loss: 0.2766 - accuracy: 0.8852 - val_loss: 0.2947 - val_accuracy: 0.8799\n",
      "Epoch 22/101\n",
      "454/454 [==============================] - 1s 3ms/step - loss: 0.2761 - accuracy: 0.8854 - val_loss: 0.2954 - val_accuracy: 0.8793\n",
      "Epoch 23/101\n",
      "454/454 [==============================] - 2s 3ms/step - loss: 0.2754 - accuracy: 0.8868 - val_loss: 0.2955 - val_accuracy: 0.8788\n",
      "Epoch 24/101\n",
      "454/454 [==============================] - 2s 3ms/step - loss: 0.2750 - accuracy: 0.8866 - val_loss: 0.2961 - val_accuracy: 0.8760\n",
      "Epoch 25/101\n",
      "454/454 [==============================] - 2s 3ms/step - loss: 0.2741 - accuracy: 0.8874 - val_loss: 0.2959 - val_accuracy: 0.8766\n",
      "Epoch 26/101\n",
      "454/454 [==============================] - 2s 3ms/step - loss: 0.2739 - accuracy: 0.8872 - val_loss: 0.2945 - val_accuracy: 0.8791\n",
      "Epoch 27/101\n",
      "454/454 [==============================] - 1s 3ms/step - loss: 0.2732 - accuracy: 0.8871 - val_loss: 0.2948 - val_accuracy: 0.8793\n",
      "Epoch 28/101\n",
      "454/454 [==============================] - 2s 3ms/step - loss: 0.2730 - accuracy: 0.8870 - val_loss: 0.2973 - val_accuracy: 0.8793\n",
      "Epoch 29/101\n",
      "454/454 [==============================] - 1s 3ms/step - loss: 0.2725 - accuracy: 0.8873 - val_loss: 0.2955 - val_accuracy: 0.8788\n",
      "Epoch 30/101\n",
      "454/454 [==============================] - 2s 3ms/step - loss: 0.2716 - accuracy: 0.8892 - val_loss: 0.2964 - val_accuracy: 0.8763\n",
      "Epoch 31/101\n",
      "454/454 [==============================] - 2s 3ms/step - loss: 0.2717 - accuracy: 0.8874 - val_loss: 0.2974 - val_accuracy: 0.8749\n",
      "Epoch 32/101\n",
      "454/454 [==============================] - 1s 3ms/step - loss: 0.2712 - accuracy: 0.8879 - val_loss: 0.2954 - val_accuracy: 0.8785\n",
      "Epoch 33/101\n",
      "454/454 [==============================] - 1s 3ms/step - loss: 0.2705 - accuracy: 0.8885 - val_loss: 0.2953 - val_accuracy: 0.8788\n",
      "Epoch 34/101\n",
      "454/454 [==============================] - 1s 3ms/step - loss: 0.2704 - accuracy: 0.8881 - val_loss: 0.2968 - val_accuracy: 0.8766\n",
      "Epoch 35/101\n",
      "454/454 [==============================] - 1s 3ms/step - loss: 0.2699 - accuracy: 0.8888 - val_loss: 0.2954 - val_accuracy: 0.8782\n",
      "Epoch 36/101\n",
      "454/454 [==============================] - 1s 3ms/step - loss: 0.2691 - accuracy: 0.8888 - val_loss: 0.2962 - val_accuracy: 0.8752\n",
      "Epoch 37/101\n",
      "454/454 [==============================] - 2s 3ms/step - loss: 0.2693 - accuracy: 0.8885 - val_loss: 0.2953 - val_accuracy: 0.8799\n",
      "Epoch 38/101\n",
      "454/454 [==============================] - 1s 3ms/step - loss: 0.2688 - accuracy: 0.8896 - val_loss: 0.2975 - val_accuracy: 0.8774\n",
      "Epoch 39/101\n",
      "454/454 [==============================] - 1s 3ms/step - loss: 0.2682 - accuracy: 0.8892 - val_loss: 0.2955 - val_accuracy: 0.8788\n",
      "Epoch 40/101\n",
      "454/454 [==============================] - 2s 3ms/step - loss: 0.2681 - accuracy: 0.8899 - val_loss: 0.2970 - val_accuracy: 0.8736\n",
      "Epoch 41/101\n",
      "454/454 [==============================] - 1s 3ms/step - loss: 0.2683 - accuracy: 0.8879 - val_loss: 0.2961 - val_accuracy: 0.8785\n",
      "Epoch 42/101\n",
      "454/454 [==============================] - 1s 3ms/step - loss: 0.2675 - accuracy: 0.8902 - val_loss: 0.2953 - val_accuracy: 0.8780\n",
      "Epoch 43/101\n",
      "454/454 [==============================] - 1s 3ms/step - loss: 0.2668 - accuracy: 0.8894 - val_loss: 0.2957 - val_accuracy: 0.8804\n",
      "Epoch 44/101\n",
      "454/454 [==============================] - 1s 3ms/step - loss: 0.2666 - accuracy: 0.8898 - val_loss: 0.2953 - val_accuracy: 0.8791\n",
      "Epoch 45/101\n",
      "454/454 [==============================] - 2s 3ms/step - loss: 0.2666 - accuracy: 0.8896 - val_loss: 0.2976 - val_accuracy: 0.8769\n",
      "Epoch 46/101\n",
      "454/454 [==============================] - 2s 4ms/step - loss: 0.2661 - accuracy: 0.8899 - val_loss: 0.2957 - val_accuracy: 0.8766\n",
      "Epoch 47/101\n",
      "454/454 [==============================] - 2s 3ms/step - loss: 0.2659 - accuracy: 0.8889 - val_loss: 0.2954 - val_accuracy: 0.8763\n",
      "Epoch 48/101\n",
      "454/454 [==============================] - 1s 3ms/step - loss: 0.2654 - accuracy: 0.8903 - val_loss: 0.2969 - val_accuracy: 0.8777\n",
      "Epoch 49/101\n",
      "454/454 [==============================] - 1s 3ms/step - loss: 0.2654 - accuracy: 0.8892 - val_loss: 0.2966 - val_accuracy: 0.8774\n",
      "Epoch 50/101\n",
      "454/454 [==============================] - 1s 3ms/step - loss: 0.2653 - accuracy: 0.8898 - val_loss: 0.2967 - val_accuracy: 0.8777\n",
      "Epoch 51/101\n",
      "454/454 [==============================] - 1s 3ms/step - loss: 0.2652 - accuracy: 0.8897 - val_loss: 0.2951 - val_accuracy: 0.8782\n",
      "Epoch 52/101\n",
      "454/454 [==============================] - 1s 3ms/step - loss: 0.2643 - accuracy: 0.8912 - val_loss: 0.3001 - val_accuracy: 0.8780\n",
      "Epoch 53/101\n",
      "454/454 [==============================] - 1s 3ms/step - loss: 0.2644 - accuracy: 0.8894 - val_loss: 0.2964 - val_accuracy: 0.8777\n",
      "Epoch 54/101\n",
      "454/454 [==============================] - 1s 3ms/step - loss: 0.2645 - accuracy: 0.8903 - val_loss: 0.2953 - val_accuracy: 0.8769\n",
      "Epoch 55/101\n",
      "454/454 [==============================] - 1s 3ms/step - loss: 0.2641 - accuracy: 0.8912 - val_loss: 0.2967 - val_accuracy: 0.8744\n",
      "Epoch 56/101\n",
      "454/454 [==============================] - 1s 3ms/step - loss: 0.2636 - accuracy: 0.8903 - val_loss: 0.2974 - val_accuracy: 0.8780\n",
      "Epoch 57/101\n",
      "454/454 [==============================] - 1s 3ms/step - loss: 0.2633 - accuracy: 0.8905 - val_loss: 0.2968 - val_accuracy: 0.8774\n",
      "Epoch 58/101\n",
      "454/454 [==============================] - 1s 3ms/step - loss: 0.2630 - accuracy: 0.8925 - val_loss: 0.2970 - val_accuracy: 0.8780\n",
      "Epoch 59/101\n",
      "454/454 [==============================] - 1s 3ms/step - loss: 0.2631 - accuracy: 0.8912 - val_loss: 0.2969 - val_accuracy: 0.8788\n",
      "Epoch 60/101\n",
      "454/454 [==============================] - 1s 3ms/step - loss: 0.2625 - accuracy: 0.8907 - val_loss: 0.2971 - val_accuracy: 0.8752\n",
      "Epoch 61/101\n",
      "454/454 [==============================] - 1s 3ms/step - loss: 0.2621 - accuracy: 0.8920 - val_loss: 0.2983 - val_accuracy: 0.8793\n",
      "Epoch 62/101\n",
      "454/454 [==============================] - 1s 3ms/step - loss: 0.2623 - accuracy: 0.8901 - val_loss: 0.2971 - val_accuracy: 0.8752\n",
      "Epoch 63/101\n",
      "454/454 [==============================] - 2s 3ms/step - loss: 0.2621 - accuracy: 0.8910 - val_loss: 0.2976 - val_accuracy: 0.8796\n",
      "Epoch 64/101\n",
      "454/454 [==============================] - 1s 3ms/step - loss: 0.2624 - accuracy: 0.8911 - val_loss: 0.2968 - val_accuracy: 0.8763\n",
      "Epoch 65/101\n",
      "454/454 [==============================] - 1s 3ms/step - loss: 0.2616 - accuracy: 0.8912 - val_loss: 0.2971 - val_accuracy: 0.8771\n",
      "Epoch 66/101\n",
      "454/454 [==============================] - 2s 3ms/step - loss: 0.2615 - accuracy: 0.8918 - val_loss: 0.2979 - val_accuracy: 0.8777\n",
      "Epoch 67/101\n",
      "454/454 [==============================] - 1s 3ms/step - loss: 0.2621 - accuracy: 0.8912 - val_loss: 0.2974 - val_accuracy: 0.8782\n",
      "Epoch 68/101\n",
      "454/454 [==============================] - 1s 3ms/step - loss: 0.2609 - accuracy: 0.8888 - val_loss: 0.2986 - val_accuracy: 0.8738\n",
      "Epoch 69/101\n",
      "454/454 [==============================] - 2s 3ms/step - loss: 0.2613 - accuracy: 0.8911 - val_loss: 0.2997 - val_accuracy: 0.8791\n",
      "Epoch 70/101\n",
      "454/454 [==============================] - 1s 3ms/step - loss: 0.2605 - accuracy: 0.8915 - val_loss: 0.2975 - val_accuracy: 0.8736\n",
      "Epoch 71/101\n",
      "454/454 [==============================] - 1s 3ms/step - loss: 0.2610 - accuracy: 0.8919 - val_loss: 0.2981 - val_accuracy: 0.8766\n",
      "Epoch 72/101\n",
      "454/454 [==============================] - 1s 3ms/step - loss: 0.2604 - accuracy: 0.8919 - val_loss: 0.2984 - val_accuracy: 0.8760\n",
      "Epoch 73/101\n",
      "454/454 [==============================] - 1s 3ms/step - loss: 0.2604 - accuracy: 0.8916 - val_loss: 0.2980 - val_accuracy: 0.8774\n",
      "Epoch 74/101\n",
      "454/454 [==============================] - 1s 3ms/step - loss: 0.2603 - accuracy: 0.8914 - val_loss: 0.2978 - val_accuracy: 0.8763\n",
      "Epoch 75/101\n",
      "454/454 [==============================] - 1s 3ms/step - loss: 0.2599 - accuracy: 0.8915 - val_loss: 0.2990 - val_accuracy: 0.8736\n",
      "Epoch 76/101\n",
      "454/454 [==============================] - 1s 3ms/step - loss: 0.2599 - accuracy: 0.8925 - val_loss: 0.2988 - val_accuracy: 0.8760\n",
      "Epoch 77/101\n",
      "454/454 [==============================] - 1s 3ms/step - loss: 0.2597 - accuracy: 0.8931 - val_loss: 0.2983 - val_accuracy: 0.8763\n",
      "Epoch 78/101\n",
      "454/454 [==============================] - 1s 3ms/step - loss: 0.2595 - accuracy: 0.8921 - val_loss: 0.2987 - val_accuracy: 0.8771\n",
      "Epoch 79/101\n",
      "454/454 [==============================] - 1s 3ms/step - loss: 0.2596 - accuracy: 0.8924 - val_loss: 0.2998 - val_accuracy: 0.8780\n",
      "Epoch 80/101\n",
      "454/454 [==============================] - 1s 3ms/step - loss: 0.2595 - accuracy: 0.8917 - val_loss: 0.3011 - val_accuracy: 0.8727\n",
      "Epoch 81/101\n",
      "454/454 [==============================] - 1s 3ms/step - loss: 0.2594 - accuracy: 0.8936 - val_loss: 0.2988 - val_accuracy: 0.8758\n",
      "Epoch 82/101\n",
      "454/454 [==============================] - 1s 3ms/step - loss: 0.2592 - accuracy: 0.8923 - val_loss: 0.2986 - val_accuracy: 0.8766\n",
      "Epoch 83/101\n",
      "454/454 [==============================] - 1s 3ms/step - loss: 0.2590 - accuracy: 0.8930 - val_loss: 0.3024 - val_accuracy: 0.8747\n",
      "Epoch 84/101\n",
      "454/454 [==============================] - 1s 3ms/step - loss: 0.2584 - accuracy: 0.8928 - val_loss: 0.3026 - val_accuracy: 0.8727\n",
      "Epoch 85/101\n",
      "454/454 [==============================] - 1s 3ms/step - loss: 0.2592 - accuracy: 0.8920 - val_loss: 0.3004 - val_accuracy: 0.8738\n",
      "Epoch 86/101\n",
      "454/454 [==============================] - 1s 3ms/step - loss: 0.2586 - accuracy: 0.8927 - val_loss: 0.2999 - val_accuracy: 0.8730\n",
      "Epoch 87/101\n",
      "454/454 [==============================] - 2s 3ms/step - loss: 0.2583 - accuracy: 0.8939 - val_loss: 0.2993 - val_accuracy: 0.8744\n",
      "Epoch 88/101\n",
      "454/454 [==============================] - 1s 3ms/step - loss: 0.2588 - accuracy: 0.8930 - val_loss: 0.2992 - val_accuracy: 0.8771\n",
      "Epoch 89/101\n",
      "454/454 [==============================] - 1s 3ms/step - loss: 0.2581 - accuracy: 0.8942 - val_loss: 0.3008 - val_accuracy: 0.8763\n",
      "Epoch 90/101\n",
      "454/454 [==============================] - 1s 3ms/step - loss: 0.2576 - accuracy: 0.8917 - val_loss: 0.3019 - val_accuracy: 0.8755\n",
      "Epoch 91/101\n",
      "454/454 [==============================] - 1s 3ms/step - loss: 0.2581 - accuracy: 0.8932 - val_loss: 0.3003 - val_accuracy: 0.8749\n",
      "Epoch 92/101\n",
      "454/454 [==============================] - 1s 3ms/step - loss: 0.2579 - accuracy: 0.8913 - val_loss: 0.3013 - val_accuracy: 0.8741\n",
      "Epoch 93/101\n",
      "454/454 [==============================] - 1s 3ms/step - loss: 0.2578 - accuracy: 0.8934 - val_loss: 0.3036 - val_accuracy: 0.8733\n",
      "Epoch 94/101\n",
      "454/454 [==============================] - 1s 3ms/step - loss: 0.2578 - accuracy: 0.8919 - val_loss: 0.3037 - val_accuracy: 0.8725\n",
      "Epoch 95/101\n",
      "454/454 [==============================] - 1s 3ms/step - loss: 0.2578 - accuracy: 0.8931 - val_loss: 0.3001 - val_accuracy: 0.8766\n",
      "Epoch 96/101\n",
      "454/454 [==============================] - 1s 3ms/step - loss: 0.2571 - accuracy: 0.8933 - val_loss: 0.2999 - val_accuracy: 0.8758\n",
      "Epoch 97/101\n",
      "454/454 [==============================] - 1s 3ms/step - loss: 0.2570 - accuracy: 0.8936 - val_loss: 0.3005 - val_accuracy: 0.8771\n",
      "Epoch 98/101\n",
      "454/454 [==============================] - 2s 3ms/step - loss: 0.2567 - accuracy: 0.8930 - val_loss: 0.3017 - val_accuracy: 0.8738\n",
      "Epoch 99/101\n",
      "454/454 [==============================] - 1s 3ms/step - loss: 0.2571 - accuracy: 0.8923 - val_loss: 0.3032 - val_accuracy: 0.8727\n",
      "Epoch 100/101\n",
      "454/454 [==============================] - 1s 3ms/step - loss: 0.2571 - accuracy: 0.8938 - val_loss: 0.3020 - val_accuracy: 0.8758\n",
      "Epoch 101/101\n",
      "454/454 [==============================] - 1s 3ms/step - loss: 0.2567 - accuracy: 0.8934 - val_loss: 0.3047 - val_accuracy: 0.8733\n"
     ]
    }
   ],
   "source": [
    "history = model.fit(X_train, y_train, \n",
    "                    validation_data = [X_test, y_test],\n",
    "                    batch_size = BATCH_SIZE,\n",
    "                    epochs = EPOCHS)"
   ]
  },
  {
   "cell_type": "code",
   "execution_count": 47,
   "id": "e448019b",
   "metadata": {},
   "outputs": [
    {
     "name": "stdout",
     "output_type": "stream",
     "text": [
      "114/114 - 0s - loss: 0.3047 - accuracy: 0.8733 - 264ms/epoch - 2ms/step\n"
     ]
    },
    {
     "data": {
      "text/plain": [
       "[0.30473047494888306, 0.8732782602310181]"
      ]
     },
     "execution_count": 47,
     "metadata": {},
     "output_type": "execute_result"
    }
   ],
   "source": [
    "model.evaluate(X_test, y_test, verbose=2)"
   ]
  },
  {
   "cell_type": "code",
   "execution_count": 48,
   "id": "f31397ea",
   "metadata": {},
   "outputs": [
    {
     "data": {
      "text/plain": [
       "{'verbose': 1, 'epochs': 101, 'steps': 454}"
      ]
     },
     "execution_count": 48,
     "metadata": {},
     "output_type": "execute_result"
    }
   ],
   "source": [
    "history.params"
   ]
  },
  {
   "cell_type": "code",
   "execution_count": 49,
   "id": "d24eb591",
   "metadata": {},
   "outputs": [],
   "source": [
    "# plt.plot(history.history['accuracy'])\n",
    "# plt.plot(history.history['val_accuracy'])\n",
    "# plt.title('model accuracy')\n",
    "# plt.ylabel('accuracy')\n",
    "# plt.xlabel('epoch')\n",
    "# plt.legend(['train', 'val'], loc='upper left')\n",
    "# plt.show()"
   ]
  },
  {
   "cell_type": "code",
   "execution_count": 50,
   "id": "7a629b73",
   "metadata": {},
   "outputs": [],
   "source": [
    "# plt.plot(history.history['loss'])\n",
    "# plt.plot(history.history['val_loss'])\n",
    "# plt.title('model loss')\n",
    "# plt.ylabel('loss')\n",
    "# plt.xlabel('epoch')\n",
    "# plt.legend(['train', 'val'], loc='upper left')\n",
    "# plt.show()"
   ]
  },
  {
   "cell_type": "code",
   "execution_count": 51,
   "id": "87ec6f76",
   "metadata": {},
   "outputs": [],
   "source": [
    "# pd.DataFrame(history.history).plot(figsize=(8,5))\n",
    "# plt.show()"
   ]
  },
  {
   "cell_type": "code",
   "execution_count": 52,
   "id": "0e9e1b5c",
   "metadata": {},
   "outputs": [],
   "source": [
    "\n",
    "\n",
    "# import plotly.graph_objects as go\n",
    "# from plotly.subplots import make_subplots\n",
    "\n",
    "# # Create figure with secondary y-axis\n",
    "# fig = make_subplots(specs=[[{\"secondary_y\": True}]])\n",
    "\n",
    "# # Add traces\n",
    "# fig.add_trace(\n",
    "#     go.Scatter( y=history.history['val_loss'], name=\"val_loss\"),\n",
    "#     secondary_y=False,\n",
    "# )\n",
    "\n",
    "# fig.add_trace(\n",
    "#     go.Scatter( y=history.history['loss'], name=\"loss\"),\n",
    "#     secondary_y=False,\n",
    "# )\n",
    "\n",
    "# fig.add_trace(\n",
    "#     go.Scatter( y=history.history['val_accuracy'], name=\"val accuracy\"),\n",
    "#     secondary_y=True,\n",
    "# )\n",
    "\n",
    "# fig.add_trace(\n",
    "#     go.Scatter( y=history.history['accuracy'], name=\"val accuracy\"),\n",
    "#     secondary_y=True,\n",
    "# )\n",
    "\n",
    "# # Add figure title\n",
    "# fig.update_layout(\n",
    "#     title_text=\"Loss/Accuracy of LSTM Model\"\n",
    "# )\n",
    "\n",
    "# # Set x-axis title\n",
    "# fig.update_xaxes(title_text=\"Epoch\")\n",
    "\n",
    "# # Set y-axes titles\n",
    "# fig.update_yaxes(title_text=\"<b>primary</b> Loss\", secondary_y=False)\n",
    "# fig.update_yaxes(title_text=\"<b>secondary</b> Accuracy\", secondary_y=True)\n",
    "\n",
    "# fig.show()"
   ]
  },
  {
   "cell_type": "code",
   "execution_count": 53,
   "id": "521bf93b",
   "metadata": {},
   "outputs": [
    {
     "data": {
      "image/png": "[encoded data removed]",
      "text/plain": [
       "<Figure size 1500x600 with 2 Axes>"
      ]
     },
     "metadata": {},
     "output_type": "display_data"
    }
   ],
   "source": [
    "loss_df = pd.DataFrame(history.history)\n",
    "fn_plot_tf_hist(loss_df)"
   ]
  },
  {
   "cell_type": "code",
   "execution_count": 54,
   "id": "71c338aa",
   "metadata": {},
   "outputs": [
    {
     "name": "stdout",
     "output_type": "stream",
     "text": [
      "Epoch 1/101\n",
      "454/454 [==============================] - 2s 3ms/step - loss: 0.6326 - accuracy: 0.7340 - val_loss: 0.3890 - val_accuracy: 0.8287\n",
      "Epoch 2/101\n",
      "454/454 [==============================] - 1s 3ms/step - loss: 0.3484 - accuracy: 0.8564 - val_loss: 0.3352 - val_accuracy: 0.8534\n",
      "Epoch 3/101\n",
      "454/454 [==============================] - 1s 3ms/step - loss: 0.3188 - accuracy: 0.8684 - val_loss: 0.3195 - val_accuracy: 0.8567\n",
      "Epoch 4/101\n",
      "454/454 [==============================] - 1s 3ms/step - loss: 0.3086 - accuracy: 0.8729 - val_loss: 0.3122 - val_accuracy: 0.8642\n",
      "Epoch 5/101\n",
      "454/454 [==============================] - 1s 3ms/step - loss: 0.3012 - accuracy: 0.8759 - val_loss: 0.3069 - val_accuracy: 0.8689\n",
      "Epoch 6/101\n",
      "454/454 [==============================] - 1s 3ms/step - loss: 0.2962 - accuracy: 0.8791 - val_loss: 0.3047 - val_accuracy: 0.8702\n",
      "Epoch 7/101\n",
      "454/454 [==============================] - 1s 3ms/step - loss: 0.2926 - accuracy: 0.8802 - val_loss: 0.3060 - val_accuracy: 0.8661\n",
      "Epoch 8/101\n",
      "454/454 [==============================] - 1s 3ms/step - loss: 0.2903 - accuracy: 0.8801 - val_loss: 0.3004 - val_accuracy: 0.8738\n",
      "Epoch 9/101\n",
      "454/454 [==============================] - 2s 3ms/step - loss: 0.2872 - accuracy: 0.8823 - val_loss: 0.3015 - val_accuracy: 0.8722\n",
      "Epoch 10/101\n",
      "454/454 [==============================] - 1s 3ms/step - loss: 0.2863 - accuracy: 0.8822 - val_loss: 0.2985 - val_accuracy: 0.8755\n",
      "Epoch 11/101\n",
      "454/454 [==============================] - 1s 3ms/step - loss: 0.2841 - accuracy: 0.8839 - val_loss: 0.2970 - val_accuracy: 0.8741\n",
      "Epoch 12/101\n",
      "454/454 [==============================] - 1s 3ms/step - loss: 0.2823 - accuracy: 0.8843 - val_loss: 0.2969 - val_accuracy: 0.8736\n",
      "Epoch 13/101\n",
      "454/454 [==============================] - 1s 3ms/step - loss: 0.2815 - accuracy: 0.8843 - val_loss: 0.2973 - val_accuracy: 0.8730\n",
      "Epoch 14/101\n",
      "454/454 [==============================] - 1s 3ms/step - loss: 0.2802 - accuracy: 0.8852 - val_loss: 0.2999 - val_accuracy: 0.8716\n",
      "Epoch 15/101\n",
      "454/454 [==============================] - 1s 3ms/step - loss: 0.2789 - accuracy: 0.8868 - val_loss: 0.2977 - val_accuracy: 0.8727\n",
      "Epoch 16/101\n",
      "454/454 [==============================] - 1s 3ms/step - loss: 0.2785 - accuracy: 0.8867 - val_loss: 0.2973 - val_accuracy: 0.8727\n",
      "Epoch 17/101\n",
      "454/454 [==============================] - 1s 3ms/step - loss: 0.2776 - accuracy: 0.8863 - val_loss: 0.2966 - val_accuracy: 0.8722\n",
      "Epoch 18/101\n",
      "454/454 [==============================] - 1s 3ms/step - loss: 0.2763 - accuracy: 0.8856 - val_loss: 0.3006 - val_accuracy: 0.8700\n",
      "Epoch 19/101\n",
      "454/454 [==============================] - 2s 3ms/step - loss: 0.2759 - accuracy: 0.8865 - val_loss: 0.2993 - val_accuracy: 0.8708\n",
      "Epoch 20/101\n",
      "454/454 [==============================] - 1s 3ms/step - loss: 0.2757 - accuracy: 0.8870 - val_loss: 0.2974 - val_accuracy: 0.8760\n",
      "Epoch 21/101\n",
      "454/454 [==============================] - 2s 3ms/step - loss: 0.2746 - accuracy: 0.8867 - val_loss: 0.2978 - val_accuracy: 0.8722\n",
      "Epoch 22/101\n",
      "454/454 [==============================] - 2s 4ms/step - loss: 0.2738 - accuracy: 0.8879 - val_loss: 0.2970 - val_accuracy: 0.8744\n",
      "Epoch 23/101\n",
      "454/454 [==============================] - 1s 3ms/step - loss: 0.2735 - accuracy: 0.8872 - val_loss: 0.2988 - val_accuracy: 0.8727\n",
      "Epoch 24/101\n",
      "454/454 [==============================] - 1s 3ms/step - loss: 0.2725 - accuracy: 0.8883 - val_loss: 0.2978 - val_accuracy: 0.8755\n",
      "Epoch 25/101\n",
      "454/454 [==============================] - 1s 2ms/step - loss: 0.2726 - accuracy: 0.8873 - val_loss: 0.2998 - val_accuracy: 0.8758\n",
      "Epoch 26/101\n",
      "454/454 [==============================] - 1s 3ms/step - loss: 0.2717 - accuracy: 0.8886 - val_loss: 0.2986 - val_accuracy: 0.8727\n",
      "Epoch 27/101\n",
      "454/454 [==============================] - 1s 3ms/step - loss: 0.2712 - accuracy: 0.8894 - val_loss: 0.2970 - val_accuracy: 0.8766\n",
      "Epoch 28/101\n",
      "454/454 [==============================] - 1s 3ms/step - loss: 0.2708 - accuracy: 0.8901 - val_loss: 0.2980 - val_accuracy: 0.8755\n",
      "Epoch 29/101\n",
      "454/454 [==============================] - 1s 3ms/step - loss: 0.2704 - accuracy: 0.8883 - val_loss: 0.2994 - val_accuracy: 0.8733\n",
      "Epoch 30/101\n",
      "454/454 [==============================] - 2s 3ms/step - loss: 0.2702 - accuracy: 0.8901 - val_loss: 0.2983 - val_accuracy: 0.8780\n",
      "Epoch 31/101\n",
      "454/454 [==============================] - 2s 4ms/step - loss: 0.2696 - accuracy: 0.8889 - val_loss: 0.2983 - val_accuracy: 0.8730\n",
      "Epoch 32/101\n",
      "454/454 [==============================] - 2s 3ms/step - loss: 0.2686 - accuracy: 0.8901 - val_loss: 0.2987 - val_accuracy: 0.8730\n",
      "Epoch 33/101\n",
      "454/454 [==============================] - 1s 3ms/step - loss: 0.2687 - accuracy: 0.8903 - val_loss: 0.2996 - val_accuracy: 0.8722\n",
      "Epoch 34/101\n",
      "454/454 [==============================] - 1s 3ms/step - loss: 0.2680 - accuracy: 0.8902 - val_loss: 0.2994 - val_accuracy: 0.8749\n",
      "Epoch 35/101\n",
      "454/454 [==============================] - 1s 3ms/step - loss: 0.2679 - accuracy: 0.8899 - val_loss: 0.3000 - val_accuracy: 0.8749\n",
      "Epoch 36/101\n",
      "454/454 [==============================] - 1s 3ms/step - loss: 0.2678 - accuracy: 0.8897 - val_loss: 0.3008 - val_accuracy: 0.8747\n",
      "Epoch 37/101\n",
      "454/454 [==============================] - 1s 3ms/step - loss: 0.2673 - accuracy: 0.8903 - val_loss: 0.3005 - val_accuracy: 0.8738\n",
      "Epoch 38/101\n",
      "454/454 [==============================] - 1s 3ms/step - loss: 0.2668 - accuracy: 0.8899 - val_loss: 0.2989 - val_accuracy: 0.8752\n",
      "Epoch 39/101\n",
      "454/454 [==============================] - 1s 3ms/step - loss: 0.2659 - accuracy: 0.8898 - val_loss: 0.2993 - val_accuracy: 0.8733\n",
      "Epoch 40/101\n",
      "454/454 [==============================] - 1s 3ms/step - loss: 0.2658 - accuracy: 0.8911 - val_loss: 0.3001 - val_accuracy: 0.8722\n",
      "Epoch 41/101\n",
      "454/454 [==============================] - 1s 3ms/step - loss: 0.2659 - accuracy: 0.8901 - val_loss: 0.2997 - val_accuracy: 0.8752\n",
      "Epoch 42/101\n",
      "454/454 [==============================] - 1s 3ms/step - loss: 0.2653 - accuracy: 0.8901 - val_loss: 0.3027 - val_accuracy: 0.8727\n",
      "Epoch 43/101\n",
      "454/454 [==============================] - 1s 3ms/step - loss: 0.2656 - accuracy: 0.8897 - val_loss: 0.3011 - val_accuracy: 0.8733\n",
      "Epoch 44/101\n",
      "454/454 [==============================] - 1s 3ms/step - loss: 0.2647 - accuracy: 0.8919 - val_loss: 0.3029 - val_accuracy: 0.8747\n",
      "Epoch 45/101\n",
      "454/454 [==============================] - 2s 3ms/step - loss: 0.2649 - accuracy: 0.8916 - val_loss: 0.3008 - val_accuracy: 0.8763\n",
      "Epoch 46/101\n",
      "454/454 [==============================] - 2s 3ms/step - loss: 0.2644 - accuracy: 0.8917 - val_loss: 0.3038 - val_accuracy: 0.8736\n",
      "Epoch 47/101\n",
      "454/454 [==============================] - 1s 3ms/step - loss: 0.2643 - accuracy: 0.8928 - val_loss: 0.3023 - val_accuracy: 0.8741\n",
      "Epoch 48/101\n",
      "454/454 [==============================] - 1s 3ms/step - loss: 0.2635 - accuracy: 0.8924 - val_loss: 0.3069 - val_accuracy: 0.8694\n",
      "Epoch 49/101\n",
      "454/454 [==============================] - 2s 3ms/step - loss: 0.2639 - accuracy: 0.8918 - val_loss: 0.3034 - val_accuracy: 0.8730\n",
      "Epoch 50/101\n",
      "454/454 [==============================] - 2s 4ms/step - loss: 0.2634 - accuracy: 0.8921 - val_loss: 0.3020 - val_accuracy: 0.8713\n",
      "Epoch 51/101\n",
      "454/454 [==============================] - 1s 3ms/step - loss: 0.2642 - accuracy: 0.8914 - val_loss: 0.3025 - val_accuracy: 0.8722\n",
      "Epoch 52/101\n",
      "454/454 [==============================] - 2s 3ms/step - loss: 0.2633 - accuracy: 0.8924 - val_loss: 0.3030 - val_accuracy: 0.8733\n",
      "Epoch 53/101\n",
      "454/454 [==============================] - 1s 3ms/step - loss: 0.2626 - accuracy: 0.8917 - val_loss: 0.3028 - val_accuracy: 0.8730\n",
      "Epoch 54/101\n",
      "454/454 [==============================] - 2s 3ms/step - loss: 0.2624 - accuracy: 0.8914 - val_loss: 0.3050 - val_accuracy: 0.8730\n",
      "Epoch 55/101\n",
      "454/454 [==============================] - 2s 3ms/step - loss: 0.2624 - accuracy: 0.8925 - val_loss: 0.3033 - val_accuracy: 0.8736\n",
      "Epoch 56/101\n",
      "454/454 [==============================] - 2s 3ms/step - loss: 0.2619 - accuracy: 0.8913 - val_loss: 0.3045 - val_accuracy: 0.8738\n",
      "Epoch 57/101\n",
      "454/454 [==============================] - 2s 3ms/step - loss: 0.2624 - accuracy: 0.8920 - val_loss: 0.3042 - val_accuracy: 0.8747\n",
      "Epoch 58/101\n",
      "454/454 [==============================] - 1s 3ms/step - loss: 0.2617 - accuracy: 0.8933 - val_loss: 0.3061 - val_accuracy: 0.8736\n",
      "Epoch 59/101\n",
      "454/454 [==============================] - 1s 3ms/step - loss: 0.2614 - accuracy: 0.8907 - val_loss: 0.3043 - val_accuracy: 0.8755\n",
      "Epoch 60/101\n",
      "454/454 [==============================] - 1s 3ms/step - loss: 0.2618 - accuracy: 0.8920 - val_loss: 0.3038 - val_accuracy: 0.8733\n",
      "Epoch 61/101\n",
      "454/454 [==============================] - 1s 3ms/step - loss: 0.2608 - accuracy: 0.8944 - val_loss: 0.3060 - val_accuracy: 0.8719\n",
      "Epoch 62/101\n",
      "454/454 [==============================] - 1s 3ms/step - loss: 0.2610 - accuracy: 0.8952 - val_loss: 0.3055 - val_accuracy: 0.8760\n",
      "Epoch 63/101\n",
      "454/454 [==============================] - 1s 3ms/step - loss: 0.2608 - accuracy: 0.8932 - val_loss: 0.3052 - val_accuracy: 0.8749\n",
      "Epoch 64/101\n",
      "454/454 [==============================] - 2s 3ms/step - loss: 0.2607 - accuracy: 0.8943 - val_loss: 0.3071 - val_accuracy: 0.8722\n",
      "Epoch 65/101\n",
      "454/454 [==============================] - 1s 3ms/step - loss: 0.2603 - accuracy: 0.8930 - val_loss: 0.3077 - val_accuracy: 0.8730\n",
      "Epoch 66/101\n",
      "454/454 [==============================] - 1s 3ms/step - loss: 0.2599 - accuracy: 0.8941 - val_loss: 0.3119 - val_accuracy: 0.8741\n",
      "Epoch 67/101\n",
      "454/454 [==============================] - 1s 3ms/step - loss: 0.2604 - accuracy: 0.8905 - val_loss: 0.3090 - val_accuracy: 0.8791\n",
      "Epoch 68/101\n",
      "454/454 [==============================] - 1s 3ms/step - loss: 0.2601 - accuracy: 0.8926 - val_loss: 0.3067 - val_accuracy: 0.8741\n",
      "Epoch 69/101\n",
      "454/454 [==============================] - 1s 3ms/step - loss: 0.2591 - accuracy: 0.8943 - val_loss: 0.3069 - val_accuracy: 0.8758\n",
      "Epoch 70/101\n",
      "454/454 [==============================] - 1s 3ms/step - loss: 0.2593 - accuracy: 0.8943 - val_loss: 0.3062 - val_accuracy: 0.8780\n",
      "Epoch 71/101\n",
      "454/454 [==============================] - 1s 3ms/step - loss: 0.2590 - accuracy: 0.8941 - val_loss: 0.3099 - val_accuracy: 0.8760\n",
      "Epoch 72/101\n",
      "454/454 [==============================] - 1s 3ms/step - loss: 0.2591 - accuracy: 0.8943 - val_loss: 0.3072 - val_accuracy: 0.8725\n",
      "Epoch 73/101\n",
      "454/454 [==============================] - 2s 3ms/step - loss: 0.2587 - accuracy: 0.8934 - val_loss: 0.3100 - val_accuracy: 0.8733\n",
      "Epoch 74/101\n",
      "454/454 [==============================] - 1s 3ms/step - loss: 0.2597 - accuracy: 0.8928 - val_loss: 0.3099 - val_accuracy: 0.8749\n",
      "Epoch 75/101\n",
      "454/454 [==============================] - 1s 3ms/step - loss: 0.2585 - accuracy: 0.8946 - val_loss: 0.3076 - val_accuracy: 0.8747\n",
      "Epoch 76/101\n",
      "454/454 [==============================] - 1s 3ms/step - loss: 0.2588 - accuracy: 0.8940 - val_loss: 0.3096 - val_accuracy: 0.8752\n",
      "Epoch 77/101\n",
      "454/454 [==============================] - 1s 3ms/step - loss: 0.2586 - accuracy: 0.8932 - val_loss: 0.3073 - val_accuracy: 0.8760\n",
      "Epoch 78/101\n",
      "454/454 [==============================] - 2s 3ms/step - loss: 0.2584 - accuracy: 0.8935 - val_loss: 0.3094 - val_accuracy: 0.8749\n",
      "Epoch 79/101\n",
      "454/454 [==============================] - 2s 3ms/step - loss: 0.2590 - accuracy: 0.8943 - val_loss: 0.3147 - val_accuracy: 0.8719\n",
      "Epoch 80/101\n",
      "454/454 [==============================] - 1s 3ms/step - loss: 0.2583 - accuracy: 0.8952 - val_loss: 0.3108 - val_accuracy: 0.8760\n",
      "Epoch 81/101\n",
      "454/454 [==============================] - 2s 3ms/step - loss: 0.2578 - accuracy: 0.8939 - val_loss: 0.3094 - val_accuracy: 0.8752\n",
      "Epoch 82/101\n",
      "454/454 [==============================] - 1s 3ms/step - loss: 0.2578 - accuracy: 0.8941 - val_loss: 0.3097 - val_accuracy: 0.8722\n",
      "Epoch 83/101\n",
      "454/454 [==============================] - 1s 3ms/step - loss: 0.2582 - accuracy: 0.8939 - val_loss: 0.3106 - val_accuracy: 0.8744\n",
      "Epoch 84/101\n",
      "454/454 [==============================] - 1s 3ms/step - loss: 0.2579 - accuracy: 0.8942 - val_loss: 0.3110 - val_accuracy: 0.8716\n",
      "Epoch 85/101\n",
      "454/454 [==============================] - 1s 3ms/step - loss: 0.2577 - accuracy: 0.8938 - val_loss: 0.3106 - val_accuracy: 0.8738\n",
      "Epoch 86/101\n",
      "454/454 [==============================] - 1s 3ms/step - loss: 0.2563 - accuracy: 0.8932 - val_loss: 0.3126 - val_accuracy: 0.8733\n",
      "Epoch 87/101\n",
      "454/454 [==============================] - 2s 3ms/step - loss: 0.2574 - accuracy: 0.8947 - val_loss: 0.3102 - val_accuracy: 0.8763\n",
      "Epoch 88/101\n",
      "454/454 [==============================] - 1s 3ms/step - loss: 0.2567 - accuracy: 0.8956 - val_loss: 0.3114 - val_accuracy: 0.8725\n",
      "Epoch 89/101\n",
      "454/454 [==============================] - 1s 3ms/step - loss: 0.2572 - accuracy: 0.8941 - val_loss: 0.3106 - val_accuracy: 0.8727\n",
      "Epoch 90/101\n",
      "454/454 [==============================] - 1s 3ms/step - loss: 0.2570 - accuracy: 0.8958 - val_loss: 0.3100 - val_accuracy: 0.8738\n",
      "Epoch 91/101\n",
      "454/454 [==============================] - 1s 3ms/step - loss: 0.2571 - accuracy: 0.8946 - val_loss: 0.3112 - val_accuracy: 0.8719\n",
      "Epoch 92/101\n",
      "454/454 [==============================] - 1s 3ms/step - loss: 0.2567 - accuracy: 0.8954 - val_loss: 0.3101 - val_accuracy: 0.8744\n",
      "Epoch 93/101\n",
      "454/454 [==============================] - 1s 3ms/step - loss: 0.2564 - accuracy: 0.8970 - val_loss: 0.3097 - val_accuracy: 0.8736\n",
      "Epoch 94/101\n",
      "454/454 [==============================] - 1s 3ms/step - loss: 0.2570 - accuracy: 0.8969 - val_loss: 0.3120 - val_accuracy: 0.8711\n",
      "Epoch 95/101\n",
      "454/454 [==============================] - 1s 3ms/step - loss: 0.2567 - accuracy: 0.8952 - val_loss: 0.3108 - val_accuracy: 0.8736\n",
      "Epoch 96/101\n",
      "454/454 [==============================] - 1s 3ms/step - loss: 0.2561 - accuracy: 0.8961 - val_loss: 0.3135 - val_accuracy: 0.8689\n",
      "Epoch 97/101\n",
      "454/454 [==============================] - 1s 3ms/step - loss: 0.2565 - accuracy: 0.8956 - val_loss: 0.3108 - val_accuracy: 0.8730\n",
      "Epoch 98/101\n",
      "454/454 [==============================] - 1s 3ms/step - loss: 0.2563 - accuracy: 0.8953 - val_loss: 0.3115 - val_accuracy: 0.8730\n",
      "Epoch 99/101\n",
      "454/454 [==============================] - 1s 3ms/step - loss: 0.2560 - accuracy: 0.8945 - val_loss: 0.3107 - val_accuracy: 0.8733\n",
      "Epoch 100/101\n",
      "454/454 [==============================] - 1s 3ms/step - loss: 0.2559 - accuracy: 0.8945 - val_loss: 0.3134 - val_accuracy: 0.8716\n",
      "Epoch 101/101\n",
      "454/454 [==============================] - 1s 3ms/step - loss: 0.2556 - accuracy: 0.8976 - val_loss: 0.3110 - val_accuracy: 0.8725\n",
      "114/114 - 0s - loss: 0.3110 - accuracy: 0.8725 - 263ms/epoch - 2ms/step\n"
     ]
    },
    {
     "data": {
      "image/png": "[encoded data removed]",
      "text/plain": [
       "<Figure size 1500x600 with 2 Axes>"
      ]
     },
     "metadata": {},
     "output_type": "display_data"
    }
   ],
   "source": [
    "model1.compile(optimizer='adam',\n",
    "              loss = loss_fn,\n",
    "              metrics = ['accuracy'])\n",
    "history = model1.fit(X_train, y_train, \n",
    "                    validation_data = [X_test, y_test],\n",
    "                    batch_size = BATCH_SIZE,\n",
    "                    epochs = EPOCHS)\n",
    "model1.evaluate(X_test, y_test, verbose=2)\n",
    "loss_df1 = pd.DataFrame(history.history)\n",
    "fn_plot_tf_hist(loss_df1)"
   ]
  },
  {
   "cell_type": "code",
   "execution_count": 55,
   "id": "ec99ff19",
   "metadata": {},
   "outputs": [
    {
     "data": {
      "text/html": [
       "<div>\n",
       "<style scoped>\n",
       "    .dataframe tbody tr th:only-of-type {\n",
       "        vertical-align: middle;\n",
       "    }\n",
       "\n",
       "    .dataframe tbody tr th {\n",
       "        vertical-align: top;\n",
       "    }\n",
       "\n",
       "    .dataframe thead th {\n",
       "        text-align: right;\n",
       "    }\n",
       "</style>\n",
       "<table border=\"1\" class=\"dataframe\">\n",
       "  <thead>\n",
       "    <tr style=\"text-align: right;\">\n",
       "      <th></th>\n",
       "      <th>loss</th>\n",
       "      <th>accuracy</th>\n",
       "      <th>val_loss</th>\n",
       "      <th>val_accuracy</th>\n",
       "    </tr>\n",
       "  </thead>\n",
       "  <tbody>\n",
       "    <tr>\n",
       "      <th>0</th>\n",
       "      <td>0.590914</td>\n",
       "      <td>0.770132</td>\n",
       "      <td>0.381904</td>\n",
       "      <td>0.839118</td>\n",
       "    </tr>\n",
       "    <tr>\n",
       "      <th>1</th>\n",
       "      <td>0.346243</td>\n",
       "      <td>0.857202</td>\n",
       "      <td>0.338727</td>\n",
       "      <td>0.855923</td>\n",
       "    </tr>\n",
       "    <tr>\n",
       "      <th>2</th>\n",
       "      <td>0.321099</td>\n",
       "      <td>0.866570</td>\n",
       "      <td>0.324909</td>\n",
       "      <td>0.857851</td>\n",
       "    </tr>\n",
       "    <tr>\n",
       "      <th>3</th>\n",
       "      <td>0.309299</td>\n",
       "      <td>0.871599</td>\n",
       "      <td>0.316551</td>\n",
       "      <td>0.863912</td>\n",
       "    </tr>\n",
       "    <tr>\n",
       "      <th>4</th>\n",
       "      <td>0.302183</td>\n",
       "      <td>0.875594</td>\n",
       "      <td>0.311152</td>\n",
       "      <td>0.869697</td>\n",
       "    </tr>\n",
       "  </tbody>\n",
       "</table>\n",
       "</div>"
      ],
      "text/plain": [
       "       loss  accuracy  val_loss  val_accuracy\n",
       "0  0.590914  0.770132  0.381904      0.839118\n",
       "1  0.346243  0.857202  0.338727      0.855923\n",
       "2  0.321099  0.866570  0.324909      0.857851\n",
       "3  0.309299  0.871599  0.316551      0.863912\n",
       "4  0.302183  0.875594  0.311152      0.869697"
      ]
     },
     "execution_count": 55,
     "metadata": {},
     "output_type": "execute_result"
    }
   ],
   "source": [
    "loss_df.head()"
   ]
  },
  {
   "cell_type": "markdown",
   "id": "699dba08",
   "metadata": {},
   "source": [
    "Predictions\n"
   ]
  },
  {
   "cell_type": "code",
   "execution_count": 56,
   "id": "58dea625",
   "metadata": {},
   "outputs": [],
   "source": [
    "probability_model= tf.keras.Sequential([\n",
    "    model, \n",
    "    tf.keras.layers.Softmax()\n",
    "])"
   ]
  },
  {
   "cell_type": "code",
   "execution_count": 57,
   "id": "9901695b",
   "metadata": {},
   "outputs": [
    {
     "data": {
      "text/plain": [
       "array([[7.2559087e-24, 1.3663471e-08, 3.2067803e-01, 6.7932194e-01],\n",
       "       [1.0962016e-19, 2.0616784e-07, 8.0226600e-01, 1.9773382e-01],\n",
       "       [7.5212975e-11, 3.5076751e-04, 2.9702410e-01, 7.0262510e-01],\n",
       "       ...,\n",
       "       [4.9512851e-06, 6.9598374e-03, 9.6467018e-01, 2.8365023e-02],\n",
       "       [2.0026292e-15, 7.9826088e-05, 9.7128290e-01, 2.8637309e-02],\n",
       "       [6.2173044e-23, 6.5574932e-01, 3.4424502e-01, 5.6877661e-06]],\n",
       "      dtype=float32)"
      ]
     },
     "execution_count": 57,
     "metadata": {},
     "output_type": "execute_result"
    }
   ],
   "source": [
    "y_pred = probability_model(X_test).numpy()\n",
    "y_pred"
   ]
  },
  {
   "cell_type": "code",
   "execution_count": 60,
   "id": "726c5a79",
   "metadata": {},
   "outputs": [
    {
     "data": {
      "image/png": "[encoded data removed]",
      "text/plain": [
       "<Figure size 600x600 with 1 Axes>"
      ]
     },
     "metadata": {},
     "output_type": "display_data"
    }
   ],
   "source": [
    "fn_plot_confusion_matrix(y_test, y_pred.argmax(axis=1), labels)"
   ]
  },
  {
   "cell_type": "code",
   "execution_count": 64,
   "id": "c5670798",
   "metadata": {},
   "outputs": [
    {
     "name": "stdout",
     "output_type": "stream",
     "text": [
      "INFO:tensorflow:Assets written to: ./models\\fifa_2019\\assets\n"
     ]
    },
    {
     "name": "stderr",
     "output_type": "stream",
     "text": [
      "INFO:tensorflow:Assets written to: ./models\\fifa_2019\\assets\n"
     ]
    }
   ],
   "source": [
    "tf.keras.models.save_model(\n",
    "    model, os.path.join(modelDir,subDir)\n",
    ")"
   ]
  },
  {
   "cell_type": "code",
   "execution_count": 63,
   "id": "fd64a4ff",
   "metadata": {},
   "outputs": [],
   "source": [
    "model.save(\"tf_model.keras\")"
   ]
  },
  {
   "cell_type": "code",
   "execution_count": null,
   "id": "321a97c9",
   "metadata": {},
   "outputs": [],
   "source": []
  }
 ],
 "metadata": {
  "kernelspec": {
   "display_name": "Python 3 (ipykernel)",
   "language": "python",
   "name": "python3"
  },
  "language_info": {
   "codemirror_mode": {
    "name": "ipython",
    "version": 3
   },
   "file_extension": ".py",
   "mimetype": "text/x-python",
   "name": "python",
   "nbconvert_exporter": "python",
   "pygments_lexer": "ipython3",
   "version": "3.10.13"
  }
 },
 "nbformat": 4,
 "nbformat_minor": 5
}
