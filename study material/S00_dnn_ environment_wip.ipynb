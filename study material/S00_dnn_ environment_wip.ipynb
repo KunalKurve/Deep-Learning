{
 "cells": [
  {
   "cell_type": "code",
   "execution_count": 24,
   "metadata": {},
   "outputs": [],
   "source": [
    "#!/usr/bin/env python3\n",
    "# -*- coding: utf-8 -*-"
   ]
  },
  {
   "cell_type": "markdown",
   "metadata": {},
   "source": [
    "First line ensures that the interpreter will use the first installed version on environment's $PATH. It is called shebang and in Unix it marks as executable. Second line comment is processed as an encoding declaration.\n",
    "**Note**: Make sure that file is marked as executable otherwise you may get `Permission denied` error."
   ]
  },
  {
   "cell_type": "markdown",
   "metadata": {},
   "source": [
    "# Deep Neural Network\n",
    "\n",
    "## Session 00\n",
    "\n",
    "\n",
    "## Create Virtual Environment\n",
    "\n",
    "<img src='../../prasami_images/prasami_color_tutorials_small.png' style = 'width:400px;' alt=\"By Pramod Sharma : pramod.sharma@prasami.com\" align=\"left\"/>"
   ]
  },
  {
   "cell_type": "markdown",
   "metadata": {},
   "source": [
    "### Prepare Virtual environment for Machine Learning\n",
    "<div class=\"alert alert-block alert-info\" style=\"font-family: Arial; font-size:1.2em;\">\n",
    "Step 1: Update and Upgrade\n",
    "\n",
    "> `sudo apt-get update`; `sudo apt-get -y upgrade`\n",
    "\n",
    "Step 2: Check python3 version\n",
    "</div>"
   ]
  },
  {
   "cell_type": "code",
   "execution_count": 25,
   "metadata": {},
   "outputs": [
    {
     "name": "stdout",
     "output_type": "stream",
     "text": [
      "Python 3.10.12\n"
     ]
    }
   ],
   "source": [
    "!python3 -V"
   ]
  },
  {
   "cell_type": "markdown",
   "metadata": {},
   "source": [
    "<div class=\"alert alert-block alert-info\" style=\"font-family: Arial; font-size:1.2em;\">\n",
    "Step 3:Check / install pip3 latest version\n",
    "> `sudo apt-get install -y python3-pip`\n",
    "\n",
    "Step 4: Don't forget to install following to make your environment more consistent\n",
    "\n",
    "> `sudo apt-get install build-essential libssl-dev libffi-dev python3-dev`\n",
    "\n",
    "Step 5: Install python3-venv\n",
    ">`sudo apt-get install -y python3-venv`\n",
    "\n",
    "Step 6: (Important) check and see if xvfb is installed:\n",
    "> `Xvfb -help`<\n",
    "\n",
    "if not, install in main installation (outside virtual environment)\n",
    "> `sudo apt-get install xvfb`\n",
    "\n",
    "Step 7: make your environment\n",
    "\n",
    "> `python3 -m venv May2024`\n",
    "\n",
    "Step 8: activate your environment\n",
    "\n",
    "> `source May2024/bin/activate`\n",
    "\n",
    "Step 9: install required libraries\n",
    "\n",
    "> `! pip3 install -U beautifulsoup4 imageio numpy pandas matplotlib jupyterlab seaborn jupyter_contrib_nbextensions  scikit-learn scikit-image xgboost folium statsmodels tqdm opencv-contrib-python pyarrow`\n",
    "\n",
    "<b>Note</b>: -U helps upgrade all specified packages to the newest available version.\n",
    "\n",
    "Step 10: for Deep Learning - Tensorflow\n",
    "\n",
    "<b>Follow procedure given at tensorflow [site](https://www.tensorflow.org/install/pip)</b>\n",
    "\n",
    "Make sure `nvcc` is installed and `$PATH` and `$LD_LIBRARY_PATH` include reference to cuda environment\n",
    "\n",
    ">`sudo apt install nvidia-cuda-toolkit`\n",
    ">`export PATH=\"/usr/local/cuda/bin:$PATH\"`\n",
    ">`export LD_LIBRARY_PATH=\"/usr/local/cuda/lib64:$LD_LIBRARY_PATH\"`\n",
    "\n",
    "Step 11: for Deep Learning - Pytorch\n",
    "\n",
    "> `pip3 install -U torch torchvision torchaudio torchinfo`\n",
    "\n",
    "</div>"
   ]
  },
  {
   "cell_type": "markdown",
   "metadata": {},
   "source": [
    "## Prologue"
   ]
  },
  {
   "cell_type": "code",
   "execution_count": 26,
   "metadata": {},
   "outputs": [],
   "source": [
    "import sys\n",
    "import os\n",
    "import datetime\n",
    "import numpy as np\n",
    "import pandas as pd\n",
    "\n",
    "import matplotlib\n",
    "import sklearn\n",
    "\n",
    "import matplotlib.pyplot as plt\n",
    "\n",
    "%matplotlib inline"
   ]
  },
  {
   "cell_type": "code",
   "execution_count": 27,
   "metadata": {},
   "outputs": [],
   "source": [
    "# at times, it makes sense to ignore irrelevant warnings\n",
    "import warnings\n",
    "\n",
    "warnings.filterwarnings('ignore')"
   ]
  },
  {
   "cell_type": "code",
   "execution_count": 28,
   "metadata": {},
   "outputs": [],
   "source": [
    "# Some Basic Directories for housekeeping\n",
    "# set location of input files:a\n",
    "inpDir = os.path.join('..', '..', 'input')\n",
    "\n",
    "outDir = os.path.join('..', 'output')\n",
    "\n",
    "# define and set random state \n",
    "RANDOM_STATE = 24\n",
    "\n",
    "np.random.seed(RANDOM_STATE) # Set Random Seed for reproducible  results"
   ]
  },
  {
   "cell_type": "code",
   "execution_count": 29,
   "metadata": {},
   "outputs": [
    {
     "name": "stdout",
     "output_type": "stream",
     "text": [
      " breast_cancer_mod.csv\t  flower_photos\t\t       text_gen\n",
      " cifar-10-batches-py\t 'Garbage classification'      valid_flowers\n",
      " cifar-10-python.tar.gz   garbage_classification.zip   weatherHistory.csv\n",
      " cityscapes_data\t  housing\t\t       yolo_images\n",
      " fashion_mnist\t\t  ionosphere\n",
      " fifa_2019.csv\t\t  machine_learning\n"
     ]
    }
   ],
   "source": [
    "!ls {inpDir}"
   ]
  },
  {
   "cell_type": "code",
   "execution_count": 30,
   "metadata": {},
   "outputs": [],
   "source": [
    "!ls {outDir}"
   ]
  },
  {
   "cell_type": "code",
   "execution_count": 31,
   "metadata": {},
   "outputs": [],
   "source": [
    "# parameters for Matplotlib\n",
    "params = {'legend.fontsize': 'medium',\n",
    "          'figure.figsize': (15, 12),\n",
    "          'axes.labelsize': 'medium',\n",
    "          'axes.titlesize':'medium',\n",
    "          'xtick.labelsize':'medium',\n",
    "          'ytick.labelsize':'medium',\n",
    "          'savefig.dpi': 150,\n",
    "          'image.cmap': plt.cm.coolwarm,\n",
    "          'image.interpolation': 'none',\n",
    "          'savefig.bbox' : 'tight',\n",
    "          'lines.linewidth' : 2,\n",
    "          'legend.numpoints' : 1\n",
    "         }\n",
    "\n",
    "\n",
    "plt.rcParams.update(params)\n",
    "\n",
    "np.set_printoptions(precision=3, suppress=True)\n",
    "\n",
    "pd.set_option(\"display.max_columns\", 8)\n",
    "pd.set_option('display.precision', 2)\n",
    "\n",
    "__all__ = ['np', 'display', 'plt', 'pd', 'sklearn', 'seaborn']"
   ]
  },
  {
   "cell_type": "markdown",
   "metadata": {},
   "source": [
    "## Versions"
   ]
  },
  {
   "cell_type": "code",
   "execution_count": 32,
   "metadata": {},
   "outputs": [
    {
     "data": {
      "text/plain": [
       "'1.26.4'"
      ]
     },
     "execution_count": 32,
     "metadata": {},
     "output_type": "execute_result"
    }
   ],
   "source": [
    "np.__version__"
   ]
  },
  {
   "cell_type": "code",
   "execution_count": 33,
   "metadata": {},
   "outputs": [
    {
     "data": {
      "text/plain": [
       "'2.2.2'"
      ]
     },
     "execution_count": 33,
     "metadata": {},
     "output_type": "execute_result"
    }
   ],
   "source": [
    "pd.__version__"
   ]
  },
  {
   "cell_type": "code",
   "execution_count": 34,
   "metadata": {},
   "outputs": [
    {
     "data": {
      "text/plain": [
       "'3.8.4'"
      ]
     },
     "execution_count": 34,
     "metadata": {},
     "output_type": "execute_result"
    }
   ],
   "source": [
    "matplotlib.__version__"
   ]
  },
  {
   "cell_type": "code",
   "execution_count": 35,
   "metadata": {},
   "outputs": [
    {
     "data": {
      "text/plain": [
       "'1.4.2'"
      ]
     },
     "execution_count": 35,
     "metadata": {},
     "output_type": "execute_result"
    }
   ],
   "source": [
    "sklearn.__version__"
   ]
  },
  {
   "cell_type": "code",
   "execution_count": null,
   "metadata": {},
   "outputs": [],
   "source": []
  },
  {
   "cell_type": "markdown",
   "metadata": {},
   "source": [
    "## Verify Tensorflow environment"
   ]
  },
  {
   "cell_type": "code",
   "execution_count": 36,
   "metadata": {},
   "outputs": [],
   "source": [
    "## Import Statements\n",
    "\n",
    "import tensorflow as tf"
   ]
  },
  {
   "cell_type": "code",
   "execution_count": 37,
   "metadata": {},
   "outputs": [
    {
     "data": {
      "text/plain": [
       "'2.15.0'"
      ]
     },
     "execution_count": 37,
     "metadata": {},
     "output_type": "execute_result"
    }
   ],
   "source": [
    "tf.__version__"
   ]
  },
  {
   "cell_type": "code",
   "execution_count": 38,
   "metadata": {},
   "outputs": [],
   "source": [
    "assert tf.version.VERSION.startswith('2.')"
   ]
  },
  {
   "cell_type": "code",
   "execution_count": 39,
   "metadata": {},
   "outputs": [
    {
     "name": "stdout",
     "output_type": "stream",
     "text": [
      "Num GPUs: 1\n",
      "[PhysicalDevice(name='/physical_device:GPU:0', device_type='GPU')]\n"
     ]
    }
   ],
   "source": [
    "physical_devices = tf.config.list_physical_devices('GPU') \n",
    "print(\"Num GPUs:\", len(physical_devices)) \n",
    "print(physical_devices) "
   ]
  },
  {
   "cell_type": "code",
   "execution_count": 40,
   "metadata": {},
   "outputs": [
    {
     "data": {
      "text/plain": [
       "[PhysicalDevice(name='/physical_device:GPU:0', device_type='GPU')]"
      ]
     },
     "execution_count": 40,
     "metadata": {},
     "output_type": "execute_result"
    }
   ],
   "source": [
    "tf.config.list_physical_devices('GPU')"
   ]
  },
  {
   "cell_type": "code",
   "execution_count": 41,
   "metadata": {},
   "outputs": [
    {
     "name": "stdout",
     "output_type": "stream",
     "text": [
      "tf.Tensor(\n",
      "[[22. 28.]\n",
      " [49. 64.]], shape=(2, 2), dtype=float32)\n"
     ]
    }
   ],
   "source": [
    "with tf.device('/gpu:0'):\n",
    "    a = tf.constant([1.0, 2.0, 3.0, 4.0, 5.0, 6.0], # values\n",
    "                    shape=[2, 3], \n",
    "                    name='a', \n",
    "                    dtype=tf.float32)\n",
    "    \n",
    "    b = tf.constant([1.0, 2.0, 3.0, 4.0, 5.0, 6.0], \n",
    "                    shape=[3, 2], \n",
    "                    name='b', \n",
    "                    dtype=tf.float32)\n",
    "    \n",
    "    c = tf.matmul(a, b)\n",
    "    \n",
    "print (c)"
   ]
  },
  {
   "cell_type": "markdown",
   "metadata": {},
   "source": [
    "## Verify pytorch installation"
   ]
  },
  {
   "cell_type": "code",
   "execution_count": 42,
   "metadata": {},
   "outputs": [],
   "source": [
    "import torch"
   ]
  },
  {
   "cell_type": "code",
   "execution_count": 43,
   "metadata": {},
   "outputs": [
    {
     "data": {
      "text/plain": [
       "True"
      ]
     },
     "execution_count": 43,
     "metadata": {},
     "output_type": "execute_result"
    }
   ],
   "source": [
    "torch.cuda.is_available()"
   ]
  },
  {
   "cell_type": "code",
   "execution_count": 44,
   "metadata": {},
   "outputs": [
    {
     "data": {
      "text/plain": [
       "'12.1'"
      ]
     },
     "execution_count": 44,
     "metadata": {},
     "output_type": "execute_result"
    }
   ],
   "source": [
    "torch.version.cuda"
   ]
  },
  {
   "cell_type": "code",
   "execution_count": 45,
   "metadata": {},
   "outputs": [
    {
     "data": {
      "text/plain": [
       "1"
      ]
     },
     "execution_count": 45,
     "metadata": {},
     "output_type": "execute_result"
    }
   ],
   "source": [
    "torch.cuda.device_count()"
   ]
  },
  {
   "cell_type": "code",
   "execution_count": 46,
   "metadata": {},
   "outputs": [
    {
     "data": {
      "text/plain": [
       "'NVIDIA GeForce RTX 3060 Laptop GPU'"
      ]
     },
     "execution_count": 46,
     "metadata": {},
     "output_type": "execute_result"
    }
   ],
   "source": [
    "torch.cuda.get_device_name(0)"
   ]
  },
  {
   "cell_type": "code",
   "execution_count": null,
   "metadata": {},
   "outputs": [],
   "source": []
  }
 ],
 "metadata": {
  "kernelspec": {
   "display_name": "Python 3 (ipykernel)",
   "language": "python",
   "name": "python3"
  },
  "language_info": {
   "codemirror_mode": {
    "name": "ipython",
    "version": 3
   },
   "file_extension": ".py",
   "mimetype": "text/x-python",
   "name": "python",
   "nbconvert_exporter": "python",
   "pygments_lexer": "ipython3",
   "version": "3.10.12"
  }
 },
 "nbformat": 4,
 "nbformat_minor": 4
}
