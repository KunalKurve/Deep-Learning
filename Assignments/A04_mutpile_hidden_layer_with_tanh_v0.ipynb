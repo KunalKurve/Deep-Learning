{
  "cells": [
    {
      "cell_type": "code",
      "execution_count": null,
      "metadata": {
        "id": "kFZRpLpK02pB",
        "tags": []
      },
      "outputs": [],
      "source": [
        "#!/usr/bin/env python\n",
        "# -*- coding: utf-8 -*-"
      ]
    },
    {
      "cell_type": "markdown",
      "metadata": {
        "id": "UlDVStuIVOKr"
      },
      "source": [
        "Your Name and PRN:\n",
        "- Name: ______________________\n",
        "- PRN : ______________________\n",
        "- Date: ______________________"
      ]
    },
    {
      "cell_type": "markdown",
      "metadata": {
        "id": "deSnZmVy02pF",
        "tags": []
      },
      "source": [
        "# Image Processing with Neural Network\n",
        "\n",
        "## Assignment: A04\n",
        "### Take Neural Network with :\n",
        "- Multiple hidden layers\n",
        "- Activation function of your choice\n",
        "\n",
        "\n",
        "### Assignment\n",
        "- **Q1**: Is this model more accurate compared to previous model?\n",
        "- **Q2**: Prepare table by changing number of neurons in hidden layer, learning rate and observe change in results. Also comment on your results.\n",
        "\n",
        "|#|Dimension of hidden layer|Learning rate|Training Accuracy|Test Accuracy|Comment|\n",
        "|:-:|:-:|:-:|:-:|:-:|:--|\n",
        "|1|4|0.1|0.97|0.96|Base case||1|4|0.1|0.97|0.96|Base case|\n",
        "|2|1|1|???|???|???|\n",
        "|...|...|...|...|...|...|\n",
        "|n|...|...|...|...|...|"
      ]
    },
    {
      "cell_type": "code",
      "execution_count": null,
      "metadata": {
        "id": "x51yk-bjVOKv"
      },
      "outputs": [],
      "source": []
    },
    {
      "cell_type": "markdown",
      "metadata": {},
      "source": [
        "### Assignment\n",
        "- **Q1**: Is this model more accurate compared to previous model?\n",
        "- **Q2**: Prepare table by changing number of neurons in hidden layer, learning rate and observe change in results. Also comment on your results.\n",
        "\n",
        "|#|Dimension of hidden layer|Learning rate|Training Accuracy|Test Accuracy|Comment|\n",
        "|:-:|:-:|:-:|:-:|:-:|:--|\n",
        "|1|5-5-4-3-2|0.1|0.97|0.96|Base case||1|4|0.1|0.97|0.96|Base case|\n",
        "|2|5-5-4-3-2|1|???|???|???|\n",
        "|3|10-5-4-3-2|0.1|???|???|???|\n",
        "|4|10-5-4-3-2|1|???|???|???|\n",
        "|5|4-5-10-5-4|0.1|???|???|???|\n",
        "|6|4-5-10-5-4|0.5|???|???|???|\n",
        "|7|4-5-10-5-4|1|???|???|???|\n",
        "|8|10-5-4-3-2|0.1|???|???|???|\n",
        "|9|10-5-4-3-2|0.5|???|???|???|\n",
        "|10|10-5-4-3-2|1|???|???|???|"
      ]
    }
  ],
  "metadata": {
    "accelerator": "GPU",
    "colab": {
      "provenance": []
    },
    "kernelspec": {
      "display_name": "Python 3 (ipykernel)",
      "language": "python",
      "name": "python3"
    },
    "language_info": {
      "codemirror_mode": {
        "name": "ipython",
        "version": 3
      },
      "file_extension": ".py",
      "mimetype": "text/x-python",
      "name": "python",
      "nbconvert_exporter": "python",
      "pygments_lexer": "ipython3",
      "version": "3.10.12"
    }
  },
  "nbformat": 4,
  "nbformat_minor": 0
}
